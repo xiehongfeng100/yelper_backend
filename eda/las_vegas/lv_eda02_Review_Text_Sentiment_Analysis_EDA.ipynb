{
 "cells": [
  {
   "cell_type": "markdown",
   "metadata": {},
   "source": [
    "# Las Vegas 评论文本情感分析 EDA\n",
    "\n",
    "### 该 Notebook 对应的博客[链接](XXX)\n",
    "\n",
    "### 该 Notebook 针对 Las Vegas 中的一家名为 Mon Ami Gabi 的商店进行探索性数据分析（Exploratory Data Analysis, EDA）"
   ]
  },
  {
   "cell_type": "code",
   "execution_count": 1,
   "metadata": {},
   "outputs": [],
   "source": [
    "import numpy as np\n",
    "import pandas as pd\n",
    "import matplotlib.pyplot as plt"
   ]
  },
  {
   "cell_type": "markdown",
   "metadata": {},
   "source": [
    "# 1. 加载数据\n",
    "\n",
    "商店 Mon Ami Gabi 的 db_id 可以直接在数据库中查询得到：\n",
    "![](images/sentiment/mon_ami_gabi_db_record.png)"
   ]
  },
  {
   "cell_type": "markdown",
   "metadata": {},
   "source": [
    "## 1.1 过滤出对商店 Mon Ami Gabi 的评论 db_id"
   ]
  },
  {
   "cell_type": "code",
   "execution_count": 2,
   "metadata": {},
   "outputs": [],
   "source": [
    "yelp_lv_rvs = pd.read_csv('../../dataset/las_vegas/review/las_vegas_review_with_db_id.csv')"
   ]
  },
  {
   "cell_type": "code",
   "execution_count": 3,
   "metadata": {},
   "outputs": [
    {
     "data": {
      "text/html": [
       "<div>\n",
       "<style scoped>\n",
       "    .dataframe tbody tr th:only-of-type {\n",
       "        vertical-align: middle;\n",
       "    }\n",
       "\n",
       "    .dataframe tbody tr th {\n",
       "        vertical-align: top;\n",
       "    }\n",
       "\n",
       "    .dataframe thead th {\n",
       "        text-align: right;\n",
       "    }\n",
       "</style>\n",
       "<table border=\"1\" class=\"dataframe\">\n",
       "  <thead>\n",
       "    <tr style=\"text-align: right;\">\n",
       "      <th></th>\n",
       "      <th>db_id</th>\n",
       "      <th>review_id</th>\n",
       "      <th>user_db_id</th>\n",
       "      <th>business_db_id</th>\n",
       "      <th>stars</th>\n",
       "      <th>year</th>\n",
       "    </tr>\n",
       "  </thead>\n",
       "  <tbody>\n",
       "    <tr>\n",
       "      <th>0</th>\n",
       "      <td>3</td>\n",
       "      <td>---3OXpexMp0oAg77xWfYA</td>\n",
       "      <td>999269</td>\n",
       "      <td>92729</td>\n",
       "      <td>5</td>\n",
       "      <td>2012</td>\n",
       "    </tr>\n",
       "    <tr>\n",
       "      <th>1</th>\n",
       "      <td>6</td>\n",
       "      <td>---94vtJ_5o_nikEs6hUjg</td>\n",
       "      <td>313272</td>\n",
       "      <td>122971</td>\n",
       "      <td>5</td>\n",
       "      <td>2014</td>\n",
       "    </tr>\n",
       "    <tr>\n",
       "      <th>2</th>\n",
       "      <td>8</td>\n",
       "      <td>---D6-P4MpS86LYldBfX7w</td>\n",
       "      <td>735101</td>\n",
       "      <td>160943</td>\n",
       "      <td>4</td>\n",
       "      <td>2016</td>\n",
       "    </tr>\n",
       "    <tr>\n",
       "      <th>3</th>\n",
       "      <td>20</td>\n",
       "      <td>---WDP9kwKyVQiw9GTgNmQ</td>\n",
       "      <td>1045600</td>\n",
       "      <td>12131</td>\n",
       "      <td>1</td>\n",
       "      <td>2014</td>\n",
       "    </tr>\n",
       "    <tr>\n",
       "      <th>4</th>\n",
       "      <td>22</td>\n",
       "      <td>---zHMCae68gIbSbtXxD5w</td>\n",
       "      <td>971613</td>\n",
       "      <td>15470</td>\n",
       "      <td>4</td>\n",
       "      <td>2015</td>\n",
       "    </tr>\n",
       "  </tbody>\n",
       "</table>\n",
       "</div>"
      ],
      "text/plain": [
       "   db_id               review_id  user_db_id  business_db_id  stars  year\n",
       "0      3  ---3OXpexMp0oAg77xWfYA      999269           92729      5  2012\n",
       "1      6  ---94vtJ_5o_nikEs6hUjg      313272          122971      5  2014\n",
       "2      8  ---D6-P4MpS86LYldBfX7w      735101          160943      4  2016\n",
       "3     20  ---WDP9kwKyVQiw9GTgNmQ     1045600           12131      1  2014\n",
       "4     22  ---zHMCae68gIbSbtXxD5w      971613           15470      4  2015"
      ]
     },
     "execution_count": 3,
     "metadata": {},
     "output_type": "execute_result"
    }
   ],
   "source": [
    "yelp_lv_rvs[:5]"
   ]
  },
  {
   "cell_type": "code",
   "execution_count": 4,
   "metadata": {},
   "outputs": [],
   "source": [
    "mag_rv_db_ids = yelp_lv_rvs[yelp_lv_rvs.business_db_id==14826]['db_id'].values"
   ]
  },
  {
   "cell_type": "code",
   "execution_count": 5,
   "metadata": {},
   "outputs": [
    {
     "data": {
      "text/plain": [
       "7362"
      ]
     },
     "execution_count": 5,
     "metadata": {},
     "output_type": "execute_result"
    }
   ],
   "source": [
    "len(mag_rv_db_ids)"
   ]
  },
  {
   "cell_type": "markdown",
   "metadata": {},
   "source": [
    "## 1.2 过滤出商店 Mon Ami Gabi 的评论文本内容（已预处理过）"
   ]
  },
  {
   "cell_type": "code",
   "execution_count": 6,
   "metadata": {},
   "outputs": [],
   "source": [
    "yelp_lv_rts = pd.read_csv('../../dataset/las_vegas/review/las_vegas_review_text_preprocessed_with_db_id.csv')"
   ]
  },
  {
   "cell_type": "code",
   "execution_count": 7,
   "metadata": {},
   "outputs": [
    {
     "data": {
      "text/plain": [
       "1604044"
      ]
     },
     "execution_count": 7,
     "metadata": {},
     "output_type": "execute_result"
    }
   ],
   "source": [
    "len(yelp_lv_rts)"
   ]
  },
  {
   "cell_type": "code",
   "execution_count": 8,
   "metadata": {},
   "outputs": [],
   "source": [
    "mag_rts = yelp_lv_rts[yelp_lv_rts.review_db_id.isin(mag_rv_db_ids)]"
   ]
  },
  {
   "cell_type": "code",
   "execution_count": 9,
   "metadata": {},
   "outputs": [
    {
     "data": {
      "text/plain": [
       "7359"
      ]
     },
     "execution_count": 9,
     "metadata": {},
     "output_type": "execute_result"
    }
   ],
   "source": [
    "len(mag_rts)"
   ]
  },
  {
   "cell_type": "code",
   "execution_count": 10,
   "metadata": {},
   "outputs": [
    {
     "data": {
      "text/html": [
       "<div>\n",
       "<style scoped>\n",
       "    .dataframe tbody tr th:only-of-type {\n",
       "        vertical-align: middle;\n",
       "    }\n",
       "\n",
       "    .dataframe tbody tr th {\n",
       "        vertical-align: top;\n",
       "    }\n",
       "\n",
       "    .dataframe thead th {\n",
       "        text-align: right;\n",
       "    }\n",
       "</style>\n",
       "<table border=\"1\" class=\"dataframe\">\n",
       "  <thead>\n",
       "    <tr style=\"text-align: right;\">\n",
       "      <th></th>\n",
       "      <th>review_db_id</th>\n",
       "      <th>text_words</th>\n",
       "    </tr>\n",
       "  </thead>\n",
       "  <tbody>\n",
       "    <tr>\n",
       "      <th>16</th>\n",
       "      <td>46</td>\n",
       "      <td>romantic spot lv great people watch nice menu ...</td>\n",
       "    </tr>\n",
       "    <tr>\n",
       "      <th>889</th>\n",
       "      <td>2821</td>\n",
       "      <td>great food incredible breakfast french toast m...</td>\n",
       "    </tr>\n",
       "    <tr>\n",
       "      <th>942</th>\n",
       "      <td>3020</td>\n",
       "      <td>brenda daughter take u mon ami gabi sunday bre...</td>\n",
       "    </tr>\n",
       "    <tr>\n",
       "      <th>1084</th>\n",
       "      <td>3479</td>\n",
       "      <td>thank perry check visit also thank breakfast s...</td>\n",
       "    </tr>\n",
       "    <tr>\n",
       "      <th>1201</th>\n",
       "      <td>3884</td>\n",
       "      <td>birthday seat outside weather comfortable file...</td>\n",
       "    </tr>\n",
       "  </tbody>\n",
       "</table>\n",
       "</div>"
      ],
      "text/plain": [
       "      review_db_id                                         text_words\n",
       "16              46  romantic spot lv great people watch nice menu ...\n",
       "889           2821  great food incredible breakfast french toast m...\n",
       "942           3020  brenda daughter take u mon ami gabi sunday bre...\n",
       "1084          3479  thank perry check visit also thank breakfast s...\n",
       "1201          3884  birthday seat outside weather comfortable file..."
      ]
     },
     "execution_count": 10,
     "metadata": {},
     "output_type": "execute_result"
    }
   ],
   "source": [
    "mag_rts[:5]"
   ]
  },
  {
   "cell_type": "markdown",
   "metadata": {},
   "source": [
    "## 1.3 将评论文本内容拆分成列表"
   ]
  },
  {
   "cell_type": "code",
   "execution_count": 11,
   "metadata": {},
   "outputs": [],
   "source": [
    "mag_rv_text_words = [words.split(' ') for words in mag_rts.text_words]"
   ]
  },
  {
   "cell_type": "code",
   "execution_count": 12,
   "metadata": {},
   "outputs": [
    {
     "data": {
      "text/plain": [
       "7359"
      ]
     },
     "execution_count": 12,
     "metadata": {},
     "output_type": "execute_result"
    }
   ],
   "source": [
    "len(mag_rv_text_words)"
   ]
  },
  {
   "cell_type": "code",
   "execution_count": 13,
   "metadata": {},
   "outputs": [
    {
     "data": {
      "text/plain": [
       "[['romantic',\n",
       "  'spot',\n",
       "  'lv',\n",
       "  'great',\n",
       "  'people',\n",
       "  'watch',\n",
       "  'nice',\n",
       "  'menu',\n",
       "  'good',\n",
       "  'food',\n",
       "  'service',\n",
       "  'must',\n",
       "  'come',\n",
       "  'la',\n",
       "  'vega'],\n",
       " ['great',\n",
       "  'food',\n",
       "  'incredible',\n",
       "  'breakfast',\n",
       "  'french',\n",
       "  'toast',\n",
       "  'must',\n",
       "  'great',\n",
       "  'location',\n",
       "  'vive',\n",
       "  'always',\n",
       "  'pack',\n",
       "  'excellent',\n",
       "  'service']]"
      ]
     },
     "execution_count": 13,
     "metadata": {},
     "output_type": "execute_result"
    }
   ],
   "source": [
    "mag_rv_text_words[:2]"
   ]
  },
  {
   "cell_type": "markdown",
   "metadata": {},
   "source": [
    "# 2. 商店 Mon Ami Gabi EDA"
   ]
  },
  {
   "cell_type": "markdown",
   "metadata": {},
   "source": [
    "## 2.1 前 10 个最正面和最负面的评价词\n",
    "\n",
    "这里我们采用的 Python 库 Affin 是一个基于**词**的情感分析库，下边是其[官方介绍](https://github.com/fnielsen/afinn)：\n",
    "\n",
    "> AFINN sentiment analysis in Python: Wordlist-based approach for sentiment analysis."
   ]
  },
  {
   "cell_type": "code",
   "execution_count": 14,
   "metadata": {},
   "outputs": [],
   "source": [
    "from afinn import Afinn"
   ]
  },
  {
   "cell_type": "code",
   "execution_count": 15,
   "metadata": {},
   "outputs": [
    {
     "data": {
      "text/plain": [
       "13174"
      ]
     },
     "execution_count": 15,
     "metadata": {},
     "output_type": "execute_result"
    }
   ],
   "source": [
    "# 过滤掉重复词\n",
    "unique_rv_words = set()\n",
    "for words in mag_rv_text_words:\n",
    "    unique_rv_words |= set(words)\n",
    "len(unique_rv_words)"
   ]
  },
  {
   "cell_type": "code",
   "execution_count": 16,
   "metadata": {},
   "outputs": [],
   "source": [
    "af = Afinn()\n",
    "sentiment_scores = pd.Series() # 这里用 pandas Series 主要是方便下边找 TOP 10 和绘图\n",
    "for word in unique_rv_words:\n",
    "    sentiment_scores = sentiment_scores.append(pd.Series([af.score(word)], index=[word]))"
   ]
  },
  {
   "cell_type": "code",
   "execution_count": 17,
   "metadata": {},
   "outputs": [
    {
     "data": {
      "text/plain": [
       "<matplotlib.axes._subplots.AxesSubplot at 0x7fbd54814dd0>"
      ]
     },
     "execution_count": 17,
     "metadata": {},
     "output_type": "execute_result"
    },
    {
     "data": {
      "image/png": "[encoded data removed]",
      "text/plain": [
       "<Figure size 1080x576 with 1 Axes>"
      ]
     },
     "metadata": {},
     "output_type": "display_data"
    }
   ],
   "source": [
    "# 绘制前 10 个最正面和最负面的评价词情感值\n",
    "# 由结果可以看出，用 Affin 库得到的结果还是比较准确的\n",
    "sentiment_scores.nlargest(10).\\\n",
    "    append(sentiment_scores.nsmallest(10)).\\\n",
    "        plot(kind='barh', figsize=(15, 8))"
   ]
  },
  {
   "cell_type": "markdown",
   "metadata": {},
   "source": [
    "## 2.2 计算每一个评论的情感值\n",
    "\n",
    "每一个评论的情感值为该评论中所有词的情感值的平均值"
   ]
  },
  {
   "cell_type": "code",
   "execution_count": 18,
   "metadata": {},
   "outputs": [],
   "source": [
    "mag_rts = mag_rts.assign(sentiment=[np.mean([af.score(word) for word in words]) for words in mag_rv_text_words])"
   ]
  },
  {
   "cell_type": "code",
   "execution_count": 19,
   "metadata": {},
   "outputs": [
    {
     "data": {
      "text/html": [
       "<div>\n",
       "<style scoped>\n",
       "    .dataframe tbody tr th:only-of-type {\n",
       "        vertical-align: middle;\n",
       "    }\n",
       "\n",
       "    .dataframe tbody tr th {\n",
       "        vertical-align: top;\n",
       "    }\n",
       "\n",
       "    .dataframe thead th {\n",
       "        text-align: right;\n",
       "    }\n",
       "</style>\n",
       "<table border=\"1\" class=\"dataframe\">\n",
       "  <thead>\n",
       "    <tr style=\"text-align: right;\">\n",
       "      <th></th>\n",
       "      <th>review_db_id</th>\n",
       "      <th>sentiment</th>\n",
       "    </tr>\n",
       "  </thead>\n",
       "  <tbody>\n",
       "    <tr>\n",
       "      <th>16</th>\n",
       "      <td>46</td>\n",
       "      <td>0.600000</td>\n",
       "    </tr>\n",
       "    <tr>\n",
       "      <th>889</th>\n",
       "      <td>2821</td>\n",
       "      <td>0.642857</td>\n",
       "    </tr>\n",
       "    <tr>\n",
       "      <th>942</th>\n",
       "      <td>3020</td>\n",
       "      <td>0.200758</td>\n",
       "    </tr>\n",
       "    <tr>\n",
       "      <th>1084</th>\n",
       "      <td>3479</td>\n",
       "      <td>0.562500</td>\n",
       "    </tr>\n",
       "    <tr>\n",
       "      <th>1201</th>\n",
       "      <td>3884</td>\n",
       "      <td>0.333333</td>\n",
       "    </tr>\n",
       "    <tr>\n",
       "      <th>1441</th>\n",
       "      <td>4621</td>\n",
       "      <td>0.428571</td>\n",
       "    </tr>\n",
       "    <tr>\n",
       "      <th>1597</th>\n",
       "      <td>5177</td>\n",
       "      <td>0.057143</td>\n",
       "    </tr>\n",
       "    <tr>\n",
       "      <th>1603</th>\n",
       "      <td>5196</td>\n",
       "      <td>0.253968</td>\n",
       "    </tr>\n",
       "    <tr>\n",
       "      <th>1655</th>\n",
       "      <td>5350</td>\n",
       "      <td>0.166667</td>\n",
       "    </tr>\n",
       "    <tr>\n",
       "      <th>1758</th>\n",
       "      <td>5688</td>\n",
       "      <td>0.526316</td>\n",
       "    </tr>\n",
       "  </tbody>\n",
       "</table>\n",
       "</div>"
      ],
      "text/plain": [
       "      review_db_id  sentiment\n",
       "16              46   0.600000\n",
       "889           2821   0.642857\n",
       "942           3020   0.200758\n",
       "1084          3479   0.562500\n",
       "1201          3884   0.333333\n",
       "1441          4621   0.428571\n",
       "1597          5177   0.057143\n",
       "1603          5196   0.253968\n",
       "1655          5350   0.166667\n",
       "1758          5688   0.526316"
      ]
     },
     "execution_count": 19,
     "metadata": {},
     "output_type": "execute_result"
    }
   ],
   "source": [
    "mag_rts[['review_db_id', 'sentiment']][:10]"
   ]
  },
  {
   "cell_type": "markdown",
   "metadata": {},
   "source": [
    "## 2.3 找出前 10 个最正面和最负面的评论文本"
   ]
  },
  {
   "cell_type": "code",
   "execution_count": 20,
   "metadata": {},
   "outputs": [],
   "source": [
    "yelp_ori_rvs = pd.read_csv('../../dataset/all/review.csv')"
   ]
  },
  {
   "cell_type": "code",
   "execution_count": 21,
   "metadata": {},
   "outputs": [],
   "source": [
    "pd.set_option('display.max_colwidth', -1)"
   ]
  },
  {
   "cell_type": "code",
   "execution_count": 22,
   "metadata": {},
   "outputs": [
    {
     "name": "stdout",
     "output_type": "stream",
     "text": [
      "4839142 #  Loved the chicken =] very good \n",
      "\n",
      "334944 #  Great food and awesome views \n",
      "\n",
      "1074898 #  Amazing   awesome   lovely  So nice to find a gem - had a lovely breakfast here.  Very reasonably priced, excellent food. \n",
      "\n",
      "3365047 #  Very good, excellent service , Steak Frite is outstanding . \n",
      "Mussels are  very good .\n",
      "Excellent location \n",
      "\n",
      "1134350 #  Delicious seafood. Great service. Awesome cocktails! \n",
      "\n",
      "2668526 #  Best nice dinner deal in Vegas! Yummy, affordable, and with great portions. \n",
      "\n",
      "786037 #  Very good salmon\n",
      "Nice ambience\n",
      "Nice view \n",
      "Good service \n",
      "\n",
      "3277705 #  Great ambience! Good food. Pleasant experience. \n",
      "\n",
      "4912818 #  We had an awesome breakfast and will definitely come back for other meals.  Delicious, creative, superb service and wonderful ambience! \n",
      "\n",
      "1758893 #  Wonderful food, great service and the soups are always good! \n",
      "\n"
     ]
    }
   ],
   "source": [
    "# Top 10 positive reviews\n",
    "for review_db_id in mag_rts.nlargest(10, 'sentiment')['review_db_id']:\n",
    "    review_id = yelp_lv_rvs[yelp_lv_rvs.db_id==review_db_id]['review_id'].values[0]\n",
    "    print review_db_id, '# ', yelp_ori_rvs[yelp_ori_rvs.review_id==review_id]['text'].values[0], '\\n'"
   ]
  },
  {
   "cell_type": "code",
   "execution_count": 23,
   "metadata": {},
   "outputs": [
    {
     "name": "stdout",
     "output_type": "stream",
     "text": [
      "MtHh5xldXg6p7IDs5KjbJg #  The food was decent. Servicer was terrible. They charge me for two bottles I stole ..... Wtf . \n",
      "\n",
      "-JwlVaN6hdbqI3ztHkA2Xg #  Do the patio and the bloody Mary bar. \n",
      "\n",
      "1mvrW4noBECcjegA7-jtcg #  Very bad \n",
      "Had nothing to do with French food. Except for few French words on the menus maybe!!!\n",
      "What a shame... \n",
      "\n",
      "QnMcPoJHUBUQzbGxZEaAaA #  This is the most horrible restaurant in the strip. Really bad service , the wine was warm .. The waiter was super rude .. And the ladies on the entrance when we reported what happens they just stay quite. Horrible. Food also expensive and really bad \n",
      "\n",
      "faFB96PZTpBIuxLYIzVV_g #  Worst food I ever had. Complained to the staff, they were rude. Called the manager over, he was even more rude and basically didn't believe me that the food was bad. Needless to say, I ended up in urgent care and was sick all night long. Never coming back here again. The only thing French about this restaurant is the attitude of its staff. \n",
      "\n",
      "JA8IOiAnDn7xKjCUrGvRYA #  Les serveurs bidon ainsi que le pain.\n",
      "The service is very bad and the bread always from yesterday. \n",
      "\n",
      "40TmNE9Hx1lwvE2GLh8yng #  I was very unimpressed with both the food and service. So unimpressed and indifferent that I can't think of anything else to say than I just didn't like it. \n",
      "\n",
      "OFjwoRfepLCEihwmDwzIow #  Omg I've been here twice i got food poisoning last Saturday and ruined my Vegas trip! \n",
      "\n",
      "1BSCOSZ05bRkeDQ1yWSYkA #  Horrible service we was waiting for 1.5 hours to be seated and finally they give us the worst place and manager here is like an idiot I don't know who let him menage this butifull place \n",
      "\n",
      "C_WWS_dt2dVO_gSmMoE8sQ #  Hostess process sucked. They were very rude this morning. How many times do I have to give my name?  How much longer do I have to wait for my reservation? \n",
      "\n"
     ]
    }
   ],
   "source": [
    "# Top 10 negative reviews\n",
    "for review_db_id in mag_rts.nsmallest(10, 'sentiment')['review_db_id']:\n",
    "    review_id = yelp_lv_rvs[yelp_lv_rvs.db_id==review_db_id]['review_id'].values[0]\n",
    "    print review_id, '# ', yelp_ori_rvs[yelp_ori_rvs.review_id==review_id]['text'].values[0], '\\n'"
   ]
  },
  {
   "cell_type": "code",
   "execution_count": null,
   "metadata": {},
   "outputs": [],
   "source": []
  }
 ],
 "metadata": {
  "kernelspec": {
   "display_name": "Python 2",
   "language": "python",
   "name": "python2"
  },
  "language_info": {
   "codemirror_mode": {
    "name": "ipython",
    "version": 2
   },
   "file_extension": ".py",
   "mimetype": "text/x-python",
   "name": "python",
   "nbconvert_exporter": "python",
   "pygments_lexer": "ipython2",
   "version": "2.7.14"
  }
 },
 "nbformat": 4,
 "nbformat_minor": 2
}

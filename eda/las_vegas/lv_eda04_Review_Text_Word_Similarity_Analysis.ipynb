{
 "cells": [
  {
   "cell_type": "markdown",
   "metadata": {},
   "source": [
    "# Las Vegas 评论文本中词汇相似度分析\n",
    "\n",
    "### 该 Notebook 对应的博客[链接](XXX)\n",
    "\n",
    "用户在查找商店的时候一般会输入关键词进行搜索，从而找到跟该关键词相似度较高的商店。具体实现是通过 Word2Vec 工具，对评论文本中词汇进行相似度分析。"
   ]
  },
  {
   "cell_type": "code",
   "execution_count": 1,
   "metadata": {},
   "outputs": [],
   "source": [
    "import pandas as pd"
   ]
  },
  {
   "cell_type": "markdown",
   "metadata": {},
   "source": [
    "# 1. 加载评论文本数据"
   ]
  },
  {
   "cell_type": "code",
   "execution_count": 2,
   "metadata": {},
   "outputs": [],
   "source": [
    "yelp_lv_rts = pd.read_csv('../../dataset/las_vegas/review/las_vegas_review_text_preprocessed_with_db_id.csv')"
   ]
  },
  {
   "cell_type": "code",
   "execution_count": 3,
   "metadata": {},
   "outputs": [
    {
     "data": {
      "text/plain": [
       "1604044"
      ]
     },
     "execution_count": 3,
     "metadata": {},
     "output_type": "execute_result"
    }
   ],
   "source": [
    "len(yelp_lv_rts)"
   ]
  },
  {
   "cell_type": "code",
   "execution_count": 4,
   "metadata": {},
   "outputs": [
    {
     "data": {
      "text/html": [
       "<div>\n",
       "<style scoped>\n",
       "    .dataframe tbody tr th:only-of-type {\n",
       "        vertical-align: middle;\n",
       "    }\n",
       "\n",
       "    .dataframe tbody tr th {\n",
       "        vertical-align: top;\n",
       "    }\n",
       "\n",
       "    .dataframe thead th {\n",
       "        text-align: right;\n",
       "    }\n",
       "</style>\n",
       "<table border=\"1\" class=\"dataframe\">\n",
       "  <thead>\n",
       "    <tr style=\"text-align: right;\">\n",
       "      <th></th>\n",
       "      <th>review_db_id</th>\n",
       "      <th>text_words</th>\n",
       "    </tr>\n",
       "  </thead>\n",
       "  <tbody>\n",
       "    <tr>\n",
       "      <th>0</th>\n",
       "      <td>3</td>\n",
       "      <td>pizza make night good people great pizza anyth...</td>\n",
       "    </tr>\n",
       "    <tr>\n",
       "      <th>1</th>\n",
       "      <td>6</td>\n",
       "      <td>one absolute favorite restaurant usually go on...</td>\n",
       "    </tr>\n",
       "    <tr>\n",
       "      <th>2</th>\n",
       "      <td>8</td>\n",
       "      <td>know place star lifesaver stay mandalay bay lo...</td>\n",
       "    </tr>\n",
       "    <tr>\n",
       "      <th>3</th>\n",
       "      <td>20</td>\n",
       "      <td>nd time eat today st time great dont think hus...</td>\n",
       "    </tr>\n",
       "    <tr>\n",
       "      <th>4</th>\n",
       "      <td>22</td>\n",
       "      <td>regal locate village square super convenient p...</td>\n",
       "    </tr>\n",
       "  </tbody>\n",
       "</table>\n",
       "</div>"
      ],
      "text/plain": [
       "   review_db_id                                         text_words\n",
       "0             3  pizza make night good people great pizza anyth...\n",
       "1             6  one absolute favorite restaurant usually go on...\n",
       "2             8  know place star lifesaver stay mandalay bay lo...\n",
       "3            20  nd time eat today st time great dont think hus...\n",
       "4            22  regal locate village square super convenient p..."
      ]
     },
     "execution_count": 4,
     "metadata": {},
     "output_type": "execute_result"
    }
   ],
   "source": [
    "yelp_lv_rts[:5]"
   ]
  },
  {
   "cell_type": "code",
   "execution_count": 5,
   "metadata": {},
   "outputs": [],
   "source": [
    "text_words = [words.split(' ') for words in yelp_lv_rts.text_words]"
   ]
  },
  {
   "cell_type": "markdown",
   "metadata": {},
   "source": [
    "# 2. Word2Vec 建模\n",
    "\n",
    "关于 Gensim Word2Vec 参数解释可参考[官方文档](https://radimrehurek.com/gensim/models/word2vec.html#gensim.models.word2vec.Word2Vec)。"
   ]
  },
  {
   "cell_type": "markdown",
   "metadata": {},
   "source": [
    "## 2.1 训练并保存模型"
   ]
  },
  {
   "cell_type": "code",
   "execution_count": 6,
   "metadata": {},
   "outputs": [],
   "source": [
    "from gensim.models import word2vec"
   ]
  },
  {
   "cell_type": "code",
   "execution_count": 7,
   "metadata": {},
   "outputs": [],
   "source": [
    "# Creating the model and setting values for the various parameters\n",
    "sg = 0               # 使用 CBOW（另一种是 Skip-gram）\n",
    "hs = 1               # 选择 Hierarchical Softmax 训练方法（另一种是 Negative Sampling）\n",
    "num_iter = 10        # 迭代次数\n",
    "num_features = 300   # 词向量维度\n",
    "min_word_count = 40  # 计算词向量的最小词频。这个值可以去掉一些很生僻的低频词\n",
    "context = 10         # 词向量上下文最大距离\n",
    "num_workers = 10     # 并发线程数\n",
    "downsampling = 1e-3  # （高频词）下采样阈值"
   ]
  },
  {
   "cell_type": "code",
   "execution_count": 8,
   "metadata": {},
   "outputs": [
    {
     "name": "stdout",
     "output_type": "stream",
     "text": [
      "CPU times: user 2h 20min 56s, sys: 20.4 s, total: 2h 21min 17s\n",
      "Wall time: 14min 40s\n"
     ]
    }
   ],
   "source": [
    "%%time\n",
    "\n",
    "# 训练 Word2Vec 模型\n",
    "model = word2vec.Word2Vec(text_words,\\\n",
    "                          workers=num_workers,\\\n",
    "                          sg=sg,\\\n",
    "                          hs=hs,\\\n",
    "                          iter=num_iter,\\\n",
    "                          size=num_features,\\\n",
    "                          min_count=min_word_count,\\\n",
    "                          window=context,\n",
    "                          sample=downsampling)\n",
    "\n",
    "# 舍弃原始词向量，只保留施加正则之后词向量，提高内存使用效率, Ref: https://radimrehurek.com/gensim/models/keyedvectors.html#gensim.models.keyedvectors.Word2VecKeyedVectors.init_sims\n",
    "model.init_sims(replace=True)"
   ]
  },
  {
   "cell_type": "code",
   "execution_count": 9,
   "metadata": {},
   "outputs": [],
   "source": [
    "# 保存模型\n",
    "model.save('yelp_las_vegas_review_text_word_similarities_model')"
   ]
  },
  {
   "cell_type": "markdown",
   "metadata": {},
   "source": [
    "## 2.2 测试 "
   ]
  },
  {
   "cell_type": "code",
   "execution_count": 10,
   "metadata": {},
   "outputs": [
    {
     "data": {
      "text/plain": [
       "array([-0.0656217 , -0.08170802,  0.04135355, -0.02397001, -0.01003061,\n",
       "       -0.05073321, -0.037329  , -0.08237506, -0.00115939, -0.07006032],\n",
       "      dtype=float32)"
      ]
     },
     "execution_count": 10,
     "metadata": {},
     "output_type": "execute_result"
    }
   ],
   "source": [
    "# 查看词 bbq 的词向量\n",
    "model.wv['bbq'][:10]"
   ]
  },
  {
   "cell_type": "code",
   "execution_count": 11,
   "metadata": {},
   "outputs": [
    {
     "data": {
      "text/plain": [
       "[('barbecue', 0.8572158217430115),\n",
       " ('barbeque', 0.77912437915802),\n",
       " ('brisket', 0.6074708700180054),\n",
       " ('ribs', 0.5418552160263062),\n",
       " ('korean', 0.49812448024749756),\n",
       " ('bbqs', 0.4939558506011963),\n",
       " ('kalbi', 0.4618802070617676),\n",
       " ('dickey', 0.43527039885520935),\n",
       " ('memphis', 0.43213239312171936),\n",
       " ('riblets', 0.431049108505249)]"
      ]
     },
     "execution_count": 11,
     "metadata": {},
     "output_type": "execute_result"
    }
   ],
   "source": [
    "# 产看跟词 bbq 最相似的 10 个词\n",
    "model.wv.most_similar('bbq')"
   ]
  },
  {
   "cell_type": "code",
   "execution_count": 12,
   "metadata": {},
   "outputs": [
    {
     "data": {
      "text/plain": [
       "[('hilarious', 0.7780593633651733),\n",
       " ('laugh', 0.5951111316680908),\n",
       " ('witty', 0.5746638774871826),\n",
       " ('humorous', 0.5719525814056396),\n",
       " ('hysterical', 0.566609263420105),\n",
       " ('entertaining', 0.5625545382499695),\n",
       " ('corny', 0.5624991655349731),\n",
       " ('entertain', 0.5589728355407715),\n",
       " ('laughed', 0.5135879516601562),\n",
       " ('comedian', 0.5086338520050049)]"
      ]
     },
     "execution_count": 12,
     "metadata": {},
     "output_type": "execute_result"
    }
   ],
   "source": [
    "model.wv.most_similar('funny')"
   ]
  },
  {
   "cell_type": "markdown",
   "metadata": {},
   "source": [
    "## 2.3 加载模型"
   ]
  },
  {
   "cell_type": "code",
   "execution_count": 13,
   "metadata": {},
   "outputs": [],
   "source": [
    "loaded_model = word2vec.Word2Vec.load('yelp_las_vegas_review_text_word_similarities_model')"
   ]
  },
  {
   "cell_type": "code",
   "execution_count": 14,
   "metadata": {},
   "outputs": [
    {
     "data": {
      "text/plain": [
       "[('barbecue', 0.8572158217430115),\n",
       " ('barbeque', 0.77912437915802),\n",
       " ('brisket', 0.6074708700180054),\n",
       " ('ribs', 0.5418552160263062),\n",
       " ('korean', 0.49812448024749756),\n",
       " ('bbqs', 0.4939558506011963),\n",
       " ('kalbi', 0.4618802070617676),\n",
       " ('dickey', 0.43527039885520935),\n",
       " ('memphis', 0.43213239312171936),\n",
       " ('riblets', 0.431049108505249)]"
      ]
     },
     "execution_count": 14,
     "metadata": {},
     "output_type": "execute_result"
    }
   ],
   "source": [
    "loaded_model.wv.most_similar('bbq')"
   ]
  },
  {
   "cell_type": "code",
   "execution_count": null,
   "metadata": {},
   "outputs": [],
   "source": []
  }
 ],
 "metadata": {
  "kernelspec": {
   "display_name": "Python 2",
   "language": "python",
   "name": "python2"
  },
  "language_info": {
   "codemirror_mode": {
    "name": "ipython",
    "version": 2
   },
   "file_extension": ".py",
   "mimetype": "text/x-python",
   "name": "python",
   "nbconvert_exporter": "python",
   "pygments_lexer": "ipython2",
   "version": "2.7.14"
  }
 },
 "nbformat": 4,
 "nbformat_minor": 2
}

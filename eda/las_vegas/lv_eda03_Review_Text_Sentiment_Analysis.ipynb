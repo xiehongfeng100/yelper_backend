{
 "cells": [
  {
   "cell_type": "markdown",
   "metadata": {},
   "source": [
    "# Las Vegas 评论文本情感分析\n",
    "\n",
    "### 该 Notebook 对应的博客[链接](http://xiehongfeng100.github.io/2018/08/09/yelper-las-vegas-review-text-sentiment-analysis/)\n",
    "\n",
    "如果说评论中的 stars 值代表了用户对某一个商店粗粒度的评价，那他或她写下的具体评论文本就代表了其对商店细粒度的评价。`对评论文本的情感分析能够给我们增加一个细粒度衡量商店好坏的角度。`\n",
    "\n",
    "下文使用了两种方法来对评论文本进行情感分析。一种基于 Affin 库，这个方法没有显式学习过程，作为一个 Baseline 跟第二种进行比较；第二种基于 CNN 模型，有具体学习过程。这两种方法在后文会做描述。"
   ]
  },
  {
   "cell_type": "code",
   "execution_count": 1,
   "metadata": {},
   "outputs": [],
   "source": [
    "import numpy as np\n",
    "import pandas as pd"
   ]
  },
  {
   "cell_type": "markdown",
   "metadata": {},
   "source": [
    "# 1. 加载数据"
   ]
  },
  {
   "cell_type": "markdown",
   "metadata": {},
   "source": [
    "## 1.1 评论数据集（不含文本）"
   ]
  },
  {
   "cell_type": "code",
   "execution_count": 2,
   "metadata": {},
   "outputs": [],
   "source": [
    "# 评论\n",
    "yelp_lv_rvs = pd.read_csv('../../dataset/las_vegas/review/las_vegas_review_with_db_id.csv')"
   ]
  },
  {
   "cell_type": "code",
   "execution_count": 3,
   "metadata": {},
   "outputs": [
    {
     "data": {
      "text/plain": [
       "1604246"
      ]
     },
     "execution_count": 3,
     "metadata": {},
     "output_type": "execute_result"
    }
   ],
   "source": [
    "len(yelp_lv_rvs)"
   ]
  },
  {
   "cell_type": "code",
   "execution_count": 4,
   "metadata": {},
   "outputs": [
    {
     "data": {
      "text/html": [
       "<div>\n",
       "<style scoped>\n",
       "    .dataframe tbody tr th:only-of-type {\n",
       "        vertical-align: middle;\n",
       "    }\n",
       "\n",
       "    .dataframe tbody tr th {\n",
       "        vertical-align: top;\n",
       "    }\n",
       "\n",
       "    .dataframe thead th {\n",
       "        text-align: right;\n",
       "    }\n",
       "</style>\n",
       "<table border=\"1\" class=\"dataframe\">\n",
       "  <thead>\n",
       "    <tr style=\"text-align: right;\">\n",
       "      <th></th>\n",
       "      <th>db_id</th>\n",
       "      <th>review_id</th>\n",
       "      <th>user_db_id</th>\n",
       "      <th>business_db_id</th>\n",
       "      <th>stars</th>\n",
       "      <th>year</th>\n",
       "    </tr>\n",
       "  </thead>\n",
       "  <tbody>\n",
       "    <tr>\n",
       "      <th>0</th>\n",
       "      <td>3</td>\n",
       "      <td>---3OXpexMp0oAg77xWfYA</td>\n",
       "      <td>999269</td>\n",
       "      <td>92729</td>\n",
       "      <td>5</td>\n",
       "      <td>2012</td>\n",
       "    </tr>\n",
       "    <tr>\n",
       "      <th>1</th>\n",
       "      <td>6</td>\n",
       "      <td>---94vtJ_5o_nikEs6hUjg</td>\n",
       "      <td>313272</td>\n",
       "      <td>122971</td>\n",
       "      <td>5</td>\n",
       "      <td>2014</td>\n",
       "    </tr>\n",
       "    <tr>\n",
       "      <th>2</th>\n",
       "      <td>8</td>\n",
       "      <td>---D6-P4MpS86LYldBfX7w</td>\n",
       "      <td>735101</td>\n",
       "      <td>160943</td>\n",
       "      <td>4</td>\n",
       "      <td>2016</td>\n",
       "    </tr>\n",
       "    <tr>\n",
       "      <th>3</th>\n",
       "      <td>20</td>\n",
       "      <td>---WDP9kwKyVQiw9GTgNmQ</td>\n",
       "      <td>1045600</td>\n",
       "      <td>12131</td>\n",
       "      <td>1</td>\n",
       "      <td>2014</td>\n",
       "    </tr>\n",
       "    <tr>\n",
       "      <th>4</th>\n",
       "      <td>22</td>\n",
       "      <td>---zHMCae68gIbSbtXxD5w</td>\n",
       "      <td>971613</td>\n",
       "      <td>15470</td>\n",
       "      <td>4</td>\n",
       "      <td>2015</td>\n",
       "    </tr>\n",
       "  </tbody>\n",
       "</table>\n",
       "</div>"
      ],
      "text/plain": [
       "   db_id               review_id  user_db_id  business_db_id  stars  year\n",
       "0      3  ---3OXpexMp0oAg77xWfYA      999269           92729      5  2012\n",
       "1      6  ---94vtJ_5o_nikEs6hUjg      313272          122971      5  2014\n",
       "2      8  ---D6-P4MpS86LYldBfX7w      735101          160943      4  2016\n",
       "3     20  ---WDP9kwKyVQiw9GTgNmQ     1045600           12131      1  2014\n",
       "4     22  ---zHMCae68gIbSbtXxD5w      971613           15470      4  2015"
      ]
     },
     "execution_count": 4,
     "metadata": {},
     "output_type": "execute_result"
    }
   ],
   "source": [
    "yelp_lv_rvs[:5]"
   ]
  },
  {
   "cell_type": "markdown",
   "metadata": {},
   "source": [
    "## 1.2 评论文本数据集"
   ]
  },
  {
   "cell_type": "code",
   "execution_count": 5,
   "metadata": {},
   "outputs": [],
   "source": [
    "# 评论文本\n",
    "yelp_lv_rts = pd.read_csv('../../dataset/las_vegas/review/las_vegas_review_text_preprocessed_with_db_id.csv')"
   ]
  },
  {
   "cell_type": "code",
   "execution_count": 6,
   "metadata": {},
   "outputs": [
    {
     "data": {
      "text/plain": [
       "1604044"
      ]
     },
     "execution_count": 6,
     "metadata": {},
     "output_type": "execute_result"
    }
   ],
   "source": [
    "len(yelp_lv_rts) # 这里值跟 len(yelp_lv_rvs) 不一致是因为评论文本之前处理过，一些非英语评论或空的都被清理掉，可参考 https://github.com/xiehongfeng100/yelper_dpps_and_eda/blob/master/dpps/las_vegas/lv_dpps04_Preprocess_Review_Text.ipynb"
   ]
  },
  {
   "cell_type": "code",
   "execution_count": 7,
   "metadata": {},
   "outputs": [
    {
     "data": {
      "text/html": [
       "<div>\n",
       "<style scoped>\n",
       "    .dataframe tbody tr th:only-of-type {\n",
       "        vertical-align: middle;\n",
       "    }\n",
       "\n",
       "    .dataframe tbody tr th {\n",
       "        vertical-align: top;\n",
       "    }\n",
       "\n",
       "    .dataframe thead th {\n",
       "        text-align: right;\n",
       "    }\n",
       "</style>\n",
       "<table border=\"1\" class=\"dataframe\">\n",
       "  <thead>\n",
       "    <tr style=\"text-align: right;\">\n",
       "      <th></th>\n",
       "      <th>review_db_id</th>\n",
       "      <th>text_words</th>\n",
       "    </tr>\n",
       "  </thead>\n",
       "  <tbody>\n",
       "    <tr>\n",
       "      <th>0</th>\n",
       "      <td>3</td>\n",
       "      <td>pizza make night good people great pizza anyth...</td>\n",
       "    </tr>\n",
       "    <tr>\n",
       "      <th>1</th>\n",
       "      <td>6</td>\n",
       "      <td>one absolute favorite restaurant usually go on...</td>\n",
       "    </tr>\n",
       "    <tr>\n",
       "      <th>2</th>\n",
       "      <td>8</td>\n",
       "      <td>know place star lifesaver stay mandalay bay lo...</td>\n",
       "    </tr>\n",
       "    <tr>\n",
       "      <th>3</th>\n",
       "      <td>20</td>\n",
       "      <td>nd time eat today st time great dont think hus...</td>\n",
       "    </tr>\n",
       "    <tr>\n",
       "      <th>4</th>\n",
       "      <td>22</td>\n",
       "      <td>regal locate village square super convenient p...</td>\n",
       "    </tr>\n",
       "  </tbody>\n",
       "</table>\n",
       "</div>"
      ],
      "text/plain": [
       "   review_db_id                                         text_words\n",
       "0             3  pizza make night good people great pizza anyth...\n",
       "1             6  one absolute favorite restaurant usually go on...\n",
       "2             8  know place star lifesaver stay mandalay bay lo...\n",
       "3            20  nd time eat today st time great dont think hus...\n",
       "4            22  regal locate village square super convenient p..."
      ]
     },
     "execution_count": 7,
     "metadata": {},
     "output_type": "execute_result"
    }
   ],
   "source": [
    "yelp_lv_rts[:5]"
   ]
  },
  {
   "cell_type": "markdown",
   "metadata": {},
   "source": [
    "# 2. 二值化评论文本情感度\n",
    "\n",
    "`评论中 stars 值为 5 的文本定为正面，stars 值为 1 或 2 的定为负面`（stars 值处于 3 或 4 的属于中等评价，不好定为正面或负面，所以这里直接舍弃）。注意这里我们并没有采用[按时间过滤过后的 stars 值](http://xiehongfeng100.github.io/2018/07/31/yelper-dpps-las-vegas-data-preprocessing/#stars-%E5%A4%84%E7%90%86)来作为文本正面或负面的度量，因为文本的情感跟时间几乎没有关系。"
   ]
  },
  {
   "cell_type": "markdown",
   "metadata": {},
   "source": [
    "## 2.1 获取评论数据集 db_id、stars 两列"
   ]
  },
  {
   "cell_type": "code",
   "execution_count": 8,
   "metadata": {},
   "outputs": [],
   "source": [
    "# 取出 db_id、stars 两列，并重命名 db_id 列为 review_db_id，以便于跟文本数据集进行合并\n",
    "rv_id_stars = yelp_lv_rvs[['db_id', 'stars']]\n",
    "rv_id_stars = rv_id_stars.rename(index=str, columns={'db_id': 'review_db_id'})"
   ]
  },
  {
   "cell_type": "code",
   "execution_count": 9,
   "metadata": {},
   "outputs": [
    {
     "data": {
      "text/plain": [
       "1604246"
      ]
     },
     "execution_count": 9,
     "metadata": {},
     "output_type": "execute_result"
    }
   ],
   "source": [
    "len(rv_id_stars)"
   ]
  },
  {
   "cell_type": "code",
   "execution_count": 10,
   "metadata": {},
   "outputs": [
    {
     "data": {
      "text/html": [
       "<div>\n",
       "<style scoped>\n",
       "    .dataframe tbody tr th:only-of-type {\n",
       "        vertical-align: middle;\n",
       "    }\n",
       "\n",
       "    .dataframe tbody tr th {\n",
       "        vertical-align: top;\n",
       "    }\n",
       "\n",
       "    .dataframe thead th {\n",
       "        text-align: right;\n",
       "    }\n",
       "</style>\n",
       "<table border=\"1\" class=\"dataframe\">\n",
       "  <thead>\n",
       "    <tr style=\"text-align: right;\">\n",
       "      <th></th>\n",
       "      <th>review_db_id</th>\n",
       "      <th>stars</th>\n",
       "    </tr>\n",
       "  </thead>\n",
       "  <tbody>\n",
       "    <tr>\n",
       "      <th>0</th>\n",
       "      <td>3</td>\n",
       "      <td>5</td>\n",
       "    </tr>\n",
       "    <tr>\n",
       "      <th>1</th>\n",
       "      <td>6</td>\n",
       "      <td>5</td>\n",
       "    </tr>\n",
       "    <tr>\n",
       "      <th>2</th>\n",
       "      <td>8</td>\n",
       "      <td>4</td>\n",
       "    </tr>\n",
       "    <tr>\n",
       "      <th>3</th>\n",
       "      <td>20</td>\n",
       "      <td>1</td>\n",
       "    </tr>\n",
       "    <tr>\n",
       "      <th>4</th>\n",
       "      <td>22</td>\n",
       "      <td>4</td>\n",
       "    </tr>\n",
       "  </tbody>\n",
       "</table>\n",
       "</div>"
      ],
      "text/plain": [
       "   review_db_id  stars\n",
       "0             3      5\n",
       "1             6      5\n",
       "2             8      4\n",
       "3            20      1\n",
       "4            22      4"
      ]
     },
     "execution_count": 10,
     "metadata": {},
     "output_type": "execute_result"
    }
   ],
   "source": [
    "rv_id_stars[:5]"
   ]
  },
  {
   "cell_type": "markdown",
   "metadata": {},
   "source": [
    "## 2.2 合并 stars 值到文本数据集"
   ]
  },
  {
   "cell_type": "code",
   "execution_count": 11,
   "metadata": {},
   "outputs": [],
   "source": [
    "# 将 stars 值合并到文本数据集\n",
    "yelp_lv_rts = yelp_lv_rts.join(rv_id_stars.set_index('review_db_id'), on='review_db_id')"
   ]
  },
  {
   "cell_type": "code",
   "execution_count": 12,
   "metadata": {},
   "outputs": [
    {
     "data": {
      "text/plain": [
       "1604044"
      ]
     },
     "execution_count": 12,
     "metadata": {},
     "output_type": "execute_result"
    }
   ],
   "source": [
    "len(yelp_lv_rts)"
   ]
  },
  {
   "cell_type": "code",
   "execution_count": 13,
   "metadata": {},
   "outputs": [
    {
     "data": {
      "text/html": [
       "<div>\n",
       "<style scoped>\n",
       "    .dataframe tbody tr th:only-of-type {\n",
       "        vertical-align: middle;\n",
       "    }\n",
       "\n",
       "    .dataframe tbody tr th {\n",
       "        vertical-align: top;\n",
       "    }\n",
       "\n",
       "    .dataframe thead th {\n",
       "        text-align: right;\n",
       "    }\n",
       "</style>\n",
       "<table border=\"1\" class=\"dataframe\">\n",
       "  <thead>\n",
       "    <tr style=\"text-align: right;\">\n",
       "      <th></th>\n",
       "      <th>review_db_id</th>\n",
       "      <th>text_words</th>\n",
       "      <th>stars</th>\n",
       "    </tr>\n",
       "  </thead>\n",
       "  <tbody>\n",
       "    <tr>\n",
       "      <th>0</th>\n",
       "      <td>3</td>\n",
       "      <td>pizza make night good people great pizza anyth...</td>\n",
       "      <td>5</td>\n",
       "    </tr>\n",
       "    <tr>\n",
       "      <th>1</th>\n",
       "      <td>6</td>\n",
       "      <td>one absolute favorite restaurant usually go on...</td>\n",
       "      <td>5</td>\n",
       "    </tr>\n",
       "    <tr>\n",
       "      <th>2</th>\n",
       "      <td>8</td>\n",
       "      <td>know place star lifesaver stay mandalay bay lo...</td>\n",
       "      <td>4</td>\n",
       "    </tr>\n",
       "    <tr>\n",
       "      <th>3</th>\n",
       "      <td>20</td>\n",
       "      <td>nd time eat today st time great dont think hus...</td>\n",
       "      <td>1</td>\n",
       "    </tr>\n",
       "    <tr>\n",
       "      <th>4</th>\n",
       "      <td>22</td>\n",
       "      <td>regal locate village square super convenient p...</td>\n",
       "      <td>4</td>\n",
       "    </tr>\n",
       "  </tbody>\n",
       "</table>\n",
       "</div>"
      ],
      "text/plain": [
       "   review_db_id                                         text_words  stars\n",
       "0             3  pizza make night good people great pizza anyth...      5\n",
       "1             6  one absolute favorite restaurant usually go on...      5\n",
       "2             8  know place star lifesaver stay mandalay bay lo...      4\n",
       "3            20  nd time eat today st time great dont think hus...      1\n",
       "4            22  regal locate village square super convenient p...      4"
      ]
     },
     "execution_count": 13,
     "metadata": {},
     "output_type": "execute_result"
    }
   ],
   "source": [
    "yelp_lv_rts[:5]"
   ]
  },
  {
   "cell_type": "markdown",
   "metadata": {},
   "source": [
    "## 2.3 二值化文本的情感度"
   ]
  },
  {
   "cell_type": "code",
   "execution_count": 14,
   "metadata": {},
   "outputs": [],
   "source": [
    "# 舍弃 stars 值为 3 或 4 的评论\n",
    "yelp_lv_filterd_rts = yelp_lv_rts[(yelp_lv_rts.stars < 3) | (yelp_lv_rts.stars == 5)]"
   ]
  },
  {
   "cell_type": "code",
   "execution_count": 15,
   "metadata": {},
   "outputs": [
    {
     "data": {
      "text/plain": [
       "1067530"
      ]
     },
     "execution_count": 15,
     "metadata": {},
     "output_type": "execute_result"
    }
   ],
   "source": [
    "len(yelp_lv_filterd_rts)"
   ]
  },
  {
   "cell_type": "code",
   "execution_count": 16,
   "metadata": {},
   "outputs": [
    {
     "data": {
      "text/html": [
       "<div>\n",
       "<style scoped>\n",
       "    .dataframe tbody tr th:only-of-type {\n",
       "        vertical-align: middle;\n",
       "    }\n",
       "\n",
       "    .dataframe tbody tr th {\n",
       "        vertical-align: top;\n",
       "    }\n",
       "\n",
       "    .dataframe thead th {\n",
       "        text-align: right;\n",
       "    }\n",
       "</style>\n",
       "<table border=\"1\" class=\"dataframe\">\n",
       "  <thead>\n",
       "    <tr style=\"text-align: right;\">\n",
       "      <th></th>\n",
       "      <th>review_db_id</th>\n",
       "      <th>text_words</th>\n",
       "      <th>stars</th>\n",
       "    </tr>\n",
       "  </thead>\n",
       "  <tbody>\n",
       "    <tr>\n",
       "      <th>0</th>\n",
       "      <td>3</td>\n",
       "      <td>pizza make night good people great pizza anyth...</td>\n",
       "      <td>5</td>\n",
       "    </tr>\n",
       "    <tr>\n",
       "      <th>1</th>\n",
       "      <td>6</td>\n",
       "      <td>one absolute favorite restaurant usually go on...</td>\n",
       "      <td>5</td>\n",
       "    </tr>\n",
       "    <tr>\n",
       "      <th>3</th>\n",
       "      <td>20</td>\n",
       "      <td>nd time eat today st time great dont think hus...</td>\n",
       "      <td>1</td>\n",
       "    </tr>\n",
       "    <tr>\n",
       "      <th>6</th>\n",
       "      <td>25</td>\n",
       "      <td>wow get bad review come friend amaze meal ever...</td>\n",
       "      <td>5</td>\n",
       "    </tr>\n",
       "    <tr>\n",
       "      <th>7</th>\n",
       "      <td>26</td>\n",
       "      <td>allegiant disaster fare cheap cheap enough fli...</td>\n",
       "      <td>1</td>\n",
       "    </tr>\n",
       "    <tr>\n",
       "      <th>8</th>\n",
       "      <td>28</td>\n",
       "      <td>go twice leave eh feel visit decide time switc...</td>\n",
       "      <td>2</td>\n",
       "    </tr>\n",
       "    <tr>\n",
       "      <th>11</th>\n",
       "      <td>34</td>\n",
       "      <td>every time come food perfect one favorite sush...</td>\n",
       "      <td>5</td>\n",
       "    </tr>\n",
       "    <tr>\n",
       "      <th>13</th>\n",
       "      <td>37</td>\n",
       "      <td>place awesome vibe brett rubin b day bash sit ...</td>\n",
       "      <td>5</td>\n",
       "    </tr>\n",
       "    <tr>\n",
       "      <th>14</th>\n",
       "      <td>40</td>\n",
       "      <td>husband go honeymoon enjoy nice dinner mention...</td>\n",
       "      <td>5</td>\n",
       "    </tr>\n",
       "    <tr>\n",
       "      <th>16</th>\n",
       "      <td>46</td>\n",
       "      <td>romantic spot lv great people watch nice menu ...</td>\n",
       "      <td>5</td>\n",
       "    </tr>\n",
       "  </tbody>\n",
       "</table>\n",
       "</div>"
      ],
      "text/plain": [
       "    review_db_id                                         text_words  stars\n",
       "0              3  pizza make night good people great pizza anyth...      5\n",
       "1              6  one absolute favorite restaurant usually go on...      5\n",
       "3             20  nd time eat today st time great dont think hus...      1\n",
       "6             25  wow get bad review come friend amaze meal ever...      5\n",
       "7             26  allegiant disaster fare cheap cheap enough fli...      1\n",
       "8             28  go twice leave eh feel visit decide time switc...      2\n",
       "11            34  every time come food perfect one favorite sush...      5\n",
       "13            37  place awesome vibe brett rubin b day bash sit ...      5\n",
       "14            40  husband go honeymoon enjoy nice dinner mention...      5\n",
       "16            46  romantic spot lv great people watch nice menu ...      5"
      ]
     },
     "execution_count": 16,
     "metadata": {},
     "output_type": "execute_result"
    }
   ],
   "source": [
    "yelp_lv_filterd_rts[:10]"
   ]
  },
  {
   "cell_type": "code",
   "execution_count": 17,
   "metadata": {},
   "outputs": [],
   "source": [
    "# 二值化\n",
    "yelp_lv_bin_rts = yelp_lv_filterd_rts.assign(stars_binarized=[0 if stars < 3 else 1 for stars in yelp_lv_filterd_rts.stars])"
   ]
  },
  {
   "cell_type": "code",
   "execution_count": 18,
   "metadata": {},
   "outputs": [
    {
     "data": {
      "text/html": [
       "<div>\n",
       "<style scoped>\n",
       "    .dataframe tbody tr th:only-of-type {\n",
       "        vertical-align: middle;\n",
       "    }\n",
       "\n",
       "    .dataframe tbody tr th {\n",
       "        vertical-align: top;\n",
       "    }\n",
       "\n",
       "    .dataframe thead th {\n",
       "        text-align: right;\n",
       "    }\n",
       "</style>\n",
       "<table border=\"1\" class=\"dataframe\">\n",
       "  <thead>\n",
       "    <tr style=\"text-align: right;\">\n",
       "      <th></th>\n",
       "      <th>review_db_id</th>\n",
       "      <th>text_words</th>\n",
       "      <th>stars</th>\n",
       "      <th>stars_binarized</th>\n",
       "    </tr>\n",
       "  </thead>\n",
       "  <tbody>\n",
       "    <tr>\n",
       "      <th>0</th>\n",
       "      <td>3</td>\n",
       "      <td>pizza make night good people great pizza anyth...</td>\n",
       "      <td>5</td>\n",
       "      <td>1</td>\n",
       "    </tr>\n",
       "    <tr>\n",
       "      <th>1</th>\n",
       "      <td>6</td>\n",
       "      <td>one absolute favorite restaurant usually go on...</td>\n",
       "      <td>5</td>\n",
       "      <td>1</td>\n",
       "    </tr>\n",
       "    <tr>\n",
       "      <th>3</th>\n",
       "      <td>20</td>\n",
       "      <td>nd time eat today st time great dont think hus...</td>\n",
       "      <td>1</td>\n",
       "      <td>0</td>\n",
       "    </tr>\n",
       "    <tr>\n",
       "      <th>6</th>\n",
       "      <td>25</td>\n",
       "      <td>wow get bad review come friend amaze meal ever...</td>\n",
       "      <td>5</td>\n",
       "      <td>1</td>\n",
       "    </tr>\n",
       "    <tr>\n",
       "      <th>7</th>\n",
       "      <td>26</td>\n",
       "      <td>allegiant disaster fare cheap cheap enough fli...</td>\n",
       "      <td>1</td>\n",
       "      <td>0</td>\n",
       "    </tr>\n",
       "    <tr>\n",
       "      <th>8</th>\n",
       "      <td>28</td>\n",
       "      <td>go twice leave eh feel visit decide time switc...</td>\n",
       "      <td>2</td>\n",
       "      <td>0</td>\n",
       "    </tr>\n",
       "    <tr>\n",
       "      <th>11</th>\n",
       "      <td>34</td>\n",
       "      <td>every time come food perfect one favorite sush...</td>\n",
       "      <td>5</td>\n",
       "      <td>1</td>\n",
       "    </tr>\n",
       "    <tr>\n",
       "      <th>13</th>\n",
       "      <td>37</td>\n",
       "      <td>place awesome vibe brett rubin b day bash sit ...</td>\n",
       "      <td>5</td>\n",
       "      <td>1</td>\n",
       "    </tr>\n",
       "    <tr>\n",
       "      <th>14</th>\n",
       "      <td>40</td>\n",
       "      <td>husband go honeymoon enjoy nice dinner mention...</td>\n",
       "      <td>5</td>\n",
       "      <td>1</td>\n",
       "    </tr>\n",
       "    <tr>\n",
       "      <th>16</th>\n",
       "      <td>46</td>\n",
       "      <td>romantic spot lv great people watch nice menu ...</td>\n",
       "      <td>5</td>\n",
       "      <td>1</td>\n",
       "    </tr>\n",
       "  </tbody>\n",
       "</table>\n",
       "</div>"
      ],
      "text/plain": [
       "    review_db_id                                         text_words  stars  \\\n",
       "0              3  pizza make night good people great pizza anyth...      5   \n",
       "1              6  one absolute favorite restaurant usually go on...      5   \n",
       "3             20  nd time eat today st time great dont think hus...      1   \n",
       "6             25  wow get bad review come friend amaze meal ever...      5   \n",
       "7             26  allegiant disaster fare cheap cheap enough fli...      1   \n",
       "8             28  go twice leave eh feel visit decide time switc...      2   \n",
       "11            34  every time come food perfect one favorite sush...      5   \n",
       "13            37  place awesome vibe brett rubin b day bash sit ...      5   \n",
       "14            40  husband go honeymoon enjoy nice dinner mention...      5   \n",
       "16            46  romantic spot lv great people watch nice menu ...      5   \n",
       "\n",
       "    stars_binarized  \n",
       "0                 1  \n",
       "1                 1  \n",
       "3                 0  \n",
       "6                 1  \n",
       "7                 0  \n",
       "8                 0  \n",
       "11                1  \n",
       "13                1  \n",
       "14                1  \n",
       "16                1  "
      ]
     },
     "execution_count": 18,
     "metadata": {},
     "output_type": "execute_result"
    }
   ],
   "source": [
    "yelp_lv_bin_rts[:10]"
   ]
  },
  {
   "cell_type": "markdown",
   "metadata": {},
   "source": [
    "# 3. 基于 Affin 的文本情感分析（Baseline）\n",
    "\n",
    "在[上一篇 Notebook](https://github.com/xiehongfeng100/yelper_dpps_and_eda/blob/master/eda/las_vegas/lv_eda02_Review_Text_Sentiment_Analysis_EDA.ipynb) 我们已经使用 Affin 来衡量评论文本的情感度，不过那时主要是用来分析商店 Mon Ami Gabi 的。这里，基本 Affin 的情感分析将作为一个 Baseline，跟下文基于 CNN 的进行比较。"
   ]
  },
  {
   "cell_type": "markdown",
   "metadata": {},
   "source": [
    "## 3.1 情感度计算"
   ]
  },
  {
   "cell_type": "code",
   "execution_count": 19,
   "metadata": {},
   "outputs": [],
   "source": [
    "from afinn import Afinn\n",
    "import multiprocessing as mp"
   ]
  },
  {
   "cell_type": "code",
   "execution_count": 20,
   "metadata": {},
   "outputs": [],
   "source": [
    "af = Afinn()"
   ]
  },
  {
   "cell_type": "code",
   "execution_count": 21,
   "metadata": {},
   "outputs": [],
   "source": [
    "def calc_sentiment(text_words):\n",
    "    return np.mean([af.score(word) for word in text_words.split(' ')]) # 直接使用 af.score(text_words) 正确率更低"
   ]
  },
  {
   "cell_type": "code",
   "execution_count": 22,
   "metadata": {},
   "outputs": [
    {
     "name": "stdout",
     "output_type": "stream",
     "text": [
      "CPU times: user 1.52 s, sys: 532 ms, total: 2.06 s\n",
      "Wall time: 1min 50s\n"
     ]
    }
   ],
   "source": [
    "%%time\n",
    "# 注意 multiprocessing pool map 返回的结果跟输入是同序的，所以不用担心计算结果乱序\n",
    "pool = mp.Pool(processes=12)\n",
    "affin_sentiments = pool.map(calc_sentiment, yelp_lv_bin_rts.text_words)\n",
    "pool.close()\n",
    "pool.join()"
   ]
  },
  {
   "cell_type": "code",
   "execution_count": 23,
   "metadata": {},
   "outputs": [],
   "source": [
    "yelp_lv_bin_rts = yelp_lv_bin_rts.assign(affin_sentiment=affin_sentiments)"
   ]
  },
  {
   "cell_type": "code",
   "execution_count": 24,
   "metadata": {},
   "outputs": [
    {
     "data": {
      "text/html": [
       "<div>\n",
       "<style scoped>\n",
       "    .dataframe tbody tr th:only-of-type {\n",
       "        vertical-align: middle;\n",
       "    }\n",
       "\n",
       "    .dataframe tbody tr th {\n",
       "        vertical-align: top;\n",
       "    }\n",
       "\n",
       "    .dataframe thead th {\n",
       "        text-align: right;\n",
       "    }\n",
       "</style>\n",
       "<table border=\"1\" class=\"dataframe\">\n",
       "  <thead>\n",
       "    <tr style=\"text-align: right;\">\n",
       "      <th></th>\n",
       "      <th>review_db_id</th>\n",
       "      <th>text_words</th>\n",
       "      <th>stars</th>\n",
       "      <th>stars_binarized</th>\n",
       "      <th>affin_sentiment</th>\n",
       "    </tr>\n",
       "  </thead>\n",
       "  <tbody>\n",
       "    <tr>\n",
       "      <th>0</th>\n",
       "      <td>3</td>\n",
       "      <td>pizza make night good people great pizza anyth...</td>\n",
       "      <td>5</td>\n",
       "      <td>1</td>\n",
       "      <td>0.818182</td>\n",
       "    </tr>\n",
       "    <tr>\n",
       "      <th>1</th>\n",
       "      <td>6</td>\n",
       "      <td>one absolute favorite restaurant usually go on...</td>\n",
       "      <td>5</td>\n",
       "      <td>1</td>\n",
       "      <td>0.448276</td>\n",
       "    </tr>\n",
       "    <tr>\n",
       "      <th>3</th>\n",
       "      <td>20</td>\n",
       "      <td>nd time eat today st time great dont think hus...</td>\n",
       "      <td>1</td>\n",
       "      <td>0</td>\n",
       "      <td>-0.058824</td>\n",
       "    </tr>\n",
       "    <tr>\n",
       "      <th>6</th>\n",
       "      <td>25</td>\n",
       "      <td>wow get bad review come friend amaze meal ever...</td>\n",
       "      <td>5</td>\n",
       "      <td>1</td>\n",
       "      <td>0.281690</td>\n",
       "    </tr>\n",
       "    <tr>\n",
       "      <th>7</th>\n",
       "      <td>26</td>\n",
       "      <td>allegiant disaster fare cheap cheap enough fli...</td>\n",
       "      <td>1</td>\n",
       "      <td>0</td>\n",
       "      <td>-0.211538</td>\n",
       "    </tr>\n",
       "  </tbody>\n",
       "</table>\n",
       "</div>"
      ],
      "text/plain": [
       "   review_db_id                                         text_words  stars  \\\n",
       "0             3  pizza make night good people great pizza anyth...      5   \n",
       "1             6  one absolute favorite restaurant usually go on...      5   \n",
       "3            20  nd time eat today st time great dont think hus...      1   \n",
       "6            25  wow get bad review come friend amaze meal ever...      5   \n",
       "7            26  allegiant disaster fare cheap cheap enough fli...      1   \n",
       "\n",
       "   stars_binarized  affin_sentiment  \n",
       "0                1         0.818182  \n",
       "1                1         0.448276  \n",
       "3                0        -0.058824  \n",
       "6                1         0.281690  \n",
       "7                0        -0.211538  "
      ]
     },
     "execution_count": 24,
     "metadata": {},
     "output_type": "execute_result"
    }
   ],
   "source": [
    "yelp_lv_bin_rts[:5]"
   ]
  },
  {
   "cell_type": "markdown",
   "metadata": {},
   "source": [
    "## 3.2 情感度归一化\n",
    "\n",
    "以上计算得到的情感度不方便我们进行二分类，所以我们对其归一化到 0~1 之间，然后按 0.5 作为阈值判断情感度属于正面还是负面"
   ]
  },
  {
   "cell_type": "code",
   "execution_count": 25,
   "metadata": {},
   "outputs": [],
   "source": [
    "from sklearn import preprocessing"
   ]
  },
  {
   "cell_type": "code",
   "execution_count": 26,
   "metadata": {},
   "outputs": [],
   "source": [
    "min_max_scaler = preprocessing.MinMaxScaler()"
   ]
  },
  {
   "cell_type": "code",
   "execution_count": 27,
   "metadata": {},
   "outputs": [],
   "source": [
    "yelp_lv_bin_rts = yelp_lv_bin_rts.assign(affin_sentiment_scaled=min_max_scaler.fit_transform(yelp_lv_bin_rts.affin_sentiment[:, None]))"
   ]
  },
  {
   "cell_type": "code",
   "execution_count": 28,
   "metadata": {},
   "outputs": [
    {
     "data": {
      "text/html": [
       "<div>\n",
       "<style scoped>\n",
       "    .dataframe tbody tr th:only-of-type {\n",
       "        vertical-align: middle;\n",
       "    }\n",
       "\n",
       "    .dataframe tbody tr th {\n",
       "        vertical-align: top;\n",
       "    }\n",
       "\n",
       "    .dataframe thead th {\n",
       "        text-align: right;\n",
       "    }\n",
       "</style>\n",
       "<table border=\"1\" class=\"dataframe\">\n",
       "  <thead>\n",
       "    <tr style=\"text-align: right;\">\n",
       "      <th></th>\n",
       "      <th>review_db_id</th>\n",
       "      <th>text_words</th>\n",
       "      <th>stars</th>\n",
       "      <th>stars_binarized</th>\n",
       "      <th>affin_sentiment</th>\n",
       "      <th>affin_sentiment_scaled</th>\n",
       "    </tr>\n",
       "  </thead>\n",
       "  <tbody>\n",
       "    <tr>\n",
       "      <th>0</th>\n",
       "      <td>3</td>\n",
       "      <td>pizza make night good people great pizza anyth...</td>\n",
       "      <td>5</td>\n",
       "      <td>1</td>\n",
       "      <td>0.818182</td>\n",
       "      <td>0.545455</td>\n",
       "    </tr>\n",
       "    <tr>\n",
       "      <th>1</th>\n",
       "      <td>6</td>\n",
       "      <td>one absolute favorite restaurant usually go on...</td>\n",
       "      <td>5</td>\n",
       "      <td>1</td>\n",
       "      <td>0.448276</td>\n",
       "      <td>0.492611</td>\n",
       "    </tr>\n",
       "    <tr>\n",
       "      <th>3</th>\n",
       "      <td>20</td>\n",
       "      <td>nd time eat today st time great dont think hus...</td>\n",
       "      <td>1</td>\n",
       "      <td>0</td>\n",
       "      <td>-0.058824</td>\n",
       "      <td>0.420168</td>\n",
       "    </tr>\n",
       "    <tr>\n",
       "      <th>6</th>\n",
       "      <td>25</td>\n",
       "      <td>wow get bad review come friend amaze meal ever...</td>\n",
       "      <td>5</td>\n",
       "      <td>1</td>\n",
       "      <td>0.281690</td>\n",
       "      <td>0.468813</td>\n",
       "    </tr>\n",
       "    <tr>\n",
       "      <th>7</th>\n",
       "      <td>26</td>\n",
       "      <td>allegiant disaster fare cheap cheap enough fli...</td>\n",
       "      <td>1</td>\n",
       "      <td>0</td>\n",
       "      <td>-0.211538</td>\n",
       "      <td>0.398352</td>\n",
       "    </tr>\n",
       "  </tbody>\n",
       "</table>\n",
       "</div>"
      ],
      "text/plain": [
       "   review_db_id                                         text_words  stars  \\\n",
       "0             3  pizza make night good people great pizza anyth...      5   \n",
       "1             6  one absolute favorite restaurant usually go on...      5   \n",
       "3            20  nd time eat today st time great dont think hus...      1   \n",
       "6            25  wow get bad review come friend amaze meal ever...      5   \n",
       "7            26  allegiant disaster fare cheap cheap enough fli...      1   \n",
       "\n",
       "   stars_binarized  affin_sentiment  affin_sentiment_scaled  \n",
       "0                1         0.818182                0.545455  \n",
       "1                1         0.448276                0.492611  \n",
       "3                0        -0.058824                0.420168  \n",
       "6                1         0.281690                0.468813  \n",
       "7                0        -0.211538                0.398352  "
      ]
     },
     "execution_count": 28,
     "metadata": {},
     "output_type": "execute_result"
    }
   ],
   "source": [
    "yelp_lv_bin_rts[:5]"
   ]
  },
  {
   "cell_type": "markdown",
   "metadata": {},
   "source": [
    "## 3.3 准确率\n",
    "\n",
    "准确率就是分类正确（正面和负面）的评论数量除以总数。从以下结果可以看出来，**用 Affin 分析得到的正确率仅 0.5124，跟我们随机猜的正确率差不多**。"
   ]
  },
  {
   "cell_type": "code",
   "execution_count": 29,
   "metadata": {},
   "outputs": [],
   "source": [
    "count_correct = len(yelp_lv_bin_rts[(yelp_lv_bin_rts.stars_binarized == 1) & (yelp_lv_bin_rts.affin_sentiment_scaled >= 0.5)]) + \\\n",
    "                len(yelp_lv_bin_rts[(yelp_lv_bin_rts.stars_binarized == 0) & (yelp_lv_bin_rts.affin_sentiment_scaled < 0.5)])"
   ]
  },
  {
   "cell_type": "code",
   "execution_count": 30,
   "metadata": {},
   "outputs": [],
   "source": [
    "correct_rate = count_correct / float(len(yelp_lv_bin_rts))"
   ]
  },
  {
   "cell_type": "code",
   "execution_count": 31,
   "metadata": {},
   "outputs": [
    {
     "data": {
      "text/plain": [
       "0.5124343109795509"
      ]
     },
     "execution_count": 31,
     "metadata": {},
     "output_type": "execute_result"
    }
   ],
   "source": [
    "correct_rate"
   ]
  },
  {
   "cell_type": "markdown",
   "metadata": {},
   "source": [
    "# 4. 基于 CNN 的文本情感分析\n",
    "\n",
    "大多数情况下我们都是把 CNN 用在图片处理上，但其实 CNN 用在文本分类同样厉害！不一样的是图片是二维的，文本是一维的。\n",
    "\n",
    "这里我们参考的架构来自于一篇论文 [A Sensitivity Analysis of (and Practitioners' Guide to) Convolutional Neural Networks for Sentence Classification](https://arxiv.org/abs/1510.03820)：\n",
    "\n",
    "![](images/sentiment/cnn-text-classification-arch.png)  \n",
    "\n",
    "如果我们之前学习过二维 CNN（[示意图](https://en.wikipedia.org/wiki/File:Typical_cnn.png)）的话，会发现这个架构跟前者完全一致，也是由`输入层+卷积层（激活函数）+池化层+全连接层（含输出层）`组成。\n",
    "\n",
    "上图中，\n",
    "- 输入层为一个 7*5 的矩阵，每一个行向量表示一个词（如 like）；这里的 CNN “一维”正是指`以行向量（词）为基本单位`构成了“一维”列向量\n",
    "- 卷积层使用了 3 种卷积核，各有 2 个；输入层的数据和卷积核进行卷积相乘后得到 3 中共 6 个 Feature Map\n",
    "- 池化层使用 Max Pooling 方法取出各 Feature Map 中最大值，最后组装成一个 6 个特征数的列向量，输入到全连接层\n",
    "- 全连接层（含输出层）利用 Softmax 函数计算出分类结果\n",
    "\n",
    "这里解释的可能不是很清晰，可以参考论文中的解释：\n",
    "> Illustration of a Convolutional Neural Network (CNN) architecture for sentence classification. Here we depict three filter region sizes: 2, 3 and 4, each of which has 2 filters. Every filter performs convolution on the sentence matrix and generates (variable-length) feature maps. Then 1-max pooling is performed over each map, i.e., the largest number from each feature map is recorded. Thus a univariate feature vector is generated from all six maps, and these 6 features are concatenated to form a feature vector for the penultimate layer. The final softmax layer then receives this feature vector as input and uses it to classify the sentence; here we assume binary classification and hence depict two possible output states. "
   ]
  },
  {
   "cell_type": "markdown",
   "metadata": {},
   "source": [
    "## 4.1 数据处理及数据集分割"
   ]
  },
  {
   "cell_type": "code",
   "execution_count": 32,
   "metadata": {},
   "outputs": [
    {
     "name": "stderr",
     "output_type": "stream",
     "text": [
      "Using TensorFlow backend.\n"
     ]
    }
   ],
   "source": [
    "import keras\n",
    "from keras.preprocessing import sequence\n",
    "from keras.preprocessing import text as txt\n",
    "from sklearn.model_selection import train_test_split"
   ]
  },
  {
   "cell_type": "code",
   "execution_count": 33,
   "metadata": {},
   "outputs": [],
   "source": [
    "text_words = yelp_lv_bin_rts.text_words.tolist()"
   ]
  },
  {
   "cell_type": "code",
   "execution_count": 34,
   "metadata": {},
   "outputs": [],
   "source": [
    "tk = txt.Tokenizer(split=' ')\n",
    "tk.fit_on_texts(text_words)"
   ]
  },
  {
   "cell_type": "code",
   "execution_count": 35,
   "metadata": {},
   "outputs": [],
   "source": [
    "x = tk.texts_to_sequences(text_words)\n",
    "y = yelp_lv_bin_rts.stars_binarized.tolist()"
   ]
  },
  {
   "cell_type": "code",
   "execution_count": 36,
   "metadata": {},
   "outputs": [
    {
     "data": {
      "text/plain": [
       "[[138, 12, 68, 8, 46, 6, 138, 173, 33, 6, 554],\n",
       " [11,\n",
       "  1015,\n",
       "  134,\n",
       "  42,\n",
       "  336,\n",
       "  2,\n",
       "  11,\n",
       "  2145,\n",
       "  224,\n",
       "  207,\n",
       "  3081,\n",
       "  5081,\n",
       "  168,\n",
       "  11,\n",
       "  3309,\n",
       "  148,\n",
       "  45,\n",
       "  1577,\n",
       "  40,\n",
       "  57,\n",
       "  42,\n",
       "  3222,\n",
       "  1118,\n",
       "  429,\n",
       "  921,\n",
       "  65,\n",
       "  36,\n",
       "  65,\n",
       "  4]]"
      ]
     },
     "execution_count": 36,
     "metadata": {},
     "output_type": "execute_result"
    }
   ],
   "source": [
    "x[:2]"
   ]
  },
  {
   "cell_type": "code",
   "execution_count": 37,
   "metadata": {},
   "outputs": [
    {
     "data": {
      "text/plain": [
       "array([[ 138,   12,   68,    8,   46,    6,  138,  173,   33,    6,  554,\n",
       "           0,    0,    0,    0,    0,    0,    0,    0,    0,    0,    0,\n",
       "           0,    0,    0,    0,    0,    0,    0,    0,    0,    0,    0,\n",
       "           0,    0,    0,    0,    0,    0,    0,    0,    0,    0,    0,\n",
       "           0,    0,    0,    0,    0,    0],\n",
       "       [  11, 1015,  134,   42,  336,    2,   11, 2145,  224,  207, 3081,\n",
       "        5081,  168,   11, 3309,  148,   45, 1577,   40,   57,   42, 3222,\n",
       "        1118,  429,  921,   65,   36,   65,    4,    0,    0,    0,    0,\n",
       "           0,    0,    0,    0,    0,    0,    0,    0,    0,    0,    0,\n",
       "           0,    0,    0,    0,    0,    0]], dtype=int32)"
      ]
     },
     "execution_count": 37,
     "metadata": {},
     "output_type": "execute_result"
    }
   ],
   "source": [
    "# 将长度不足 maxlen 的输入向量后边补 0\n",
    "maxlen = 50\n",
    "x = sequence.pad_sequences(x, maxlen=maxlen, padding='post')\n",
    "x[:2]"
   ]
  },
  {
   "cell_type": "code",
   "execution_count": 38,
   "metadata": {},
   "outputs": [
    {
     "data": {
      "text/plain": [
       "[1, 1]"
      ]
     },
     "execution_count": 38,
     "metadata": {},
     "output_type": "execute_result"
    }
   ],
   "source": [
    "y[:2]"
   ]
  },
  {
   "cell_type": "code",
   "execution_count": 39,
   "metadata": {},
   "outputs": [
    {
     "name": "stdout",
     "output_type": "stream",
     "text": [
      "854024 854024 213506 213506\n"
     ]
    }
   ],
   "source": [
    "# 分割训练和测试数据集\n",
    "X_train, X_test, y_train, y_test = train_test_split(x, y, test_size=0.2, random_state=0)\n",
    "print len(X_train), len(y_train), len(X_test), len(y_test)"
   ]
  },
  {
   "cell_type": "markdown",
   "metadata": {},
   "source": [
    "## 4.2 计算词汇表大小\n",
    "\n",
    "经过以上转换后，输入数据 x 已经用一个数字组成的词汇表来表示。这里我们需要计算出这个词汇表的大小，以便作为嵌入层（Embedding）的参数传入。"
   ]
  },
  {
   "cell_type": "code",
   "execution_count": 40,
   "metadata": {},
   "outputs": [],
   "source": [
    "vacabulary_size = 0\n",
    "for item in x:\n",
    "    max_num = max(item)\n",
    "    if max_num > vacabulary_size:\n",
    "        vacabulary_size = max_num\n",
    "\n",
    "# 上边循环算出的只是最大下标值，加 1 之后才是真正的词汇表大小\n",
    "vacabulary_size += 1"
   ]
  },
  {
   "cell_type": "code",
   "execution_count": 41,
   "metadata": {},
   "outputs": [
    {
     "data": {
      "text/plain": [
       "216661"
      ]
     },
     "execution_count": 41,
     "metadata": {},
     "output_type": "execute_result"
    }
   ],
   "source": [
    "vacabulary_size"
   ]
  },
  {
   "cell_type": "markdown",
   "metadata": {},
   "source": [
    "## 4.3 训练"
   ]
  },
  {
   "cell_type": "code",
   "execution_count": 42,
   "metadata": {},
   "outputs": [],
   "source": [
    "from keras.models import Sequential\n",
    "from keras.layers import Embedding\n",
    "from keras.layers import Dense, Activation\n",
    "from keras.layers import Conv1D, GlobalMaxPooling1D"
   ]
  },
  {
   "cell_type": "code",
   "execution_count": 43,
   "metadata": {},
   "outputs": [],
   "source": [
    "# 嵌入层(Embedding)\n",
    "input_dim = vacabulary_size # 词汇表大小\n",
    "output_dim = 128 # 输出向量大小\n",
    "input_length = maxlen # 输入（行）向量长度，即每个词表示成向量后的长度\n",
    "\n",
    "# 卷积层(Convolution)\n",
    "kernel_size = 5 # 卷积核的大小\n",
    "filters = 64 # 卷积核的数目\n",
    "\n",
    "# 训练参数(Training)\n",
    "batch_size = 30\n",
    "epochs = 2"
   ]
  },
  {
   "cell_type": "code",
   "execution_count": 44,
   "metadata": {},
   "outputs": [
    {
     "name": "stdout",
     "output_type": "stream",
     "text": [
      "Train on 854024 samples, validate on 213506 samples\n",
      "Epoch 1/2\n",
      "854024/854024 [==============================] - 456s 534us/step - loss: 0.1361 - acc: 0.9470 - val_loss: 0.1171 - val_acc: 0.9555\n",
      "Epoch 2/2\n",
      "854024/854024 [==============================] - 455s 533us/step - loss: 0.0936 - acc: 0.9652 - val_loss: 0.1152 - val_acc: 0.9568\n",
      "213506/213506 [==============================] - 7s 34us/step\n",
      "Test score: 0.11517073286927942\n",
      "Test accuracy: 0.9567974559067239\n",
      "CPU times: user 14min 47s, sys: 6min 25s, total: 21min 13s\n",
      "Wall time: 15min 18s\n"
     ]
    }
   ],
   "source": [
    "%%time\n",
    "\n",
    "# 定义 Sequential 模型\n",
    "cnn_model = Sequential()\n",
    "\n",
    "# 将输入向量转化为维度为（batch_size, input_length, output_dim）的稠密矩阵（Dense vectors）\n",
    "cnn_model.add(Embedding(input_dim, output_dim, input_length=input_length))\n",
    "\n",
    "# 添加卷积层\n",
    "cnn_model.add(Conv1D(filters,\n",
    "                     kernel_size,\n",
    "                     padding='valid',\n",
    "                     activation='relu',\n",
    "                     strides=1))\n",
    "\n",
    "# 添加池化层\n",
    "cnn_model.add(GlobalMaxPooling1D())\n",
    "\n",
    "# 添加全连接层\n",
    "cnn_model.add(Dense(1))\n",
    "cnn_model.add(Activation('sigmoid'))\n",
    "\n",
    "# 定义损失函数、优化器、衡量指标\n",
    "cnn_model.compile(loss='binary_crossentropy',\n",
    "                  optimizer='adam',\n",
    "                  metrics=['accuracy'])\n",
    "\n",
    "# 训练\n",
    "cnn_model.fit(X_train, y_train,\n",
    "              batch_size=batch_size,\n",
    "              epochs=epochs,\n",
    "              validation_data=(X_test, y_test))\n",
    "\n",
    "# 计算测试集准确率\n",
    "score, acc = cnn_model.evaluate(X_test, y_test, batch_size=batch_size)\n",
    "print 'Test score:', score\n",
    "print 'Test accuracy:', acc"
   ]
  },
  {
   "cell_type": "markdown",
   "metadata": {},
   "source": [
    "## 4.4 保存模型"
   ]
  },
  {
   "cell_type": "code",
   "execution_count": 45,
   "metadata": {},
   "outputs": [],
   "source": [
    "cnn_model.save('yelp_las_vegas_review_text_sentiment_analysis_cnn_model.h5')"
   ]
  },
  {
   "cell_type": "markdown",
   "metadata": {},
   "source": [
    "## 4.5 加载模型"
   ]
  },
  {
   "cell_type": "code",
   "execution_count": 46,
   "metadata": {},
   "outputs": [],
   "source": [
    "from keras.models import load_model"
   ]
  },
  {
   "cell_type": "code",
   "execution_count": 47,
   "metadata": {},
   "outputs": [],
   "source": [
    "loaded_model = load_model('yelp_las_vegas_review_text_sentiment_analysis_cnn_model.h5')"
   ]
  },
  {
   "cell_type": "code",
   "execution_count": 48,
   "metadata": {},
   "outputs": [
    {
     "name": "stdout",
     "output_type": "stream",
     "text": [
      "213506/213506 [==============================] - 8s 35us/step\n",
      "Test score: 0.11517073286927942\n",
      "Test accuracy: 0.9567974559067239\n"
     ]
    }
   ],
   "source": [
    "score, acc = loaded_model.evaluate(X_test, y_test, batch_size=batch_size)\n",
    "print 'Test score:', score\n",
    "print 'Test accuracy:', acc"
   ]
  },
  {
   "cell_type": "markdown",
   "metadata": {},
   "source": [
    "## 4.6 预测所有评论文本的情感度并保存结果"
   ]
  },
  {
   "cell_type": "code",
   "execution_count": 49,
   "metadata": {},
   "outputs": [],
   "source": [
    "# 记得用原有的 Tokenizer(tk) 实例来转化全部的评论文本\n",
    "all_text_words = yelp_lv_rts.text_words.tolist()\n",
    "all_text_sequences = tk.texts_to_sequences(all_text_words)\n",
    "all_text_sequences = sequence.pad_sequences(all_text_sequences, maxlen=maxlen, padding='post')"
   ]
  },
  {
   "cell_type": "code",
   "execution_count": 50,
   "metadata": {},
   "outputs": [
    {
     "data": {
      "text/plain": [
       "1604044"
      ]
     },
     "execution_count": 50,
     "metadata": {},
     "output_type": "execute_result"
    }
   ],
   "source": [
    "len(all_text_sequences)"
   ]
  },
  {
   "cell_type": "code",
   "execution_count": 51,
   "metadata": {},
   "outputs": [
    {
     "data": {
      "text/plain": [
       "array([[ 138,   12,   68,    8,   46,    6,  138,  173,   33,    6,  554,\n",
       "           0,    0,    0,    0,    0,    0,    0,    0,    0,    0,    0,\n",
       "           0,    0,    0,    0,    0,    0,    0,    0,    0,    0,    0,\n",
       "           0,    0,    0,    0,    0,    0,    0,    0,    0,    0,    0,\n",
       "           0,    0,    0,    0,    0,    0],\n",
       "       [  11, 1015,  134,   42,  336,    2,   11, 2145,  224,  207, 3081,\n",
       "        5081,  168,   11, 3309,  148,   45, 1577,   40,   57,   42, 3222,\n",
       "        1118,  429,  921,   65,   36,   65,    4,    0,    0,    0,    0,\n",
       "           0,    0,    0,    0,    0,    0,    0,    0,    0,    0,    0,\n",
       "           0,    0,    0,    0,    0,    0]], dtype=int32)"
      ]
     },
     "execution_count": 51,
     "metadata": {},
     "output_type": "execute_result"
    }
   ],
   "source": [
    "all_text_sequences[:2]"
   ]
  },
  {
   "cell_type": "code",
   "execution_count": 52,
   "metadata": {},
   "outputs": [],
   "source": [
    "# 为所有文本预测情感度\n",
    "cnn_sentiments = loaded_model.predict(all_text_sequences, batch_size=batch_size)"
   ]
  },
  {
   "cell_type": "code",
   "execution_count": 53,
   "metadata": {},
   "outputs": [],
   "source": [
    "yelp_lv_rts = yelp_lv_rts.assign(cnn_sentiment=cnn_sentiments)"
   ]
  },
  {
   "cell_type": "code",
   "execution_count": 54,
   "metadata": {},
   "outputs": [
    {
     "data": {
      "text/html": [
       "<div>\n",
       "<style scoped>\n",
       "    .dataframe tbody tr th:only-of-type {\n",
       "        vertical-align: middle;\n",
       "    }\n",
       "\n",
       "    .dataframe tbody tr th {\n",
       "        vertical-align: top;\n",
       "    }\n",
       "\n",
       "    .dataframe thead th {\n",
       "        text-align: right;\n",
       "    }\n",
       "</style>\n",
       "<table border=\"1\" class=\"dataframe\">\n",
       "  <thead>\n",
       "    <tr style=\"text-align: right;\">\n",
       "      <th></th>\n",
       "      <th>review_db_id</th>\n",
       "      <th>text_words</th>\n",
       "      <th>stars</th>\n",
       "      <th>cnn_sentiment</th>\n",
       "    </tr>\n",
       "  </thead>\n",
       "  <tbody>\n",
       "    <tr>\n",
       "      <th>0</th>\n",
       "      <td>3</td>\n",
       "      <td>pizza make night good people great pizza anyth...</td>\n",
       "      <td>5</td>\n",
       "      <td>0.808333</td>\n",
       "    </tr>\n",
       "    <tr>\n",
       "      <th>1</th>\n",
       "      <td>6</td>\n",
       "      <td>one absolute favorite restaurant usually go on...</td>\n",
       "      <td>5</td>\n",
       "      <td>0.992467</td>\n",
       "    </tr>\n",
       "    <tr>\n",
       "      <th>2</th>\n",
       "      <td>8</td>\n",
       "      <td>know place star lifesaver stay mandalay bay lo...</td>\n",
       "      <td>4</td>\n",
       "      <td>0.001040</td>\n",
       "    </tr>\n",
       "    <tr>\n",
       "      <th>3</th>\n",
       "      <td>20</td>\n",
       "      <td>nd time eat today st time great dont think hus...</td>\n",
       "      <td>1</td>\n",
       "      <td>0.000239</td>\n",
       "    </tr>\n",
       "    <tr>\n",
       "      <th>4</th>\n",
       "      <td>22</td>\n",
       "      <td>regal locate village square super convenient p...</td>\n",
       "      <td>4</td>\n",
       "      <td>0.532928</td>\n",
       "    </tr>\n",
       "    <tr>\n",
       "      <th>5</th>\n",
       "      <td>24</td>\n",
       "      <td>super good food friend order lbs shrimp lb cra...</td>\n",
       "      <td>4</td>\n",
       "      <td>0.958160</td>\n",
       "    </tr>\n",
       "    <tr>\n",
       "      <th>6</th>\n",
       "      <td>25</td>\n",
       "      <td>wow get bad review come friend amaze meal ever...</td>\n",
       "      <td>5</td>\n",
       "      <td>0.999660</td>\n",
       "    </tr>\n",
       "    <tr>\n",
       "      <th>7</th>\n",
       "      <td>26</td>\n",
       "      <td>allegiant disaster fare cheap cheap enough fli...</td>\n",
       "      <td>1</td>\n",
       "      <td>0.001531</td>\n",
       "    </tr>\n",
       "    <tr>\n",
       "      <th>8</th>\n",
       "      <td>28</td>\n",
       "      <td>go twice leave eh feel visit decide time switc...</td>\n",
       "      <td>2</td>\n",
       "      <td>0.000279</td>\n",
       "    </tr>\n",
       "    <tr>\n",
       "      <th>9</th>\n",
       "      <td>31</td>\n",
       "      <td>book deluxe suite vdara past weekend two night...</td>\n",
       "      <td>4</td>\n",
       "      <td>0.876377</td>\n",
       "    </tr>\n",
       "  </tbody>\n",
       "</table>\n",
       "</div>"
      ],
      "text/plain": [
       "   review_db_id                                         text_words  stars  \\\n",
       "0             3  pizza make night good people great pizza anyth...      5   \n",
       "1             6  one absolute favorite restaurant usually go on...      5   \n",
       "2             8  know place star lifesaver stay mandalay bay lo...      4   \n",
       "3            20  nd time eat today st time great dont think hus...      1   \n",
       "4            22  regal locate village square super convenient p...      4   \n",
       "5            24  super good food friend order lbs shrimp lb cra...      4   \n",
       "6            25  wow get bad review come friend amaze meal ever...      5   \n",
       "7            26  allegiant disaster fare cheap cheap enough fli...      1   \n",
       "8            28  go twice leave eh feel visit decide time switc...      2   \n",
       "9            31  book deluxe suite vdara past weekend two night...      4   \n",
       "\n",
       "   cnn_sentiment  \n",
       "0       0.808333  \n",
       "1       0.992467  \n",
       "2       0.001040  \n",
       "3       0.000239  \n",
       "4       0.532928  \n",
       "5       0.958160  \n",
       "6       0.999660  \n",
       "7       0.001531  \n",
       "8       0.000279  \n",
       "9       0.876377  "
      ]
     },
     "execution_count": 54,
     "metadata": {},
     "output_type": "execute_result"
    }
   ],
   "source": [
    "yelp_lv_rts[:10]"
   ]
  },
  {
   "cell_type": "code",
   "execution_count": 55,
   "metadata": {},
   "outputs": [],
   "source": [
    "# 将结果保存起来\n",
    "yelp_lv_rts[['review_db_id', 'cnn_sentiment']].to_csv('../../dataset/las_vegas/review/las_vegas_review_text_sentiment_with_db_id.csv', index=False)"
   ]
  },
  {
   "cell_type": "code",
   "execution_count": null,
   "metadata": {},
   "outputs": [],
   "source": []
  }
 ],
 "metadata": {
  "kernelspec": {
   "display_name": "Python 2",
   "language": "python",
   "name": "python2"
  },
  "language_info": {
   "codemirror_mode": {
    "name": "ipython",
    "version": 2
   },
   "file_extension": ".py",
   "mimetype": "text/x-python",
   "name": "python",
   "nbconvert_exporter": "python",
   "pygments_lexer": "ipython2",
   "version": "2.7.14"
  }
 },
 "nbformat": 4,
 "nbformat_minor": 2
}

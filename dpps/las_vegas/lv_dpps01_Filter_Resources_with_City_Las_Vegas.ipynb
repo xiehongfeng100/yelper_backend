{
 "cells": [
  {
   "cell_type": "markdown",
   "metadata": {},
   "source": [
    "# 从大数据集中过滤出属于城市 Las Vegas 的数据集\n",
    "\n",
    "### 最终过滤出来的数据集：Business、Review、Review Text、User、Friend、Checkin"
   ]
  },
  {
   "cell_type": "code",
   "execution_count": 1,
   "metadata": {},
   "outputs": [],
   "source": [
    "import pandas as pd"
   ]
  },
  {
   "cell_type": "markdown",
   "metadata": {},
   "source": [
    "## 1. Business"
   ]
  },
  {
   "cell_type": "code",
   "execution_count": 2,
   "metadata": {},
   "outputs": [],
   "source": [
    "yelp_all_bizes = pd.read_csv('../../dataset/all/business_with_db_id.csv')"
   ]
  },
  {
   "cell_type": "code",
   "execution_count": 3,
   "metadata": {},
   "outputs": [
    {
     "data": {
      "text/plain": [
       "174566"
      ]
     },
     "execution_count": 3,
     "metadata": {},
     "output_type": "execute_result"
    }
   ],
   "source": [
    "len(yelp_all_bizes) # 这里数据量比 MySQL 中少 1 个是因为去掉了一个经度纬度为空的商店"
   ]
  },
  {
   "cell_type": "code",
   "execution_count": 4,
   "metadata": {},
   "outputs": [
    {
     "data": {
      "text/html": [
       "<div>\n",
       "<style scoped>\n",
       "    .dataframe tbody tr th:only-of-type {\n",
       "        vertical-align: middle;\n",
       "    }\n",
       "\n",
       "    .dataframe tbody tr th {\n",
       "        vertical-align: top;\n",
       "    }\n",
       "\n",
       "    .dataframe thead th {\n",
       "        text-align: right;\n",
       "    }\n",
       "</style>\n",
       "<table border=\"1\" class=\"dataframe\">\n",
       "  <thead>\n",
       "    <tr style=\"text-align: right;\">\n",
       "      <th></th>\n",
       "      <th>db_id</th>\n",
       "      <th>business_id</th>\n",
       "      <th>stars</th>\n",
       "      <th>review_count</th>\n",
       "      <th>latitude</th>\n",
       "      <th>longitude</th>\n",
       "      <th>city</th>\n",
       "    </tr>\n",
       "  </thead>\n",
       "  <tbody>\n",
       "    <tr>\n",
       "      <th>0</th>\n",
       "      <td>1</td>\n",
       "      <td>--6MefnULPED_I942VcFNA</td>\n",
       "      <td>3.0</td>\n",
       "      <td>37</td>\n",
       "      <td>43.8409</td>\n",
       "      <td>-79.3996</td>\n",
       "      <td>Richmond Hill</td>\n",
       "    </tr>\n",
       "    <tr>\n",
       "      <th>1</th>\n",
       "      <td>2</td>\n",
       "      <td>--7zmmkVg-IMGaXbuVd0SQ</td>\n",
       "      <td>4.0</td>\n",
       "      <td>47</td>\n",
       "      <td>35.4371</td>\n",
       "      <td>-80.8437</td>\n",
       "      <td>Huntersville</td>\n",
       "    </tr>\n",
       "    <tr>\n",
       "      <th>2</th>\n",
       "      <td>3</td>\n",
       "      <td>--8LPVSo5i0Oo61X01sV9A</td>\n",
       "      <td>4.5</td>\n",
       "      <td>3</td>\n",
       "      <td>33.3795</td>\n",
       "      <td>-111.7280</td>\n",
       "      <td>Gilbert</td>\n",
       "    </tr>\n",
       "    <tr>\n",
       "      <th>3</th>\n",
       "      <td>4</td>\n",
       "      <td>--9e1ONYQuAa-CB_Rrw7Tw</td>\n",
       "      <td>4.0</td>\n",
       "      <td>1451</td>\n",
       "      <td>36.1232</td>\n",
       "      <td>-115.1690</td>\n",
       "      <td>Las Vegas</td>\n",
       "    </tr>\n",
       "    <tr>\n",
       "      <th>4</th>\n",
       "      <td>5</td>\n",
       "      <td>--9QQLMTbFzLJ_oT-ON3Xw</td>\n",
       "      <td>3.5</td>\n",
       "      <td>11</td>\n",
       "      <td>33.3617</td>\n",
       "      <td>-111.9100</td>\n",
       "      <td>Tempe</td>\n",
       "    </tr>\n",
       "  </tbody>\n",
       "</table>\n",
       "</div>"
      ],
      "text/plain": [
       "   db_id             business_id  stars  review_count  latitude  longitude  \\\n",
       "0      1  --6MefnULPED_I942VcFNA    3.0            37   43.8409   -79.3996   \n",
       "1      2  --7zmmkVg-IMGaXbuVd0SQ    4.0            47   35.4371   -80.8437   \n",
       "2      3  --8LPVSo5i0Oo61X01sV9A    4.5             3   33.3795  -111.7280   \n",
       "3      4  --9e1ONYQuAa-CB_Rrw7Tw    4.0          1451   36.1232  -115.1690   \n",
       "4      5  --9QQLMTbFzLJ_oT-ON3Xw    3.5            11   33.3617  -111.9100   \n",
       "\n",
       "            city  \n",
       "0  Richmond Hill  \n",
       "1   Huntersville  \n",
       "2        Gilbert  \n",
       "3      Las Vegas  \n",
       "4          Tempe  "
      ]
     },
     "execution_count": 4,
     "metadata": {},
     "output_type": "execute_result"
    }
   ],
   "source": [
    "yelp_all_bizes[:5]"
   ]
  },
  {
   "cell_type": "code",
   "execution_count": 5,
   "metadata": {},
   "outputs": [],
   "source": [
    "yelp_lv_bizes = yelp_all_bizes[yelp_all_bizes.city=='Las Vegas']"
   ]
  },
  {
   "cell_type": "code",
   "execution_count": 6,
   "metadata": {},
   "outputs": [
    {
     "data": {
      "text/plain": [
       "26777"
      ]
     },
     "execution_count": 6,
     "metadata": {},
     "output_type": "execute_result"
    }
   ],
   "source": [
    "# 这里的数据小于 MySQL 中过滤出来的值 26809，是因为数据库中统计的时候不分大小写，所以数据比这里要大，\n",
    "# 但因为 26809 跟 26777 相差不大，所以这里我们就直接忽略掉其中差异部分了\n",
    "len(yelp_lv_bizes)"
   ]
  },
  {
   "cell_type": "code",
   "execution_count": 7,
   "metadata": {},
   "outputs": [
    {
     "data": {
      "text/html": [
       "<div>\n",
       "<style scoped>\n",
       "    .dataframe tbody tr th:only-of-type {\n",
       "        vertical-align: middle;\n",
       "    }\n",
       "\n",
       "    .dataframe tbody tr th {\n",
       "        vertical-align: top;\n",
       "    }\n",
       "\n",
       "    .dataframe thead th {\n",
       "        text-align: right;\n",
       "    }\n",
       "</style>\n",
       "<table border=\"1\" class=\"dataframe\">\n",
       "  <thead>\n",
       "    <tr style=\"text-align: right;\">\n",
       "      <th></th>\n",
       "      <th>db_id</th>\n",
       "      <th>business_id</th>\n",
       "      <th>stars</th>\n",
       "      <th>review_count</th>\n",
       "      <th>latitude</th>\n",
       "      <th>longitude</th>\n",
       "      <th>city</th>\n",
       "    </tr>\n",
       "  </thead>\n",
       "  <tbody>\n",
       "    <tr>\n",
       "      <th>3</th>\n",
       "      <td>4</td>\n",
       "      <td>--9e1ONYQuAa-CB_Rrw7Tw</td>\n",
       "      <td>4.0</td>\n",
       "      <td>1451</td>\n",
       "      <td>36.1232</td>\n",
       "      <td>-115.169</td>\n",
       "      <td>Las Vegas</td>\n",
       "    </tr>\n",
       "    <tr>\n",
       "      <th>10</th>\n",
       "      <td>11</td>\n",
       "      <td>--DdmeR16TRb3LsjG0ejrQ</td>\n",
       "      <td>3.0</td>\n",
       "      <td>5</td>\n",
       "      <td>36.1143</td>\n",
       "      <td>-115.171</td>\n",
       "      <td>Las Vegas</td>\n",
       "    </tr>\n",
       "    <tr>\n",
       "      <th>11</th>\n",
       "      <td>12</td>\n",
       "      <td>--e8PjCNhEz32pprnPhCwQ</td>\n",
       "      <td>3.5</td>\n",
       "      <td>19</td>\n",
       "      <td>36.1589</td>\n",
       "      <td>-115.133</td>\n",
       "      <td>Las Vegas</td>\n",
       "    </tr>\n",
       "    <tr>\n",
       "      <th>28</th>\n",
       "      <td>29</td>\n",
       "      <td>--o5BoU7qYMALeVDK6mwVg</td>\n",
       "      <td>3.5</td>\n",
       "      <td>6</td>\n",
       "      <td>36.1016</td>\n",
       "      <td>-115.132</td>\n",
       "      <td>Las Vegas</td>\n",
       "    </tr>\n",
       "    <tr>\n",
       "      <th>32</th>\n",
       "      <td>33</td>\n",
       "      <td>--q7kSBRb0vWC8lSkXFByA</td>\n",
       "      <td>4.0</td>\n",
       "      <td>7</td>\n",
       "      <td>36.0167</td>\n",
       "      <td>-115.173</td>\n",
       "      <td>Las Vegas</td>\n",
       "    </tr>\n",
       "  </tbody>\n",
       "</table>\n",
       "</div>"
      ],
      "text/plain": [
       "    db_id             business_id  stars  review_count  latitude  longitude  \\\n",
       "3       4  --9e1ONYQuAa-CB_Rrw7Tw    4.0          1451   36.1232   -115.169   \n",
       "10     11  --DdmeR16TRb3LsjG0ejrQ    3.0             5   36.1143   -115.171   \n",
       "11     12  --e8PjCNhEz32pprnPhCwQ    3.5            19   36.1589   -115.133   \n",
       "28     29  --o5BoU7qYMALeVDK6mwVg    3.5             6   36.1016   -115.132   \n",
       "32     33  --q7kSBRb0vWC8lSkXFByA    4.0             7   36.0167   -115.173   \n",
       "\n",
       "         city  \n",
       "3   Las Vegas  \n",
       "10  Las Vegas  \n",
       "11  Las Vegas  \n",
       "28  Las Vegas  \n",
       "32  Las Vegas  "
      ]
     },
     "execution_count": 7,
     "metadata": {},
     "output_type": "execute_result"
    }
   ],
   "source": [
    "yelp_lv_bizes[:5]"
   ]
  },
  {
   "cell_type": "code",
   "execution_count": 8,
   "metadata": {},
   "outputs": [],
   "source": [
    "yelp_lv_bizes.to_csv('../../dataset/las_vegas/business/las_vegas_business_with_db_id.csv', index=False)"
   ]
  },
  {
   "cell_type": "markdown",
   "metadata": {},
   "source": [
    "## 2. Review"
   ]
  },
  {
   "cell_type": "code",
   "execution_count": 9,
   "metadata": {},
   "outputs": [],
   "source": [
    "yelp_all_rvs = pd.read_csv('../../dataset/all/review_with_db_id.csv')"
   ]
  },
  {
   "cell_type": "code",
   "execution_count": 10,
   "metadata": {},
   "outputs": [
    {
     "data": {
      "text/plain": [
       "5261644"
      ]
     },
     "execution_count": 10,
     "metadata": {},
     "output_type": "execute_result"
    }
   ],
   "source": [
    "len(yelp_all_rvs)"
   ]
  },
  {
   "cell_type": "code",
   "execution_count": 11,
   "metadata": {},
   "outputs": [
    {
     "data": {
      "text/html": [
       "<div>\n",
       "<style scoped>\n",
       "    .dataframe tbody tr th:only-of-type {\n",
       "        vertical-align: middle;\n",
       "    }\n",
       "\n",
       "    .dataframe tbody tr th {\n",
       "        vertical-align: top;\n",
       "    }\n",
       "\n",
       "    .dataframe thead th {\n",
       "        text-align: right;\n",
       "    }\n",
       "</style>\n",
       "<table border=\"1\" class=\"dataframe\">\n",
       "  <thead>\n",
       "    <tr style=\"text-align: right;\">\n",
       "      <th></th>\n",
       "      <th>db_id</th>\n",
       "      <th>review_id</th>\n",
       "      <th>user_db_id</th>\n",
       "      <th>business_db_id</th>\n",
       "      <th>stars</th>\n",
       "      <th>year</th>\n",
       "    </tr>\n",
       "  </thead>\n",
       "  <tbody>\n",
       "    <tr>\n",
       "      <th>0</th>\n",
       "      <td>1</td>\n",
       "      <td>----X0BIDP9tA49U3RvdSQ</td>\n",
       "      <td>511974</td>\n",
       "      <td>140598</td>\n",
       "      <td>4</td>\n",
       "      <td>2014</td>\n",
       "    </tr>\n",
       "    <tr>\n",
       "      <th>1</th>\n",
       "      <td>2</td>\n",
       "      <td>---0hl58W-sjVTKi5LghGw</td>\n",
       "      <td>1227202</td>\n",
       "      <td>31553</td>\n",
       "      <td>4</td>\n",
       "      <td>2016</td>\n",
       "    </tr>\n",
       "    <tr>\n",
       "      <th>2</th>\n",
       "      <td>3</td>\n",
       "      <td>---3OXpexMp0oAg77xWfYA</td>\n",
       "      <td>999269</td>\n",
       "      <td>92729</td>\n",
       "      <td>5</td>\n",
       "      <td>2012</td>\n",
       "    </tr>\n",
       "    <tr>\n",
       "      <th>3</th>\n",
       "      <td>4</td>\n",
       "      <td>---65iIIGzHj96QnOh89EQ</td>\n",
       "      <td>1108834</td>\n",
       "      <td>20560</td>\n",
       "      <td>5</td>\n",
       "      <td>2015</td>\n",
       "    </tr>\n",
       "    <tr>\n",
       "      <th>4</th>\n",
       "      <td>5</td>\n",
       "      <td>---7WhU-FtzSUOje87Y4uw</td>\n",
       "      <td>786974</td>\n",
       "      <td>171846</td>\n",
       "      <td>5</td>\n",
       "      <td>2016</td>\n",
       "    </tr>\n",
       "  </tbody>\n",
       "</table>\n",
       "</div>"
      ],
      "text/plain": [
       "   db_id               review_id  user_db_id  business_db_id  stars  year\n",
       "0      1  ----X0BIDP9tA49U3RvdSQ      511974          140598      4  2014\n",
       "1      2  ---0hl58W-sjVTKi5LghGw     1227202           31553      4  2016\n",
       "2      3  ---3OXpexMp0oAg77xWfYA      999269           92729      5  2012\n",
       "3      4  ---65iIIGzHj96QnOh89EQ     1108834           20560      5  2015\n",
       "4      5  ---7WhU-FtzSUOje87Y4uw      786974          171846      5  2016"
      ]
     },
     "execution_count": 11,
     "metadata": {},
     "output_type": "execute_result"
    }
   ],
   "source": [
    "yelp_all_rvs[:5]"
   ]
  },
  {
   "cell_type": "code",
   "execution_count": 12,
   "metadata": {},
   "outputs": [],
   "source": [
    "yelp_lv_rvs = yelp_all_rvs[yelp_all_rvs.business_db_id.isin(yelp_lv_bizes.db_id.values)]"
   ]
  },
  {
   "cell_type": "code",
   "execution_count": 13,
   "metadata": {},
   "outputs": [
    {
     "data": {
      "text/plain": [
       "1604246"
      ]
     },
     "execution_count": 13,
     "metadata": {},
     "output_type": "execute_result"
    }
   ],
   "source": [
    "len(yelp_lv_rvs)"
   ]
  },
  {
   "cell_type": "code",
   "execution_count": 14,
   "metadata": {},
   "outputs": [
    {
     "data": {
      "text/html": [
       "<div>\n",
       "<style scoped>\n",
       "    .dataframe tbody tr th:only-of-type {\n",
       "        vertical-align: middle;\n",
       "    }\n",
       "\n",
       "    .dataframe tbody tr th {\n",
       "        vertical-align: top;\n",
       "    }\n",
       "\n",
       "    .dataframe thead th {\n",
       "        text-align: right;\n",
       "    }\n",
       "</style>\n",
       "<table border=\"1\" class=\"dataframe\">\n",
       "  <thead>\n",
       "    <tr style=\"text-align: right;\">\n",
       "      <th></th>\n",
       "      <th>db_id</th>\n",
       "      <th>review_id</th>\n",
       "      <th>user_db_id</th>\n",
       "      <th>business_db_id</th>\n",
       "      <th>stars</th>\n",
       "      <th>year</th>\n",
       "    </tr>\n",
       "  </thead>\n",
       "  <tbody>\n",
       "    <tr>\n",
       "      <th>2</th>\n",
       "      <td>3</td>\n",
       "      <td>---3OXpexMp0oAg77xWfYA</td>\n",
       "      <td>999269</td>\n",
       "      <td>92729</td>\n",
       "      <td>5</td>\n",
       "      <td>2012</td>\n",
       "    </tr>\n",
       "    <tr>\n",
       "      <th>5</th>\n",
       "      <td>6</td>\n",
       "      <td>---94vtJ_5o_nikEs6hUjg</td>\n",
       "      <td>313272</td>\n",
       "      <td>122971</td>\n",
       "      <td>5</td>\n",
       "      <td>2014</td>\n",
       "    </tr>\n",
       "    <tr>\n",
       "      <th>7</th>\n",
       "      <td>8</td>\n",
       "      <td>---D6-P4MpS86LYldBfX7w</td>\n",
       "      <td>735101</td>\n",
       "      <td>160943</td>\n",
       "      <td>4</td>\n",
       "      <td>2016</td>\n",
       "    </tr>\n",
       "    <tr>\n",
       "      <th>19</th>\n",
       "      <td>20</td>\n",
       "      <td>---WDP9kwKyVQiw9GTgNmQ</td>\n",
       "      <td>1045600</td>\n",
       "      <td>12131</td>\n",
       "      <td>1</td>\n",
       "      <td>2014</td>\n",
       "    </tr>\n",
       "    <tr>\n",
       "      <th>21</th>\n",
       "      <td>22</td>\n",
       "      <td>---zHMCae68gIbSbtXxD5w</td>\n",
       "      <td>971613</td>\n",
       "      <td>15470</td>\n",
       "      <td>4</td>\n",
       "      <td>2015</td>\n",
       "    </tr>\n",
       "  </tbody>\n",
       "</table>\n",
       "</div>"
      ],
      "text/plain": [
       "    db_id               review_id  user_db_id  business_db_id  stars  year\n",
       "2       3  ---3OXpexMp0oAg77xWfYA      999269           92729      5  2012\n",
       "5       6  ---94vtJ_5o_nikEs6hUjg      313272          122971      5  2014\n",
       "7       8  ---D6-P4MpS86LYldBfX7w      735101          160943      4  2016\n",
       "19     20  ---WDP9kwKyVQiw9GTgNmQ     1045600           12131      1  2014\n",
       "21     22  ---zHMCae68gIbSbtXxD5w      971613           15470      4  2015"
      ]
     },
     "execution_count": 14,
     "metadata": {},
     "output_type": "execute_result"
    }
   ],
   "source": [
    "yelp_lv_rvs[:5]"
   ]
  },
  {
   "cell_type": "code",
   "execution_count": 15,
   "metadata": {},
   "outputs": [],
   "source": [
    "yelp_lv_rvs.to_csv('../../dataset/las_vegas/review/las_vegas_review_with_db_id.csv', index=False)"
   ]
  },
  {
   "cell_type": "markdown",
   "metadata": {},
   "source": [
    "## 3. Review Text\n",
    "\n",
    "出于效率考虑（review 文本容量大，但读取频率低），在 MySQL 分表的时候将 review 文本内容单独分成一个表，但这些文本内容中含有大量的逗号，若直接从 MySQL 导出成 csv 文件，则因我们的 csv 用逗号来分割字段，导致我们最终无法成功读取该 csv 文件，所以，这里我们下载 Yelp 的 JSON 格式的 review [数据文件](https://www.yelp.com/dataset)，然后用[官方转换工具](https://github.com/Yelp/dataset-examples/blob/master/json_to_csv_converter.py)将其转为 csv 格式，最终再拼凑成一个单独的 review 文本 csv 文件。"
   ]
  },
  {
   "cell_type": "code",
   "execution_count": 16,
   "metadata": {},
   "outputs": [],
   "source": [
    "yelp_raw_rvs = pd.read_csv('../../dataset/all/review.csv')"
   ]
  },
  {
   "cell_type": "code",
   "execution_count": 17,
   "metadata": {},
   "outputs": [
    {
     "data": {
      "text/html": [
       "<div>\n",
       "<style scoped>\n",
       "    .dataframe tbody tr th:only-of-type {\n",
       "        vertical-align: middle;\n",
       "    }\n",
       "\n",
       "    .dataframe tbody tr th {\n",
       "        vertical-align: top;\n",
       "    }\n",
       "\n",
       "    .dataframe thead th {\n",
       "        text-align: right;\n",
       "    }\n",
       "</style>\n",
       "<table border=\"1\" class=\"dataframe\">\n",
       "  <thead>\n",
       "    <tr style=\"text-align: right;\">\n",
       "      <th></th>\n",
       "      <th>funny</th>\n",
       "      <th>user_id</th>\n",
       "      <th>review_id</th>\n",
       "      <th>text</th>\n",
       "      <th>business_id</th>\n",
       "      <th>stars</th>\n",
       "      <th>date</th>\n",
       "      <th>useful</th>\n",
       "      <th>cool</th>\n",
       "    </tr>\n",
       "  </thead>\n",
       "  <tbody>\n",
       "    <tr>\n",
       "      <th>0</th>\n",
       "      <td>0</td>\n",
       "      <td>bv2nCi5Qv5vroFiqKGopiw</td>\n",
       "      <td>v0i_UHJMo_hPBq9bxWvW4w</td>\n",
       "      <td>Love the staff, love the meat, love the place....</td>\n",
       "      <td>0W4lkclzZThpx3V65bVgig</td>\n",
       "      <td>5</td>\n",
       "      <td>2016-05-28</td>\n",
       "      <td>0</td>\n",
       "      <td>0</td>\n",
       "    </tr>\n",
       "    <tr>\n",
       "      <th>1</th>\n",
       "      <td>0</td>\n",
       "      <td>bv2nCi5Qv5vroFiqKGopiw</td>\n",
       "      <td>vkVSCC7xljjrAI4UGfnKEQ</td>\n",
       "      <td>Super simple place but amazing nonetheless. It...</td>\n",
       "      <td>AEx2SYEUJmTxVVB18LlCwA</td>\n",
       "      <td>5</td>\n",
       "      <td>2016-05-28</td>\n",
       "      <td>0</td>\n",
       "      <td>0</td>\n",
       "    </tr>\n",
       "    <tr>\n",
       "      <th>2</th>\n",
       "      <td>0</td>\n",
       "      <td>bv2nCi5Qv5vroFiqKGopiw</td>\n",
       "      <td>n6QzIUObkYshz4dz2QRJTw</td>\n",
       "      <td>Small unassuming place that changes their menu...</td>\n",
       "      <td>VR6GpWIda3SfvPC-lg9H3w</td>\n",
       "      <td>5</td>\n",
       "      <td>2016-05-28</td>\n",
       "      <td>0</td>\n",
       "      <td>0</td>\n",
       "    </tr>\n",
       "    <tr>\n",
       "      <th>3</th>\n",
       "      <td>0</td>\n",
       "      <td>bv2nCi5Qv5vroFiqKGopiw</td>\n",
       "      <td>MV3CcKScW05u5LVfF6ok0g</td>\n",
       "      <td>Lester's is located in a beautiful neighborhoo...</td>\n",
       "      <td>CKC0-MOWMqoeWf6s-szl8g</td>\n",
       "      <td>5</td>\n",
       "      <td>2016-05-28</td>\n",
       "      <td>0</td>\n",
       "      <td>0</td>\n",
       "    </tr>\n",
       "    <tr>\n",
       "      <th>4</th>\n",
       "      <td>0</td>\n",
       "      <td>bv2nCi5Qv5vroFiqKGopiw</td>\n",
       "      <td>IXvOzsEMYtiJI0CARmj77Q</td>\n",
       "      <td>Love coming here. Yes the place always needs t...</td>\n",
       "      <td>ACFtxLv8pGrrxMm6EgjreA</td>\n",
       "      <td>4</td>\n",
       "      <td>2016-05-28</td>\n",
       "      <td>0</td>\n",
       "      <td>0</td>\n",
       "    </tr>\n",
       "  </tbody>\n",
       "</table>\n",
       "</div>"
      ],
      "text/plain": [
       "   funny                 user_id               review_id  \\\n",
       "0      0  bv2nCi5Qv5vroFiqKGopiw  v0i_UHJMo_hPBq9bxWvW4w   \n",
       "1      0  bv2nCi5Qv5vroFiqKGopiw  vkVSCC7xljjrAI4UGfnKEQ   \n",
       "2      0  bv2nCi5Qv5vroFiqKGopiw  n6QzIUObkYshz4dz2QRJTw   \n",
       "3      0  bv2nCi5Qv5vroFiqKGopiw  MV3CcKScW05u5LVfF6ok0g   \n",
       "4      0  bv2nCi5Qv5vroFiqKGopiw  IXvOzsEMYtiJI0CARmj77Q   \n",
       "\n",
       "                                                text             business_id  \\\n",
       "0  Love the staff, love the meat, love the place....  0W4lkclzZThpx3V65bVgig   \n",
       "1  Super simple place but amazing nonetheless. It...  AEx2SYEUJmTxVVB18LlCwA   \n",
       "2  Small unassuming place that changes their menu...  VR6GpWIda3SfvPC-lg9H3w   \n",
       "3  Lester's is located in a beautiful neighborhoo...  CKC0-MOWMqoeWf6s-szl8g   \n",
       "4  Love coming here. Yes the place always needs t...  ACFtxLv8pGrrxMm6EgjreA   \n",
       "\n",
       "   stars        date  useful  cool  \n",
       "0      5  2016-05-28       0     0  \n",
       "1      5  2016-05-28       0     0  \n",
       "2      5  2016-05-28       0     0  \n",
       "3      5  2016-05-28       0     0  \n",
       "4      4  2016-05-28       0     0  "
      ]
     },
     "execution_count": 17,
     "metadata": {},
     "output_type": "execute_result"
    }
   ],
   "source": [
    "yelp_raw_rvs[:5]"
   ]
  },
  {
   "cell_type": "code",
   "execution_count": 18,
   "metadata": {},
   "outputs": [],
   "source": [
    "yelp_raw_rv_texts = yelp_raw_rvs[['review_id', 'text']]"
   ]
  },
  {
   "cell_type": "code",
   "execution_count": 19,
   "metadata": {},
   "outputs": [
    {
     "data": {
      "text/html": [
       "<div>\n",
       "<style scoped>\n",
       "    .dataframe tbody tr th:only-of-type {\n",
       "        vertical-align: middle;\n",
       "    }\n",
       "\n",
       "    .dataframe tbody tr th {\n",
       "        vertical-align: top;\n",
       "    }\n",
       "\n",
       "    .dataframe thead th {\n",
       "        text-align: right;\n",
       "    }\n",
       "</style>\n",
       "<table border=\"1\" class=\"dataframe\">\n",
       "  <thead>\n",
       "    <tr style=\"text-align: right;\">\n",
       "      <th></th>\n",
       "      <th>review_id</th>\n",
       "      <th>text</th>\n",
       "    </tr>\n",
       "  </thead>\n",
       "  <tbody>\n",
       "    <tr>\n",
       "      <th>0</th>\n",
       "      <td>v0i_UHJMo_hPBq9bxWvW4w</td>\n",
       "      <td>Love the staff, love the meat, love the place....</td>\n",
       "    </tr>\n",
       "    <tr>\n",
       "      <th>1</th>\n",
       "      <td>vkVSCC7xljjrAI4UGfnKEQ</td>\n",
       "      <td>Super simple place but amazing nonetheless. It...</td>\n",
       "    </tr>\n",
       "    <tr>\n",
       "      <th>2</th>\n",
       "      <td>n6QzIUObkYshz4dz2QRJTw</td>\n",
       "      <td>Small unassuming place that changes their menu...</td>\n",
       "    </tr>\n",
       "    <tr>\n",
       "      <th>3</th>\n",
       "      <td>MV3CcKScW05u5LVfF6ok0g</td>\n",
       "      <td>Lester's is located in a beautiful neighborhoo...</td>\n",
       "    </tr>\n",
       "    <tr>\n",
       "      <th>4</th>\n",
       "      <td>IXvOzsEMYtiJI0CARmj77Q</td>\n",
       "      <td>Love coming here. Yes the place always needs t...</td>\n",
       "    </tr>\n",
       "  </tbody>\n",
       "</table>\n",
       "</div>"
      ],
      "text/plain": [
       "                review_id                                               text\n",
       "0  v0i_UHJMo_hPBq9bxWvW4w  Love the staff, love the meat, love the place....\n",
       "1  vkVSCC7xljjrAI4UGfnKEQ  Super simple place but amazing nonetheless. It...\n",
       "2  n6QzIUObkYshz4dz2QRJTw  Small unassuming place that changes their menu...\n",
       "3  MV3CcKScW05u5LVfF6ok0g  Lester's is located in a beautiful neighborhoo...\n",
       "4  IXvOzsEMYtiJI0CARmj77Q  Love coming here. Yes the place always needs t..."
      ]
     },
     "execution_count": 19,
     "metadata": {},
     "output_type": "execute_result"
    }
   ],
   "source": [
    "yelp_raw_rv_texts[:5]"
   ]
  },
  {
   "cell_type": "code",
   "execution_count": 20,
   "metadata": {},
   "outputs": [],
   "source": [
    "yelp_lv_rv_texts = yelp_lv_rvs.join(yelp_raw_rv_texts.set_index('review_id'), on='review_id')"
   ]
  },
  {
   "cell_type": "code",
   "execution_count": 21,
   "metadata": {},
   "outputs": [
    {
     "data": {
      "text/plain": [
       "1604246"
      ]
     },
     "execution_count": 21,
     "metadata": {},
     "output_type": "execute_result"
    }
   ],
   "source": [
    "len(yelp_lv_rv_texts)"
   ]
  },
  {
   "cell_type": "code",
   "execution_count": 22,
   "metadata": {},
   "outputs": [
    {
     "data": {
      "text/html": [
       "<div>\n",
       "<style scoped>\n",
       "    .dataframe tbody tr th:only-of-type {\n",
       "        vertical-align: middle;\n",
       "    }\n",
       "\n",
       "    .dataframe tbody tr th {\n",
       "        vertical-align: top;\n",
       "    }\n",
       "\n",
       "    .dataframe thead th {\n",
       "        text-align: right;\n",
       "    }\n",
       "</style>\n",
       "<table border=\"1\" class=\"dataframe\">\n",
       "  <thead>\n",
       "    <tr style=\"text-align: right;\">\n",
       "      <th></th>\n",
       "      <th>db_id</th>\n",
       "      <th>review_id</th>\n",
       "      <th>user_db_id</th>\n",
       "      <th>business_db_id</th>\n",
       "      <th>stars</th>\n",
       "      <th>year</th>\n",
       "      <th>text</th>\n",
       "    </tr>\n",
       "  </thead>\n",
       "  <tbody>\n",
       "    <tr>\n",
       "      <th>2</th>\n",
       "      <td>3</td>\n",
       "      <td>---3OXpexMp0oAg77xWfYA</td>\n",
       "      <td>999269</td>\n",
       "      <td>92729</td>\n",
       "      <td>5</td>\n",
       "      <td>2012</td>\n",
       "      <td>Pizza here made my night... Good people and gr...</td>\n",
       "    </tr>\n",
       "    <tr>\n",
       "      <th>5</th>\n",
       "      <td>6</td>\n",
       "      <td>---94vtJ_5o_nikEs6hUjg</td>\n",
       "      <td>313272</td>\n",
       "      <td>122971</td>\n",
       "      <td>5</td>\n",
       "      <td>2014</td>\n",
       "      <td>One of my absolute favorite restaurants! I usu...</td>\n",
       "    </tr>\n",
       "    <tr>\n",
       "      <th>7</th>\n",
       "      <td>8</td>\n",
       "      <td>---D6-P4MpS86LYldBfX7w</td>\n",
       "      <td>735101</td>\n",
       "      <td>160943</td>\n",
       "      <td>4</td>\n",
       "      <td>2016</td>\n",
       "      <td>I don't know why this place only has 3 stars b...</td>\n",
       "    </tr>\n",
       "    <tr>\n",
       "      <th>19</th>\n",
       "      <td>20</td>\n",
       "      <td>---WDP9kwKyVQiw9GTgNmQ</td>\n",
       "      <td>1045600</td>\n",
       "      <td>12131</td>\n",
       "      <td>1</td>\n",
       "      <td>2014</td>\n",
       "      <td>2Nd time eating here today.1st time was great ...</td>\n",
       "    </tr>\n",
       "    <tr>\n",
       "      <th>21</th>\n",
       "      <td>22</td>\n",
       "      <td>---zHMCae68gIbSbtXxD5w</td>\n",
       "      <td>971613</td>\n",
       "      <td>15470</td>\n",
       "      <td>4</td>\n",
       "      <td>2015</td>\n",
       "      <td>From 8/22/15 \\n\\nThe Regal 18 is located in Vi...</td>\n",
       "    </tr>\n",
       "  </tbody>\n",
       "</table>\n",
       "</div>"
      ],
      "text/plain": [
       "    db_id               review_id  user_db_id  business_db_id  stars  year  \\\n",
       "2       3  ---3OXpexMp0oAg77xWfYA      999269           92729      5  2012   \n",
       "5       6  ---94vtJ_5o_nikEs6hUjg      313272          122971      5  2014   \n",
       "7       8  ---D6-P4MpS86LYldBfX7w      735101          160943      4  2016   \n",
       "19     20  ---WDP9kwKyVQiw9GTgNmQ     1045600           12131      1  2014   \n",
       "21     22  ---zHMCae68gIbSbtXxD5w      971613           15470      4  2015   \n",
       "\n",
       "                                                 text  \n",
       "2   Pizza here made my night... Good people and gr...  \n",
       "5   One of my absolute favorite restaurants! I usu...  \n",
       "7   I don't know why this place only has 3 stars b...  \n",
       "19  2Nd time eating here today.1st time was great ...  \n",
       "21  From 8/22/15 \\n\\nThe Regal 18 is located in Vi...  "
      ]
     },
     "execution_count": 22,
     "metadata": {},
     "output_type": "execute_result"
    }
   ],
   "source": [
    "yelp_lv_rv_texts[:5]"
   ]
  },
  {
   "cell_type": "code",
   "execution_count": 23,
   "metadata": {},
   "outputs": [],
   "source": [
    "# Rename column\n",
    "yelp_lv_rv_texts = yelp_lv_rv_texts.rename(index=str, columns={'db_id': 'review_db_id'})"
   ]
  },
  {
   "cell_type": "code",
   "execution_count": 24,
   "metadata": {},
   "outputs": [
    {
     "data": {
      "text/html": [
       "<div>\n",
       "<style scoped>\n",
       "    .dataframe tbody tr th:only-of-type {\n",
       "        vertical-align: middle;\n",
       "    }\n",
       "\n",
       "    .dataframe tbody tr th {\n",
       "        vertical-align: top;\n",
       "    }\n",
       "\n",
       "    .dataframe thead th {\n",
       "        text-align: right;\n",
       "    }\n",
       "</style>\n",
       "<table border=\"1\" class=\"dataframe\">\n",
       "  <thead>\n",
       "    <tr style=\"text-align: right;\">\n",
       "      <th></th>\n",
       "      <th>review_db_id</th>\n",
       "      <th>review_id</th>\n",
       "      <th>user_db_id</th>\n",
       "      <th>business_db_id</th>\n",
       "      <th>stars</th>\n",
       "      <th>year</th>\n",
       "      <th>text</th>\n",
       "    </tr>\n",
       "  </thead>\n",
       "  <tbody>\n",
       "    <tr>\n",
       "      <th>2</th>\n",
       "      <td>3</td>\n",
       "      <td>---3OXpexMp0oAg77xWfYA</td>\n",
       "      <td>999269</td>\n",
       "      <td>92729</td>\n",
       "      <td>5</td>\n",
       "      <td>2012</td>\n",
       "      <td>Pizza here made my night... Good people and gr...</td>\n",
       "    </tr>\n",
       "    <tr>\n",
       "      <th>5</th>\n",
       "      <td>6</td>\n",
       "      <td>---94vtJ_5o_nikEs6hUjg</td>\n",
       "      <td>313272</td>\n",
       "      <td>122971</td>\n",
       "      <td>5</td>\n",
       "      <td>2014</td>\n",
       "      <td>One of my absolute favorite restaurants! I usu...</td>\n",
       "    </tr>\n",
       "    <tr>\n",
       "      <th>7</th>\n",
       "      <td>8</td>\n",
       "      <td>---D6-P4MpS86LYldBfX7w</td>\n",
       "      <td>735101</td>\n",
       "      <td>160943</td>\n",
       "      <td>4</td>\n",
       "      <td>2016</td>\n",
       "      <td>I don't know why this place only has 3 stars b...</td>\n",
       "    </tr>\n",
       "    <tr>\n",
       "      <th>19</th>\n",
       "      <td>20</td>\n",
       "      <td>---WDP9kwKyVQiw9GTgNmQ</td>\n",
       "      <td>1045600</td>\n",
       "      <td>12131</td>\n",
       "      <td>1</td>\n",
       "      <td>2014</td>\n",
       "      <td>2Nd time eating here today.1st time was great ...</td>\n",
       "    </tr>\n",
       "    <tr>\n",
       "      <th>21</th>\n",
       "      <td>22</td>\n",
       "      <td>---zHMCae68gIbSbtXxD5w</td>\n",
       "      <td>971613</td>\n",
       "      <td>15470</td>\n",
       "      <td>4</td>\n",
       "      <td>2015</td>\n",
       "      <td>From 8/22/15 \\n\\nThe Regal 18 is located in Vi...</td>\n",
       "    </tr>\n",
       "  </tbody>\n",
       "</table>\n",
       "</div>"
      ],
      "text/plain": [
       "    review_db_id               review_id  user_db_id  business_db_id  stars  \\\n",
       "2              3  ---3OXpexMp0oAg77xWfYA      999269           92729      5   \n",
       "5              6  ---94vtJ_5o_nikEs6hUjg      313272          122971      5   \n",
       "7              8  ---D6-P4MpS86LYldBfX7w      735101          160943      4   \n",
       "19            20  ---WDP9kwKyVQiw9GTgNmQ     1045600           12131      1   \n",
       "21            22  ---zHMCae68gIbSbtXxD5w      971613           15470      4   \n",
       "\n",
       "    year                                               text  \n",
       "2   2012  Pizza here made my night... Good people and gr...  \n",
       "5   2014  One of my absolute favorite restaurants! I usu...  \n",
       "7   2016  I don't know why this place only has 3 stars b...  \n",
       "19  2014  2Nd time eating here today.1st time was great ...  \n",
       "21  2015  From 8/22/15 \\n\\nThe Regal 18 is located in Vi...  "
      ]
     },
     "execution_count": 24,
     "metadata": {},
     "output_type": "execute_result"
    }
   ],
   "source": [
    "yelp_lv_rv_texts[:5]"
   ]
  },
  {
   "cell_type": "code",
   "execution_count": 25,
   "metadata": {},
   "outputs": [],
   "source": [
    "yelp_lv_rv_texts[['review_db_id', 'text']].to_csv('../../dataset/las_vegas/review/las_vegas_review_text_with_db_id.csv', index=False)"
   ]
  },
  {
   "cell_type": "markdown",
   "metadata": {},
   "source": [
    "## 4. User"
   ]
  },
  {
   "cell_type": "markdown",
   "metadata": {},
   "source": [
    "### 4.1 Get Las Vegas Users via Review"
   ]
  },
  {
   "cell_type": "code",
   "execution_count": 26,
   "metadata": {},
   "outputs": [],
   "source": [
    "lv_users = yelp_lv_rvs.user_db_id.unique()"
   ]
  },
  {
   "cell_type": "code",
   "execution_count": 27,
   "metadata": {},
   "outputs": [
    {
     "data": {
      "text/plain": [
       "506033"
      ]
     },
     "execution_count": 27,
     "metadata": {},
     "output_type": "execute_result"
    }
   ],
   "source": [
    "len(lv_users)"
   ]
  },
  {
   "cell_type": "code",
   "execution_count": 28,
   "metadata": {},
   "outputs": [
    {
     "data": {
      "text/plain": [
       "array([ 999269,  313272,  735101, 1045600,  971613])"
      ]
     },
     "execution_count": 28,
     "metadata": {},
     "output_type": "execute_result"
    }
   ],
   "source": [
    "lv_users[:5]"
   ]
  },
  {
   "cell_type": "markdown",
   "metadata": {},
   "source": [
    "### 4.2 Filter Users"
   ]
  },
  {
   "cell_type": "code",
   "execution_count": 29,
   "metadata": {},
   "outputs": [],
   "source": [
    "yelp_all_users = pd.read_csv('../../dataset/all/user_with_db_id.csv')"
   ]
  },
  {
   "cell_type": "code",
   "execution_count": 30,
   "metadata": {},
   "outputs": [
    {
     "data": {
      "text/plain": [
       "1326101"
      ]
     },
     "execution_count": 30,
     "metadata": {},
     "output_type": "execute_result"
    }
   ],
   "source": [
    "len(yelp_all_users)"
   ]
  },
  {
   "cell_type": "code",
   "execution_count": 31,
   "metadata": {},
   "outputs": [
    {
     "data": {
      "text/html": [
       "<div>\n",
       "<style scoped>\n",
       "    .dataframe tbody tr th:only-of-type {\n",
       "        vertical-align: middle;\n",
       "    }\n",
       "\n",
       "    .dataframe tbody tr th {\n",
       "        vertical-align: top;\n",
       "    }\n",
       "\n",
       "    .dataframe thead th {\n",
       "        text-align: right;\n",
       "    }\n",
       "</style>\n",
       "<table border=\"1\" class=\"dataframe\">\n",
       "  <thead>\n",
       "    <tr style=\"text-align: right;\">\n",
       "      <th></th>\n",
       "      <th>db_id</th>\n",
       "      <th>user_id</th>\n",
       "    </tr>\n",
       "  </thead>\n",
       "  <tbody>\n",
       "    <tr>\n",
       "      <th>0</th>\n",
       "      <td>1</td>\n",
       "      <td>---1lKK3aKOuomHnwAkAow</td>\n",
       "    </tr>\n",
       "    <tr>\n",
       "      <th>1</th>\n",
       "      <td>2</td>\n",
       "      <td>---94vtJ_5o_nikEs6hUjg</td>\n",
       "    </tr>\n",
       "    <tr>\n",
       "      <th>2</th>\n",
       "      <td>3</td>\n",
       "      <td>---cu1hq55BP9DWVXXKHZg</td>\n",
       "    </tr>\n",
       "    <tr>\n",
       "      <th>3</th>\n",
       "      <td>4</td>\n",
       "      <td>---fhiwiwBYrvqhpXgcWDQ</td>\n",
       "    </tr>\n",
       "    <tr>\n",
       "      <th>4</th>\n",
       "      <td>5</td>\n",
       "      <td>---PLwSf5gKdIoVnyRHgBA</td>\n",
       "    </tr>\n",
       "  </tbody>\n",
       "</table>\n",
       "</div>"
      ],
      "text/plain": [
       "   db_id                 user_id\n",
       "0      1  ---1lKK3aKOuomHnwAkAow\n",
       "1      2  ---94vtJ_5o_nikEs6hUjg\n",
       "2      3  ---cu1hq55BP9DWVXXKHZg\n",
       "3      4  ---fhiwiwBYrvqhpXgcWDQ\n",
       "4      5  ---PLwSf5gKdIoVnyRHgBA"
      ]
     },
     "execution_count": 31,
     "metadata": {},
     "output_type": "execute_result"
    }
   ],
   "source": [
    "yelp_all_users[:5]"
   ]
  },
  {
   "cell_type": "code",
   "execution_count": 32,
   "metadata": {},
   "outputs": [],
   "source": [
    "yelp_lv_users = yelp_all_users[yelp_all_users.db_id.isin(lv_users)]"
   ]
  },
  {
   "cell_type": "code",
   "execution_count": 33,
   "metadata": {},
   "outputs": [
    {
     "data": {
      "text/plain": [
       "506033"
      ]
     },
     "execution_count": 33,
     "metadata": {},
     "output_type": "execute_result"
    }
   ],
   "source": [
    "len(yelp_lv_users)"
   ]
  },
  {
   "cell_type": "code",
   "execution_count": 34,
   "metadata": {},
   "outputs": [
    {
     "data": {
      "text/html": [
       "<div>\n",
       "<style scoped>\n",
       "    .dataframe tbody tr th:only-of-type {\n",
       "        vertical-align: middle;\n",
       "    }\n",
       "\n",
       "    .dataframe tbody tr th {\n",
       "        vertical-align: top;\n",
       "    }\n",
       "\n",
       "    .dataframe thead th {\n",
       "        text-align: right;\n",
       "    }\n",
       "</style>\n",
       "<table border=\"1\" class=\"dataframe\">\n",
       "  <thead>\n",
       "    <tr style=\"text-align: right;\">\n",
       "      <th></th>\n",
       "      <th>db_id</th>\n",
       "      <th>user_id</th>\n",
       "    </tr>\n",
       "  </thead>\n",
       "  <tbody>\n",
       "    <tr>\n",
       "      <th>0</th>\n",
       "      <td>1</td>\n",
       "      <td>---1lKK3aKOuomHnwAkAow</td>\n",
       "    </tr>\n",
       "    <tr>\n",
       "      <th>3</th>\n",
       "      <td>4</td>\n",
       "      <td>---fhiwiwBYrvqhpXgcWDQ</td>\n",
       "    </tr>\n",
       "    <tr>\n",
       "      <th>5</th>\n",
       "      <td>6</td>\n",
       "      <td>---udAKDsn0yQXmzbWQNSw</td>\n",
       "    </tr>\n",
       "    <tr>\n",
       "      <th>6</th>\n",
       "      <td>7</td>\n",
       "      <td>--0kuuLmuYBe3Rmu0Iycww</td>\n",
       "    </tr>\n",
       "    <tr>\n",
       "      <th>8</th>\n",
       "      <td>9</td>\n",
       "      <td>--0sXNBv6IizZXuV-nl0Aw</td>\n",
       "    </tr>\n",
       "  </tbody>\n",
       "</table>\n",
       "</div>"
      ],
      "text/plain": [
       "   db_id                 user_id\n",
       "0      1  ---1lKK3aKOuomHnwAkAow\n",
       "3      4  ---fhiwiwBYrvqhpXgcWDQ\n",
       "5      6  ---udAKDsn0yQXmzbWQNSw\n",
       "6      7  --0kuuLmuYBe3Rmu0Iycww\n",
       "8      9  --0sXNBv6IizZXuV-nl0Aw"
      ]
     },
     "execution_count": 34,
     "metadata": {},
     "output_type": "execute_result"
    }
   ],
   "source": [
    "yelp_lv_users[:5]"
   ]
  },
  {
   "cell_type": "code",
   "execution_count": 35,
   "metadata": {},
   "outputs": [],
   "source": [
    "yelp_lv_users.to_csv('../../dataset/las_vegas/user/las_vegas_user_with_db_id.csv', index=False)"
   ]
  },
  {
   "cell_type": "markdown",
   "metadata": {},
   "source": [
    "## 5. Friend"
   ]
  },
  {
   "cell_type": "code",
   "execution_count": 36,
   "metadata": {},
   "outputs": [],
   "source": [
    "yelp_all_friends = pd.read_csv('../../dataset/all/friend_with_db_id.csv')"
   ]
  },
  {
   "cell_type": "code",
   "execution_count": 37,
   "metadata": {},
   "outputs": [
    {
     "data": {
      "text/plain": [
       "10645356"
      ]
     },
     "execution_count": 37,
     "metadata": {},
     "output_type": "execute_result"
    }
   ],
   "source": [
    "len(yelp_all_friends)"
   ]
  },
  {
   "cell_type": "code",
   "execution_count": 38,
   "metadata": {},
   "outputs": [
    {
     "data": {
      "text/html": [
       "<div>\n",
       "<style scoped>\n",
       "    .dataframe tbody tr th:only-of-type {\n",
       "        vertical-align: middle;\n",
       "    }\n",
       "\n",
       "    .dataframe tbody tr th {\n",
       "        vertical-align: top;\n",
       "    }\n",
       "\n",
       "    .dataframe thead th {\n",
       "        text-align: right;\n",
       "    }\n",
       "</style>\n",
       "<table border=\"1\" class=\"dataframe\">\n",
       "  <thead>\n",
       "    <tr style=\"text-align: right;\">\n",
       "      <th></th>\n",
       "      <th>db_id</th>\n",
       "      <th>user_db_id</th>\n",
       "      <th>friend_db_id</th>\n",
       "    </tr>\n",
       "  </thead>\n",
       "  <tbody>\n",
       "    <tr>\n",
       "      <th>0</th>\n",
       "      <td>1</td>\n",
       "      <td>831960</td>\n",
       "      <td>346611</td>\n",
       "    </tr>\n",
       "    <tr>\n",
       "      <th>1</th>\n",
       "      <td>2</td>\n",
       "      <td>831960</td>\n",
       "      <td>785396</td>\n",
       "    </tr>\n",
       "    <tr>\n",
       "      <th>2</th>\n",
       "      <td>14</td>\n",
       "      <td>619750</td>\n",
       "      <td>553522</td>\n",
       "    </tr>\n",
       "    <tr>\n",
       "      <th>3</th>\n",
       "      <td>25</td>\n",
       "      <td>619750</td>\n",
       "      <td>498367</td>\n",
       "    </tr>\n",
       "    <tr>\n",
       "      <th>4</th>\n",
       "      <td>26</td>\n",
       "      <td>619750</td>\n",
       "      <td>566124</td>\n",
       "    </tr>\n",
       "  </tbody>\n",
       "</table>\n",
       "</div>"
      ],
      "text/plain": [
       "   db_id  user_db_id  friend_db_id\n",
       "0      1      831960        346611\n",
       "1      2      831960        785396\n",
       "2     14      619750        553522\n",
       "3     25      619750        498367\n",
       "4     26      619750        566124"
      ]
     },
     "execution_count": 38,
     "metadata": {},
     "output_type": "execute_result"
    }
   ],
   "source": [
    "yelp_all_friends[:5]"
   ]
  },
  {
   "cell_type": "code",
   "execution_count": 39,
   "metadata": {},
   "outputs": [],
   "source": [
    "yelp_lv_friends = yelp_all_friends[(yelp_all_friends.user_db_id.isin(lv_users)) & (yelp_all_friends.friend_db_id.isin(lv_users))]"
   ]
  },
  {
   "cell_type": "code",
   "execution_count": 40,
   "metadata": {},
   "outputs": [
    {
     "data": {
      "text/plain": [
       "5340616"
      ]
     },
     "execution_count": 40,
     "metadata": {},
     "output_type": "execute_result"
    }
   ],
   "source": [
    "len(yelp_lv_friends)"
   ]
  },
  {
   "cell_type": "code",
   "execution_count": 41,
   "metadata": {},
   "outputs": [
    {
     "data": {
      "text/html": [
       "<div>\n",
       "<style scoped>\n",
       "    .dataframe tbody tr th:only-of-type {\n",
       "        vertical-align: middle;\n",
       "    }\n",
       "\n",
       "    .dataframe tbody tr th {\n",
       "        vertical-align: top;\n",
       "    }\n",
       "\n",
       "    .dataframe thead th {\n",
       "        text-align: right;\n",
       "    }\n",
       "</style>\n",
       "<table border=\"1\" class=\"dataframe\">\n",
       "  <thead>\n",
       "    <tr style=\"text-align: right;\">\n",
       "      <th></th>\n",
       "      <th>db_id</th>\n",
       "      <th>user_db_id</th>\n",
       "      <th>friend_db_id</th>\n",
       "    </tr>\n",
       "  </thead>\n",
       "  <tbody>\n",
       "    <tr>\n",
       "      <th>42</th>\n",
       "      <td>166</td>\n",
       "      <td>639871</td>\n",
       "      <td>1296012</td>\n",
       "    </tr>\n",
       "    <tr>\n",
       "      <th>52</th>\n",
       "      <td>197</td>\n",
       "      <td>639871</td>\n",
       "      <td>798789</td>\n",
       "    </tr>\n",
       "    <tr>\n",
       "      <th>56</th>\n",
       "      <td>204</td>\n",
       "      <td>639871</td>\n",
       "      <td>493744</td>\n",
       "    </tr>\n",
       "    <tr>\n",
       "      <th>57</th>\n",
       "      <td>205</td>\n",
       "      <td>639871</td>\n",
       "      <td>189553</td>\n",
       "    </tr>\n",
       "    <tr>\n",
       "      <th>62</th>\n",
       "      <td>215</td>\n",
       "      <td>639871</td>\n",
       "      <td>1304316</td>\n",
       "    </tr>\n",
       "  </tbody>\n",
       "</table>\n",
       "</div>"
      ],
      "text/plain": [
       "    db_id  user_db_id  friend_db_id\n",
       "42    166      639871       1296012\n",
       "52    197      639871        798789\n",
       "56    204      639871        493744\n",
       "57    205      639871        189553\n",
       "62    215      639871       1304316"
      ]
     },
     "execution_count": 41,
     "metadata": {},
     "output_type": "execute_result"
    }
   ],
   "source": [
    "yelp_lv_friends[:5]"
   ]
  },
  {
   "cell_type": "code",
   "execution_count": 42,
   "metadata": {},
   "outputs": [],
   "source": [
    "yelp_lv_friends.to_csv('../../dataset/las_vegas/user/las_vegas_friend_with_db_id.csv', index=False)"
   ]
  },
  {
   "cell_type": "markdown",
   "metadata": {},
   "source": [
    "## 6. Checkin"
   ]
  },
  {
   "cell_type": "code",
   "execution_count": 43,
   "metadata": {},
   "outputs": [],
   "source": [
    "yelp_all_cks = pd.read_csv('../../dataset/all/checkin_with_db_id.csv')"
   ]
  },
  {
   "cell_type": "code",
   "execution_count": 44,
   "metadata": {},
   "outputs": [
    {
     "data": {
      "text/plain": [
       "146350"
      ]
     },
     "execution_count": 44,
     "metadata": {},
     "output_type": "execute_result"
    }
   ],
   "source": [
    "len(yelp_all_cks)"
   ]
  },
  {
   "cell_type": "code",
   "execution_count": 45,
   "metadata": {},
   "outputs": [
    {
     "data": {
      "text/html": [
       "<div>\n",
       "<style scoped>\n",
       "    .dataframe tbody tr th:only-of-type {\n",
       "        vertical-align: middle;\n",
       "    }\n",
       "\n",
       "    .dataframe tbody tr th {\n",
       "        vertical-align: top;\n",
       "    }\n",
       "\n",
       "    .dataframe thead th {\n",
       "        text-align: right;\n",
       "    }\n",
       "</style>\n",
       "<table border=\"1\" class=\"dataframe\">\n",
       "  <thead>\n",
       "    <tr style=\"text-align: right;\">\n",
       "      <th></th>\n",
       "      <th>business_db_id</th>\n",
       "      <th>count</th>\n",
       "    </tr>\n",
       "  </thead>\n",
       "  <tbody>\n",
       "    <tr>\n",
       "      <th>0</th>\n",
       "      <td>1</td>\n",
       "      <td>139</td>\n",
       "    </tr>\n",
       "    <tr>\n",
       "      <th>1</th>\n",
       "      <td>2</td>\n",
       "      <td>153</td>\n",
       "    </tr>\n",
       "    <tr>\n",
       "      <th>2</th>\n",
       "      <td>3</td>\n",
       "      <td>1</td>\n",
       "    </tr>\n",
       "    <tr>\n",
       "      <th>3</th>\n",
       "      <td>4</td>\n",
       "      <td>2568</td>\n",
       "    </tr>\n",
       "    <tr>\n",
       "      <th>4</th>\n",
       "      <td>5</td>\n",
       "      <td>33</td>\n",
       "    </tr>\n",
       "  </tbody>\n",
       "</table>\n",
       "</div>"
      ],
      "text/plain": [
       "   business_db_id  count\n",
       "0               1    139\n",
       "1               2    153\n",
       "2               3      1\n",
       "3               4   2568\n",
       "4               5     33"
      ]
     },
     "execution_count": 45,
     "metadata": {},
     "output_type": "execute_result"
    }
   ],
   "source": [
    "yelp_all_cks[:5]"
   ]
  },
  {
   "cell_type": "code",
   "execution_count": 46,
   "metadata": {},
   "outputs": [],
   "source": [
    "yelp_lv_cks = yelp_all_cks[yelp_all_cks.business_db_id.isin(yelp_lv_bizes.db_id.values)]"
   ]
  },
  {
   "cell_type": "code",
   "execution_count": 47,
   "metadata": {},
   "outputs": [
    {
     "data": {
      "text/plain": [
       "23242"
      ]
     },
     "execution_count": 47,
     "metadata": {},
     "output_type": "execute_result"
    }
   ],
   "source": [
    "len(yelp_lv_cks)"
   ]
  },
  {
   "cell_type": "code",
   "execution_count": 48,
   "metadata": {},
   "outputs": [
    {
     "data": {
      "text/html": [
       "<div>\n",
       "<style scoped>\n",
       "    .dataframe tbody tr th:only-of-type {\n",
       "        vertical-align: middle;\n",
       "    }\n",
       "\n",
       "    .dataframe tbody tr th {\n",
       "        vertical-align: top;\n",
       "    }\n",
       "\n",
       "    .dataframe thead th {\n",
       "        text-align: right;\n",
       "    }\n",
       "</style>\n",
       "<table border=\"1\" class=\"dataframe\">\n",
       "  <thead>\n",
       "    <tr style=\"text-align: right;\">\n",
       "      <th></th>\n",
       "      <th>business_db_id</th>\n",
       "      <th>count</th>\n",
       "    </tr>\n",
       "  </thead>\n",
       "  <tbody>\n",
       "    <tr>\n",
       "      <th>3</th>\n",
       "      <td>4</td>\n",
       "      <td>2568</td>\n",
       "    </tr>\n",
       "    <tr>\n",
       "      <th>10</th>\n",
       "      <td>11</td>\n",
       "      <td>30</td>\n",
       "    </tr>\n",
       "    <tr>\n",
       "      <th>11</th>\n",
       "      <td>12</td>\n",
       "      <td>1</td>\n",
       "    </tr>\n",
       "    <tr>\n",
       "      <th>27</th>\n",
       "      <td>33</td>\n",
       "      <td>107</td>\n",
       "    </tr>\n",
       "    <tr>\n",
       "      <th>38</th>\n",
       "      <td>48</td>\n",
       "      <td>2</td>\n",
       "    </tr>\n",
       "  </tbody>\n",
       "</table>\n",
       "</div>"
      ],
      "text/plain": [
       "    business_db_id  count\n",
       "3                4   2568\n",
       "10              11     30\n",
       "11              12      1\n",
       "27              33    107\n",
       "38              48      2"
      ]
     },
     "execution_count": 48,
     "metadata": {},
     "output_type": "execute_result"
    }
   ],
   "source": [
    "yelp_lv_cks[:5]"
   ]
  },
  {
   "cell_type": "code",
   "execution_count": 49,
   "metadata": {},
   "outputs": [],
   "source": [
    "yelp_lv_cks.to_csv('../../dataset/las_vegas/business/las_vegas_checkin_with_db_id.csv', index=False)"
   ]
  },
  {
   "cell_type": "code",
   "execution_count": null,
   "metadata": {},
   "outputs": [],
   "source": []
  }
 ],
 "metadata": {
  "kernelspec": {
   "display_name": "Python 2",
   "language": "python",
   "name": "python2"
  },
  "language_info": {
   "codemirror_mode": {
    "name": "ipython",
    "version": 2
   },
   "file_extension": ".py",
   "mimetype": "text/x-python",
   "name": "python",
   "nbconvert_exporter": "python",
   "pygments_lexer": "ipython2",
   "version": "2.7.14"
  }
 },
 "nbformat": 4,
 "nbformat_minor": 2
}

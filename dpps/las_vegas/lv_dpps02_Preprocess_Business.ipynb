{
 "cells": [
  {
   "cell_type": "markdown",
   "metadata": {},
   "source": [
    "# Las Vegas Business 数据集处理\n",
    "\n",
    "### 该 Notebook 对应的博客[链接](http://xiehongfeng100.github.io/2018/07/31/yelper-dpps-las-vegas-data-preprocessing/)"
   ]
  },
  {
   "cell_type": "code",
   "execution_count": 1,
   "metadata": {},
   "outputs": [],
   "source": [
    "import pandas as pd"
   ]
  },
  {
   "cell_type": "markdown",
   "metadata": {},
   "source": [
    "## 1. 加载数据"
   ]
  },
  {
   "cell_type": "markdown",
   "metadata": {},
   "source": [
    "### 1.1 加载 Business 数据"
   ]
  },
  {
   "cell_type": "code",
   "execution_count": 2,
   "metadata": {},
   "outputs": [],
   "source": [
    "yelp_lv_bizes = pd.read_csv('../../dataset/las_vegas/business/las_vegas_business_with_db_id.csv')"
   ]
  },
  {
   "cell_type": "code",
   "execution_count": 3,
   "metadata": {},
   "outputs": [
    {
     "data": {
      "text/plain": [
       "26777"
      ]
     },
     "execution_count": 3,
     "metadata": {},
     "output_type": "execute_result"
    }
   ],
   "source": [
    "len(yelp_lv_bizes)"
   ]
  },
  {
   "cell_type": "code",
   "execution_count": 4,
   "metadata": {},
   "outputs": [
    {
     "data": {
      "text/html": [
       "<div>\n",
       "<style scoped>\n",
       "    .dataframe tbody tr th:only-of-type {\n",
       "        vertical-align: middle;\n",
       "    }\n",
       "\n",
       "    .dataframe tbody tr th {\n",
       "        vertical-align: top;\n",
       "    }\n",
       "\n",
       "    .dataframe thead th {\n",
       "        text-align: right;\n",
       "    }\n",
       "</style>\n",
       "<table border=\"1\" class=\"dataframe\">\n",
       "  <thead>\n",
       "    <tr style=\"text-align: right;\">\n",
       "      <th></th>\n",
       "      <th>db_id</th>\n",
       "      <th>business_id</th>\n",
       "      <th>stars</th>\n",
       "      <th>review_count</th>\n",
       "      <th>latitude</th>\n",
       "      <th>longitude</th>\n",
       "      <th>city</th>\n",
       "    </tr>\n",
       "  </thead>\n",
       "  <tbody>\n",
       "    <tr>\n",
       "      <th>0</th>\n",
       "      <td>4</td>\n",
       "      <td>--9e1ONYQuAa-CB_Rrw7Tw</td>\n",
       "      <td>4.0</td>\n",
       "      <td>1451</td>\n",
       "      <td>36.1232</td>\n",
       "      <td>-115.169</td>\n",
       "      <td>Las Vegas</td>\n",
       "    </tr>\n",
       "    <tr>\n",
       "      <th>1</th>\n",
       "      <td>11</td>\n",
       "      <td>--DdmeR16TRb3LsjG0ejrQ</td>\n",
       "      <td>3.0</td>\n",
       "      <td>5</td>\n",
       "      <td>36.1143</td>\n",
       "      <td>-115.171</td>\n",
       "      <td>Las Vegas</td>\n",
       "    </tr>\n",
       "    <tr>\n",
       "      <th>2</th>\n",
       "      <td>12</td>\n",
       "      <td>--e8PjCNhEz32pprnPhCwQ</td>\n",
       "      <td>3.5</td>\n",
       "      <td>19</td>\n",
       "      <td>36.1589</td>\n",
       "      <td>-115.133</td>\n",
       "      <td>Las Vegas</td>\n",
       "    </tr>\n",
       "    <tr>\n",
       "      <th>3</th>\n",
       "      <td>29</td>\n",
       "      <td>--o5BoU7qYMALeVDK6mwVg</td>\n",
       "      <td>3.5</td>\n",
       "      <td>6</td>\n",
       "      <td>36.1016</td>\n",
       "      <td>-115.132</td>\n",
       "      <td>Las Vegas</td>\n",
       "    </tr>\n",
       "    <tr>\n",
       "      <th>4</th>\n",
       "      <td>33</td>\n",
       "      <td>--q7kSBRb0vWC8lSkXFByA</td>\n",
       "      <td>4.0</td>\n",
       "      <td>7</td>\n",
       "      <td>36.0167</td>\n",
       "      <td>-115.173</td>\n",
       "      <td>Las Vegas</td>\n",
       "    </tr>\n",
       "  </tbody>\n",
       "</table>\n",
       "</div>"
      ],
      "text/plain": [
       "   db_id             business_id  stars  review_count  latitude  longitude  \\\n",
       "0      4  --9e1ONYQuAa-CB_Rrw7Tw    4.0          1451   36.1232   -115.169   \n",
       "1     11  --DdmeR16TRb3LsjG0ejrQ    3.0             5   36.1143   -115.171   \n",
       "2     12  --e8PjCNhEz32pprnPhCwQ    3.5            19   36.1589   -115.133   \n",
       "3     29  --o5BoU7qYMALeVDK6mwVg    3.5             6   36.1016   -115.132   \n",
       "4     33  --q7kSBRb0vWC8lSkXFByA    4.0             7   36.0167   -115.173   \n",
       "\n",
       "        city  \n",
       "0  Las Vegas  \n",
       "1  Las Vegas  \n",
       "2  Las Vegas  \n",
       "3  Las Vegas  \n",
       "4  Las Vegas  "
      ]
     },
     "execution_count": 4,
     "metadata": {},
     "output_type": "execute_result"
    }
   ],
   "source": [
    "yelp_lv_bizes[:5]"
   ]
  },
  {
   "cell_type": "markdown",
   "metadata": {},
   "source": [
    "### 1.2 加载 Checkin 数据及重命名列名"
   ]
  },
  {
   "cell_type": "code",
   "execution_count": 5,
   "metadata": {},
   "outputs": [],
   "source": [
    "yelp_lv_cks = pd.read_csv('../../dataset/las_vegas/business/las_vegas_checkin_with_db_id.csv')"
   ]
  },
  {
   "cell_type": "code",
   "execution_count": 6,
   "metadata": {},
   "outputs": [
    {
     "data": {
      "text/plain": [
       "23242"
      ]
     },
     "execution_count": 6,
     "metadata": {},
     "output_type": "execute_result"
    }
   ],
   "source": [
    "len(yelp_lv_cks)"
   ]
  },
  {
   "cell_type": "code",
   "execution_count": 7,
   "metadata": {},
   "outputs": [
    {
     "data": {
      "text/html": [
       "<div>\n",
       "<style scoped>\n",
       "    .dataframe tbody tr th:only-of-type {\n",
       "        vertical-align: middle;\n",
       "    }\n",
       "\n",
       "    .dataframe tbody tr th {\n",
       "        vertical-align: top;\n",
       "    }\n",
       "\n",
       "    .dataframe thead th {\n",
       "        text-align: right;\n",
       "    }\n",
       "</style>\n",
       "<table border=\"1\" class=\"dataframe\">\n",
       "  <thead>\n",
       "    <tr style=\"text-align: right;\">\n",
       "      <th></th>\n",
       "      <th>business_db_id</th>\n",
       "      <th>count</th>\n",
       "    </tr>\n",
       "  </thead>\n",
       "  <tbody>\n",
       "    <tr>\n",
       "      <th>0</th>\n",
       "      <td>4</td>\n",
       "      <td>2568</td>\n",
       "    </tr>\n",
       "    <tr>\n",
       "      <th>1</th>\n",
       "      <td>11</td>\n",
       "      <td>30</td>\n",
       "    </tr>\n",
       "    <tr>\n",
       "      <th>2</th>\n",
       "      <td>12</td>\n",
       "      <td>1</td>\n",
       "    </tr>\n",
       "    <tr>\n",
       "      <th>3</th>\n",
       "      <td>33</td>\n",
       "      <td>107</td>\n",
       "    </tr>\n",
       "    <tr>\n",
       "      <th>4</th>\n",
       "      <td>48</td>\n",
       "      <td>2</td>\n",
       "    </tr>\n",
       "  </tbody>\n",
       "</table>\n",
       "</div>"
      ],
      "text/plain": [
       "   business_db_id  count\n",
       "0               4   2568\n",
       "1              11     30\n",
       "2              12      1\n",
       "3              33    107\n",
       "4              48      2"
      ]
     },
     "execution_count": 7,
     "metadata": {},
     "output_type": "execute_result"
    }
   ],
   "source": [
    "yelp_lv_cks[:5]"
   ]
  },
  {
   "cell_type": "code",
   "execution_count": 8,
   "metadata": {},
   "outputs": [],
   "source": [
    "# 重命名列名，以便于跟 business 数据集根据 db_id 字段进行合并\n",
    "yelp_lv_cks = yelp_lv_cks.rename(index=str, columns={'business_db_id': 'db_id', 'count': 'checkin_count'})"
   ]
  },
  {
   "cell_type": "code",
   "execution_count": 9,
   "metadata": {},
   "outputs": [
    {
     "data": {
      "text/html": [
       "<div>\n",
       "<style scoped>\n",
       "    .dataframe tbody tr th:only-of-type {\n",
       "        vertical-align: middle;\n",
       "    }\n",
       "\n",
       "    .dataframe tbody tr th {\n",
       "        vertical-align: top;\n",
       "    }\n",
       "\n",
       "    .dataframe thead th {\n",
       "        text-align: right;\n",
       "    }\n",
       "</style>\n",
       "<table border=\"1\" class=\"dataframe\">\n",
       "  <thead>\n",
       "    <tr style=\"text-align: right;\">\n",
       "      <th></th>\n",
       "      <th>db_id</th>\n",
       "      <th>checkin_count</th>\n",
       "    </tr>\n",
       "  </thead>\n",
       "  <tbody>\n",
       "    <tr>\n",
       "      <th>0</th>\n",
       "      <td>4</td>\n",
       "      <td>2568</td>\n",
       "    </tr>\n",
       "    <tr>\n",
       "      <th>1</th>\n",
       "      <td>11</td>\n",
       "      <td>30</td>\n",
       "    </tr>\n",
       "    <tr>\n",
       "      <th>2</th>\n",
       "      <td>12</td>\n",
       "      <td>1</td>\n",
       "    </tr>\n",
       "    <tr>\n",
       "      <th>3</th>\n",
       "      <td>33</td>\n",
       "      <td>107</td>\n",
       "    </tr>\n",
       "    <tr>\n",
       "      <th>4</th>\n",
       "      <td>48</td>\n",
       "      <td>2</td>\n",
       "    </tr>\n",
       "  </tbody>\n",
       "</table>\n",
       "</div>"
      ],
      "text/plain": [
       "   db_id  checkin_count\n",
       "0      4           2568\n",
       "1     11             30\n",
       "2     12              1\n",
       "3     33            107\n",
       "4     48              2"
      ]
     },
     "execution_count": 9,
     "metadata": {},
     "output_type": "execute_result"
    }
   ],
   "source": [
    "yelp_lv_cks[:5]"
   ]
  },
  {
   "cell_type": "markdown",
   "metadata": {},
   "source": [
    "## 2. Business 数据集左连接（Left Join）Checkin 数据集"
   ]
  },
  {
   "cell_type": "code",
   "execution_count": 10,
   "metadata": {},
   "outputs": [],
   "source": [
    "yelp_lv_bizes = pd.merge(yelp_lv_bizes, yelp_lv_cks, how='left', on=['db_id'])"
   ]
  },
  {
   "cell_type": "code",
   "execution_count": 11,
   "metadata": {},
   "outputs": [
    {
     "data": {
      "text/html": [
       "<div>\n",
       "<style scoped>\n",
       "    .dataframe tbody tr th:only-of-type {\n",
       "        vertical-align: middle;\n",
       "    }\n",
       "\n",
       "    .dataframe tbody tr th {\n",
       "        vertical-align: top;\n",
       "    }\n",
       "\n",
       "    .dataframe thead th {\n",
       "        text-align: right;\n",
       "    }\n",
       "</style>\n",
       "<table border=\"1\" class=\"dataframe\">\n",
       "  <thead>\n",
       "    <tr style=\"text-align: right;\">\n",
       "      <th></th>\n",
       "      <th>db_id</th>\n",
       "      <th>business_id</th>\n",
       "      <th>stars</th>\n",
       "      <th>review_count</th>\n",
       "      <th>latitude</th>\n",
       "      <th>longitude</th>\n",
       "      <th>city</th>\n",
       "      <th>checkin_count</th>\n",
       "    </tr>\n",
       "  </thead>\n",
       "  <tbody>\n",
       "    <tr>\n",
       "      <th>0</th>\n",
       "      <td>4</td>\n",
       "      <td>--9e1ONYQuAa-CB_Rrw7Tw</td>\n",
       "      <td>4.0</td>\n",
       "      <td>1451</td>\n",
       "      <td>36.1232</td>\n",
       "      <td>-115.169</td>\n",
       "      <td>Las Vegas</td>\n",
       "      <td>2568.0</td>\n",
       "    </tr>\n",
       "    <tr>\n",
       "      <th>1</th>\n",
       "      <td>11</td>\n",
       "      <td>--DdmeR16TRb3LsjG0ejrQ</td>\n",
       "      <td>3.0</td>\n",
       "      <td>5</td>\n",
       "      <td>36.1143</td>\n",
       "      <td>-115.171</td>\n",
       "      <td>Las Vegas</td>\n",
       "      <td>30.0</td>\n",
       "    </tr>\n",
       "    <tr>\n",
       "      <th>2</th>\n",
       "      <td>12</td>\n",
       "      <td>--e8PjCNhEz32pprnPhCwQ</td>\n",
       "      <td>3.5</td>\n",
       "      <td>19</td>\n",
       "      <td>36.1589</td>\n",
       "      <td>-115.133</td>\n",
       "      <td>Las Vegas</td>\n",
       "      <td>1.0</td>\n",
       "    </tr>\n",
       "    <tr>\n",
       "      <th>3</th>\n",
       "      <td>29</td>\n",
       "      <td>--o5BoU7qYMALeVDK6mwVg</td>\n",
       "      <td>3.5</td>\n",
       "      <td>6</td>\n",
       "      <td>36.1016</td>\n",
       "      <td>-115.132</td>\n",
       "      <td>Las Vegas</td>\n",
       "      <td>NaN</td>\n",
       "    </tr>\n",
       "    <tr>\n",
       "      <th>4</th>\n",
       "      <td>33</td>\n",
       "      <td>--q7kSBRb0vWC8lSkXFByA</td>\n",
       "      <td>4.0</td>\n",
       "      <td>7</td>\n",
       "      <td>36.0167</td>\n",
       "      <td>-115.173</td>\n",
       "      <td>Las Vegas</td>\n",
       "      <td>107.0</td>\n",
       "    </tr>\n",
       "  </tbody>\n",
       "</table>\n",
       "</div>"
      ],
      "text/plain": [
       "   db_id             business_id  stars  review_count  latitude  longitude  \\\n",
       "0      4  --9e1ONYQuAa-CB_Rrw7Tw    4.0          1451   36.1232   -115.169   \n",
       "1     11  --DdmeR16TRb3LsjG0ejrQ    3.0             5   36.1143   -115.171   \n",
       "2     12  --e8PjCNhEz32pprnPhCwQ    3.5            19   36.1589   -115.133   \n",
       "3     29  --o5BoU7qYMALeVDK6mwVg    3.5             6   36.1016   -115.132   \n",
       "4     33  --q7kSBRb0vWC8lSkXFByA    4.0             7   36.0167   -115.173   \n",
       "\n",
       "        city  checkin_count  \n",
       "0  Las Vegas         2568.0  \n",
       "1  Las Vegas           30.0  \n",
       "2  Las Vegas            1.0  \n",
       "3  Las Vegas            NaN  \n",
       "4  Las Vegas          107.0  "
      ]
     },
     "execution_count": 11,
     "metadata": {},
     "output_type": "execute_result"
    }
   ],
   "source": [
    "yelp_lv_bizes[:5]"
   ]
  },
  {
   "cell_type": "code",
   "execution_count": 12,
   "metadata": {},
   "outputs": [],
   "source": [
    "# 左连接后，将 checkin_count 列中为值为 NA/NaN 的均填充为 0.0 （其他列已经检查过不存在值为 NA/NAN 的地方）\n",
    "yelp_lv_bizes = yelp_lv_bizes.fillna(0)"
   ]
  },
  {
   "cell_type": "code",
   "execution_count": 13,
   "metadata": {},
   "outputs": [
    {
     "data": {
      "text/html": [
       "<div>\n",
       "<style scoped>\n",
       "    .dataframe tbody tr th:only-of-type {\n",
       "        vertical-align: middle;\n",
       "    }\n",
       "\n",
       "    .dataframe tbody tr th {\n",
       "        vertical-align: top;\n",
       "    }\n",
       "\n",
       "    .dataframe thead th {\n",
       "        text-align: right;\n",
       "    }\n",
       "</style>\n",
       "<table border=\"1\" class=\"dataframe\">\n",
       "  <thead>\n",
       "    <tr style=\"text-align: right;\">\n",
       "      <th></th>\n",
       "      <th>db_id</th>\n",
       "      <th>business_id</th>\n",
       "      <th>stars</th>\n",
       "      <th>review_count</th>\n",
       "      <th>latitude</th>\n",
       "      <th>longitude</th>\n",
       "      <th>city</th>\n",
       "      <th>checkin_count</th>\n",
       "    </tr>\n",
       "  </thead>\n",
       "  <tbody>\n",
       "    <tr>\n",
       "      <th>0</th>\n",
       "      <td>4</td>\n",
       "      <td>--9e1ONYQuAa-CB_Rrw7Tw</td>\n",
       "      <td>4.0</td>\n",
       "      <td>1451</td>\n",
       "      <td>36.1232</td>\n",
       "      <td>-115.169</td>\n",
       "      <td>Las Vegas</td>\n",
       "      <td>2568.0</td>\n",
       "    </tr>\n",
       "    <tr>\n",
       "      <th>1</th>\n",
       "      <td>11</td>\n",
       "      <td>--DdmeR16TRb3LsjG0ejrQ</td>\n",
       "      <td>3.0</td>\n",
       "      <td>5</td>\n",
       "      <td>36.1143</td>\n",
       "      <td>-115.171</td>\n",
       "      <td>Las Vegas</td>\n",
       "      <td>30.0</td>\n",
       "    </tr>\n",
       "    <tr>\n",
       "      <th>2</th>\n",
       "      <td>12</td>\n",
       "      <td>--e8PjCNhEz32pprnPhCwQ</td>\n",
       "      <td>3.5</td>\n",
       "      <td>19</td>\n",
       "      <td>36.1589</td>\n",
       "      <td>-115.133</td>\n",
       "      <td>Las Vegas</td>\n",
       "      <td>1.0</td>\n",
       "    </tr>\n",
       "    <tr>\n",
       "      <th>3</th>\n",
       "      <td>29</td>\n",
       "      <td>--o5BoU7qYMALeVDK6mwVg</td>\n",
       "      <td>3.5</td>\n",
       "      <td>6</td>\n",
       "      <td>36.1016</td>\n",
       "      <td>-115.132</td>\n",
       "      <td>Las Vegas</td>\n",
       "      <td>0.0</td>\n",
       "    </tr>\n",
       "    <tr>\n",
       "      <th>4</th>\n",
       "      <td>33</td>\n",
       "      <td>--q7kSBRb0vWC8lSkXFByA</td>\n",
       "      <td>4.0</td>\n",
       "      <td>7</td>\n",
       "      <td>36.0167</td>\n",
       "      <td>-115.173</td>\n",
       "      <td>Las Vegas</td>\n",
       "      <td>107.0</td>\n",
       "    </tr>\n",
       "  </tbody>\n",
       "</table>\n",
       "</div>"
      ],
      "text/plain": [
       "   db_id             business_id  stars  review_count  latitude  longitude  \\\n",
       "0      4  --9e1ONYQuAa-CB_Rrw7Tw    4.0          1451   36.1232   -115.169   \n",
       "1     11  --DdmeR16TRb3LsjG0ejrQ    3.0             5   36.1143   -115.171   \n",
       "2     12  --e8PjCNhEz32pprnPhCwQ    3.5            19   36.1589   -115.133   \n",
       "3     29  --o5BoU7qYMALeVDK6mwVg    3.5             6   36.1016   -115.132   \n",
       "4     33  --q7kSBRb0vWC8lSkXFByA    4.0             7   36.0167   -115.173   \n",
       "\n",
       "        city  checkin_count  \n",
       "0  Las Vegas         2568.0  \n",
       "1  Las Vegas           30.0  \n",
       "2  Las Vegas            1.0  \n",
       "3  Las Vegas            0.0  \n",
       "4  Las Vegas          107.0  "
      ]
     },
     "execution_count": 13,
     "metadata": {},
     "output_type": "execute_result"
    }
   ],
   "source": [
    "yelp_lv_bizes[:5]"
   ]
  },
  {
   "cell_type": "markdown",
   "metadata": {},
   "source": [
    "## 3. 归一化 review_count 和 checkin_count\n",
    "\n",
    "这里`要对 business 的 review_count 和 checkin_count 进行归一化的原因是后续计算流行度的时候要结合这两者，但这两者统计的角度不一样，所以我们需要将他们各自归一化之后再进行。`具体我们使用的是 sklearn 库中 preprocessing 模块的 [MinMaxScaler](http://scikit-learn.org/stable/modules/generated/sklearn.preprocessing.MinMaxScaler.html) 进行处理，其归一化公式如下：\n",
    "\n",
    "![](images/MinMaxScalerEq.png)\n",
    "\n",
    "这里我们的 `lowLimit=0，upLimit=1`"
   ]
  },
  {
   "cell_type": "code",
   "execution_count": 14,
   "metadata": {},
   "outputs": [],
   "source": [
    "from sklearn.preprocessing import MinMaxScaler"
   ]
  },
  {
   "cell_type": "markdown",
   "metadata": {},
   "source": [
    "### 3.1 归一化 review_count 到 (0, 1) 范围中"
   ]
  },
  {
   "cell_type": "code",
   "execution_count": 15,
   "metadata": {},
   "outputs": [],
   "source": [
    "rc_scaler = MinMaxScaler()"
   ]
  },
  {
   "cell_type": "code",
   "execution_count": 16,
   "metadata": {},
   "outputs": [
    {
     "name": "stderr",
     "output_type": "stream",
     "text": [
      "/usr/local/lib/python2.7/dist-packages/sklearn/utils/validation.py:475: DataConversionWarning: Data with input dtype int64 was converted to float64 by MinMaxScaler.\n",
      "  warnings.warn(msg, DataConversionWarning)\n"
     ]
    }
   ],
   "source": [
    "rc_scaled = rc_scaler.fit_transform(yelp_lv_bizes.review_count.values.reshape(-1, 1))"
   ]
  },
  {
   "cell_type": "code",
   "execution_count": 17,
   "metadata": {},
   "outputs": [
    {
     "data": {
      "text/plain": [
       "array([[0.19679261],\n",
       "       [0.00027181],\n",
       "       [0.0021745 ],\n",
       "       [0.00040772],\n",
       "       [0.00054363]])"
      ]
     },
     "execution_count": 17,
     "metadata": {},
     "output_type": "execute_result"
    }
   ],
   "source": [
    "rc_scaled[:5]"
   ]
  },
  {
   "cell_type": "code",
   "execution_count": 18,
   "metadata": {},
   "outputs": [],
   "source": [
    "yelp_lv_bizes = yelp_lv_bizes.assign(review_count_scaled=rc_scaled)"
   ]
  },
  {
   "cell_type": "markdown",
   "metadata": {},
   "source": [
    "### 3.2 归一化 checkin_count 到 (0, 1) 范围中"
   ]
  },
  {
   "cell_type": "code",
   "execution_count": 19,
   "metadata": {},
   "outputs": [],
   "source": [
    "ck_scaler = MinMaxScaler()"
   ]
  },
  {
   "cell_type": "code",
   "execution_count": 20,
   "metadata": {},
   "outputs": [],
   "source": [
    "ck_scaled = ck_scaler.fit_transform(yelp_lv_bizes.checkin_count.values.reshape(-1, 1))"
   ]
  },
  {
   "cell_type": "code",
   "execution_count": 21,
   "metadata": {},
   "outputs": [
    {
     "data": {
      "text/plain": [
       "array([[1.94607375e-02],\n",
       "       [2.27345064e-04],\n",
       "       [7.57816881e-06],\n",
       "       [0.00000000e+00],\n",
       "       [8.10864063e-04]])"
      ]
     },
     "execution_count": 21,
     "metadata": {},
     "output_type": "execute_result"
    }
   ],
   "source": [
    "ck_scaled[:5]"
   ]
  },
  {
   "cell_type": "code",
   "execution_count": 22,
   "metadata": {},
   "outputs": [],
   "source": [
    "yelp_lv_bizes = yelp_lv_bizes.assign(checkin_count_scaled=ck_scaled)"
   ]
  },
  {
   "cell_type": "markdown",
   "metadata": {},
   "source": [
    "## 4. 计算流行度（Popularity）\n",
    "\n",
    "对于流行度，我们在 review_count 及 checkin_count 基础上构造一个新的指标 popularity。那 popularity 怎么计算呢？这里考虑到 `review（评论）有好有坏，不能认为其数量越高，客户对某一个 business（商店）的满意度就越高；但 checkin（签到）就不一样了，可以认为签到数越多，客户对某一个 business 的满意度越高`，所以，我们在计算流行度的时候简单认为 checkin 的重要性是 review_count 的 2 倍，也即：\n",
    "$$\n",
    "popularity = review\\_count\\_scaled + 2 * checkin\\_count\\_scaled\n",
    "$$"
   ]
  },
  {
   "cell_type": "code",
   "execution_count": 23,
   "metadata": {},
   "outputs": [
    {
     "data": {
      "text/html": [
       "<div>\n",
       "<style scoped>\n",
       "    .dataframe tbody tr th:only-of-type {\n",
       "        vertical-align: middle;\n",
       "    }\n",
       "\n",
       "    .dataframe tbody tr th {\n",
       "        vertical-align: top;\n",
       "    }\n",
       "\n",
       "    .dataframe thead th {\n",
       "        text-align: right;\n",
       "    }\n",
       "</style>\n",
       "<table border=\"1\" class=\"dataframe\">\n",
       "  <thead>\n",
       "    <tr style=\"text-align: right;\">\n",
       "      <th></th>\n",
       "      <th>db_id</th>\n",
       "      <th>business_id</th>\n",
       "      <th>stars</th>\n",
       "      <th>review_count</th>\n",
       "      <th>latitude</th>\n",
       "      <th>longitude</th>\n",
       "      <th>city</th>\n",
       "      <th>checkin_count</th>\n",
       "      <th>review_count_scaled</th>\n",
       "      <th>checkin_count_scaled</th>\n",
       "    </tr>\n",
       "  </thead>\n",
       "  <tbody>\n",
       "    <tr>\n",
       "      <th>0</th>\n",
       "      <td>4</td>\n",
       "      <td>--9e1ONYQuAa-CB_Rrw7Tw</td>\n",
       "      <td>4.0</td>\n",
       "      <td>1451</td>\n",
       "      <td>36.1232</td>\n",
       "      <td>-115.169</td>\n",
       "      <td>Las Vegas</td>\n",
       "      <td>2568.0</td>\n",
       "      <td>0.196793</td>\n",
       "      <td>0.019461</td>\n",
       "    </tr>\n",
       "    <tr>\n",
       "      <th>1</th>\n",
       "      <td>11</td>\n",
       "      <td>--DdmeR16TRb3LsjG0ejrQ</td>\n",
       "      <td>3.0</td>\n",
       "      <td>5</td>\n",
       "      <td>36.1143</td>\n",
       "      <td>-115.171</td>\n",
       "      <td>Las Vegas</td>\n",
       "      <td>30.0</td>\n",
       "      <td>0.000272</td>\n",
       "      <td>0.000227</td>\n",
       "    </tr>\n",
       "    <tr>\n",
       "      <th>2</th>\n",
       "      <td>12</td>\n",
       "      <td>--e8PjCNhEz32pprnPhCwQ</td>\n",
       "      <td>3.5</td>\n",
       "      <td>19</td>\n",
       "      <td>36.1589</td>\n",
       "      <td>-115.133</td>\n",
       "      <td>Las Vegas</td>\n",
       "      <td>1.0</td>\n",
       "      <td>0.002175</td>\n",
       "      <td>0.000008</td>\n",
       "    </tr>\n",
       "    <tr>\n",
       "      <th>3</th>\n",
       "      <td>29</td>\n",
       "      <td>--o5BoU7qYMALeVDK6mwVg</td>\n",
       "      <td>3.5</td>\n",
       "      <td>6</td>\n",
       "      <td>36.1016</td>\n",
       "      <td>-115.132</td>\n",
       "      <td>Las Vegas</td>\n",
       "      <td>0.0</td>\n",
       "      <td>0.000408</td>\n",
       "      <td>0.000000</td>\n",
       "    </tr>\n",
       "    <tr>\n",
       "      <th>4</th>\n",
       "      <td>33</td>\n",
       "      <td>--q7kSBRb0vWC8lSkXFByA</td>\n",
       "      <td>4.0</td>\n",
       "      <td>7</td>\n",
       "      <td>36.0167</td>\n",
       "      <td>-115.173</td>\n",
       "      <td>Las Vegas</td>\n",
       "      <td>107.0</td>\n",
       "      <td>0.000544</td>\n",
       "      <td>0.000811</td>\n",
       "    </tr>\n",
       "  </tbody>\n",
       "</table>\n",
       "</div>"
      ],
      "text/plain": [
       "   db_id             business_id  stars  review_count  latitude  longitude  \\\n",
       "0      4  --9e1ONYQuAa-CB_Rrw7Tw    4.0          1451   36.1232   -115.169   \n",
       "1     11  --DdmeR16TRb3LsjG0ejrQ    3.0             5   36.1143   -115.171   \n",
       "2     12  --e8PjCNhEz32pprnPhCwQ    3.5            19   36.1589   -115.133   \n",
       "3     29  --o5BoU7qYMALeVDK6mwVg    3.5             6   36.1016   -115.132   \n",
       "4     33  --q7kSBRb0vWC8lSkXFByA    4.0             7   36.0167   -115.173   \n",
       "\n",
       "        city  checkin_count  review_count_scaled  checkin_count_scaled  \n",
       "0  Las Vegas         2568.0             0.196793              0.019461  \n",
       "1  Las Vegas           30.0             0.000272              0.000227  \n",
       "2  Las Vegas            1.0             0.002175              0.000008  \n",
       "3  Las Vegas            0.0             0.000408              0.000000  \n",
       "4  Las Vegas          107.0             0.000544              0.000811  "
      ]
     },
     "execution_count": 23,
     "metadata": {},
     "output_type": "execute_result"
    }
   ],
   "source": [
    "yelp_lv_bizes[:5]"
   ]
  },
  {
   "cell_type": "code",
   "execution_count": 24,
   "metadata": {},
   "outputs": [],
   "source": [
    "popularity=yelp_lv_bizes.review_count_scaled + 2 * yelp_lv_bizes.checkin_count_scaled"
   ]
  },
  {
   "cell_type": "code",
   "execution_count": 25,
   "metadata": {},
   "outputs": [
    {
     "data": {
      "text/plain": [
       "0    0.235714\n",
       "1    0.000727\n",
       "2    0.002190\n",
       "3    0.000408\n",
       "4    0.002165\n",
       "dtype: float64"
      ]
     },
     "execution_count": 25,
     "metadata": {},
     "output_type": "execute_result"
    }
   ],
   "source": [
    "popularity[:5]"
   ]
  },
  {
   "cell_type": "code",
   "execution_count": 26,
   "metadata": {},
   "outputs": [],
   "source": [
    "pp_scaler = MinMaxScaler()\n",
    "popularity_scaled = pp_scaler.fit_transform(popularity.values.reshape(-1, 1))"
   ]
  },
  {
   "cell_type": "code",
   "execution_count": 27,
   "metadata": {},
   "outputs": [
    {
     "data": {
      "text/plain": [
       "array([[0.09637074],\n",
       "       [0.00029703],\n",
       "       [0.00089523],\n",
       "       [0.00016669],\n",
       "       [0.0008853 ]])"
      ]
     },
     "execution_count": 27,
     "metadata": {},
     "output_type": "execute_result"
    }
   ],
   "source": [
    "popularity_scaled[:5]"
   ]
  },
  {
   "cell_type": "code",
   "execution_count": 28,
   "metadata": {},
   "outputs": [],
   "source": [
    "yelp_lv_bizes = yelp_lv_bizes.assign(popularity=popularity_scaled)"
   ]
  },
  {
   "cell_type": "code",
   "execution_count": 29,
   "metadata": {},
   "outputs": [
    {
     "data": {
      "text/html": [
       "<div>\n",
       "<style scoped>\n",
       "    .dataframe tbody tr th:only-of-type {\n",
       "        vertical-align: middle;\n",
       "    }\n",
       "\n",
       "    .dataframe tbody tr th {\n",
       "        vertical-align: top;\n",
       "    }\n",
       "\n",
       "    .dataframe thead th {\n",
       "        text-align: right;\n",
       "    }\n",
       "</style>\n",
       "<table border=\"1\" class=\"dataframe\">\n",
       "  <thead>\n",
       "    <tr style=\"text-align: right;\">\n",
       "      <th></th>\n",
       "      <th>db_id</th>\n",
       "      <th>business_id</th>\n",
       "      <th>stars</th>\n",
       "      <th>review_count</th>\n",
       "      <th>latitude</th>\n",
       "      <th>longitude</th>\n",
       "      <th>city</th>\n",
       "      <th>checkin_count</th>\n",
       "      <th>review_count_scaled</th>\n",
       "      <th>checkin_count_scaled</th>\n",
       "      <th>popularity</th>\n",
       "    </tr>\n",
       "  </thead>\n",
       "  <tbody>\n",
       "    <tr>\n",
       "      <th>0</th>\n",
       "      <td>4</td>\n",
       "      <td>--9e1ONYQuAa-CB_Rrw7Tw</td>\n",
       "      <td>4.0</td>\n",
       "      <td>1451</td>\n",
       "      <td>36.1232</td>\n",
       "      <td>-115.169</td>\n",
       "      <td>Las Vegas</td>\n",
       "      <td>2568.0</td>\n",
       "      <td>0.196793</td>\n",
       "      <td>0.019461</td>\n",
       "      <td>0.096371</td>\n",
       "    </tr>\n",
       "    <tr>\n",
       "      <th>1</th>\n",
       "      <td>11</td>\n",
       "      <td>--DdmeR16TRb3LsjG0ejrQ</td>\n",
       "      <td>3.0</td>\n",
       "      <td>5</td>\n",
       "      <td>36.1143</td>\n",
       "      <td>-115.171</td>\n",
       "      <td>Las Vegas</td>\n",
       "      <td>30.0</td>\n",
       "      <td>0.000272</td>\n",
       "      <td>0.000227</td>\n",
       "      <td>0.000297</td>\n",
       "    </tr>\n",
       "    <tr>\n",
       "      <th>2</th>\n",
       "      <td>12</td>\n",
       "      <td>--e8PjCNhEz32pprnPhCwQ</td>\n",
       "      <td>3.5</td>\n",
       "      <td>19</td>\n",
       "      <td>36.1589</td>\n",
       "      <td>-115.133</td>\n",
       "      <td>Las Vegas</td>\n",
       "      <td>1.0</td>\n",
       "      <td>0.002175</td>\n",
       "      <td>0.000008</td>\n",
       "      <td>0.000895</td>\n",
       "    </tr>\n",
       "    <tr>\n",
       "      <th>3</th>\n",
       "      <td>29</td>\n",
       "      <td>--o5BoU7qYMALeVDK6mwVg</td>\n",
       "      <td>3.5</td>\n",
       "      <td>6</td>\n",
       "      <td>36.1016</td>\n",
       "      <td>-115.132</td>\n",
       "      <td>Las Vegas</td>\n",
       "      <td>0.0</td>\n",
       "      <td>0.000408</td>\n",
       "      <td>0.000000</td>\n",
       "      <td>0.000167</td>\n",
       "    </tr>\n",
       "    <tr>\n",
       "      <th>4</th>\n",
       "      <td>33</td>\n",
       "      <td>--q7kSBRb0vWC8lSkXFByA</td>\n",
       "      <td>4.0</td>\n",
       "      <td>7</td>\n",
       "      <td>36.0167</td>\n",
       "      <td>-115.173</td>\n",
       "      <td>Las Vegas</td>\n",
       "      <td>107.0</td>\n",
       "      <td>0.000544</td>\n",
       "      <td>0.000811</td>\n",
       "      <td>0.000885</td>\n",
       "    </tr>\n",
       "  </tbody>\n",
       "</table>\n",
       "</div>"
      ],
      "text/plain": [
       "   db_id             business_id  stars  review_count  latitude  longitude  \\\n",
       "0      4  --9e1ONYQuAa-CB_Rrw7Tw    4.0          1451   36.1232   -115.169   \n",
       "1     11  --DdmeR16TRb3LsjG0ejrQ    3.0             5   36.1143   -115.171   \n",
       "2     12  --e8PjCNhEz32pprnPhCwQ    3.5            19   36.1589   -115.133   \n",
       "3     29  --o5BoU7qYMALeVDK6mwVg    3.5             6   36.1016   -115.132   \n",
       "4     33  --q7kSBRb0vWC8lSkXFByA    4.0             7   36.0167   -115.173   \n",
       "\n",
       "        city  checkin_count  review_count_scaled  checkin_count_scaled  \\\n",
       "0  Las Vegas         2568.0             0.196793              0.019461   \n",
       "1  Las Vegas           30.0             0.000272              0.000227   \n",
       "2  Las Vegas            1.0             0.002175              0.000008   \n",
       "3  Las Vegas            0.0             0.000408              0.000000   \n",
       "4  Las Vegas          107.0             0.000544              0.000811   \n",
       "\n",
       "   popularity  \n",
       "0    0.096371  \n",
       "1    0.000297  \n",
       "2    0.000895  \n",
       "3    0.000167  \n",
       "4    0.000885  "
      ]
     },
     "execution_count": 29,
     "metadata": {},
     "output_type": "execute_result"
    }
   ],
   "source": [
    "yelp_lv_bizes[:5]"
   ]
  },
  {
   "cell_type": "markdown",
   "metadata": {},
   "source": [
    "## 4. 保存处理结果"
   ]
  },
  {
   "cell_type": "code",
   "execution_count": 30,
   "metadata": {},
   "outputs": [],
   "source": [
    "yelp_lv_bizes.to_csv('../../dataset/las_vegas/business/las_vegas_business_preprocessed_with_db_id.csv', index=False)"
   ]
  },
  {
   "cell_type": "code",
   "execution_count": null,
   "metadata": {},
   "outputs": [],
   "source": []
  }
 ],
 "metadata": {
  "kernelspec": {
   "display_name": "Python 2",
   "language": "python",
   "name": "python2"
  },
  "language_info": {
   "codemirror_mode": {
    "name": "ipython",
    "version": 2
   },
   "file_extension": ".py",
   "mimetype": "text/x-python",
   "name": "python",
   "nbconvert_exporter": "python",
   "pygments_lexer": "ipython2",
   "version": "2.7.14"
  }
 },
 "nbformat": 4,
 "nbformat_minor": 2
}

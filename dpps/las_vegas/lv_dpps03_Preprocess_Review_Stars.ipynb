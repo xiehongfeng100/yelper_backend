{
 "cells": [
  {
   "cell_type": "code",
   "execution_count": 1,
   "metadata": {},
   "outputs": [],
   "source": [
    "import numpy as np\n",
    "import pandas as pd\n",
    "import matplotlib.pyplot as plt"
   ]
  },
  {
   "cell_type": "markdown",
   "metadata": {},
   "source": [
    "## 1. Load Las Vegas Reviews"
   ]
  },
  {
   "cell_type": "code",
   "execution_count": 2,
   "metadata": {},
   "outputs": [],
   "source": [
    "yelp_lv_rvs = pd.read_csv('../../dataset/las_vegas/las_vegas_review_with_db_id.csv')"
   ]
  },
  {
   "cell_type": "code",
   "execution_count": 3,
   "metadata": {},
   "outputs": [
    {
     "data": {
      "text/plain": [
       "1604246"
      ]
     },
     "execution_count": 3,
     "metadata": {},
     "output_type": "execute_result"
    }
   ],
   "source": [
    "len(yelp_lv_rvs)"
   ]
  },
  {
   "cell_type": "code",
   "execution_count": 4,
   "metadata": {},
   "outputs": [
    {
     "data": {
      "text/html": [
       "<div>\n",
       "<style scoped>\n",
       "    .dataframe tbody tr th:only-of-type {\n",
       "        vertical-align: middle;\n",
       "    }\n",
       "\n",
       "    .dataframe tbody tr th {\n",
       "        vertical-align: top;\n",
       "    }\n",
       "\n",
       "    .dataframe thead th {\n",
       "        text-align: right;\n",
       "    }\n",
       "</style>\n",
       "<table border=\"1\" class=\"dataframe\">\n",
       "  <thead>\n",
       "    <tr style=\"text-align: right;\">\n",
       "      <th></th>\n",
       "      <th>db_id</th>\n",
       "      <th>review_id</th>\n",
       "      <th>user_db_id</th>\n",
       "      <th>business_db_id</th>\n",
       "      <th>stars</th>\n",
       "      <th>year</th>\n",
       "    </tr>\n",
       "  </thead>\n",
       "  <tbody>\n",
       "    <tr>\n",
       "      <th>0</th>\n",
       "      <td>3</td>\n",
       "      <td>---3OXpexMp0oAg77xWfYA</td>\n",
       "      <td>999269</td>\n",
       "      <td>92729</td>\n",
       "      <td>5</td>\n",
       "      <td>2012</td>\n",
       "    </tr>\n",
       "    <tr>\n",
       "      <th>1</th>\n",
       "      <td>6</td>\n",
       "      <td>---94vtJ_5o_nikEs6hUjg</td>\n",
       "      <td>313272</td>\n",
       "      <td>122971</td>\n",
       "      <td>5</td>\n",
       "      <td>2014</td>\n",
       "    </tr>\n",
       "    <tr>\n",
       "      <th>2</th>\n",
       "      <td>8</td>\n",
       "      <td>---D6-P4MpS86LYldBfX7w</td>\n",
       "      <td>735101</td>\n",
       "      <td>160943</td>\n",
       "      <td>4</td>\n",
       "      <td>2016</td>\n",
       "    </tr>\n",
       "    <tr>\n",
       "      <th>3</th>\n",
       "      <td>20</td>\n",
       "      <td>---WDP9kwKyVQiw9GTgNmQ</td>\n",
       "      <td>1045600</td>\n",
       "      <td>12131</td>\n",
       "      <td>1</td>\n",
       "      <td>2014</td>\n",
       "    </tr>\n",
       "    <tr>\n",
       "      <th>4</th>\n",
       "      <td>22</td>\n",
       "      <td>---zHMCae68gIbSbtXxD5w</td>\n",
       "      <td>971613</td>\n",
       "      <td>15470</td>\n",
       "      <td>4</td>\n",
       "      <td>2015</td>\n",
       "    </tr>\n",
       "  </tbody>\n",
       "</table>\n",
       "</div>"
      ],
      "text/plain": [
       "   db_id               review_id  user_db_id  business_db_id  stars  year\n",
       "0      3  ---3OXpexMp0oAg77xWfYA      999269           92729      5  2012\n",
       "1      6  ---94vtJ_5o_nikEs6hUjg      313272          122971      5  2014\n",
       "2      8  ---D6-P4MpS86LYldBfX7w      735101          160943      4  2016\n",
       "3     20  ---WDP9kwKyVQiw9GTgNmQ     1045600           12131      1  2014\n",
       "4     22  ---zHMCae68gIbSbtXxD5w      971613           15470      4  2015"
      ]
     },
     "execution_count": 4,
     "metadata": {},
     "output_type": "execute_result"
    }
   ],
   "source": [
    "yelp_lv_rvs[:5]"
   ]
  },
  {
   "cell_type": "code",
   "execution_count": 5,
   "metadata": {},
   "outputs": [
    {
     "data": {
      "text/plain": [
       "array([2004, 2005, 2006, 2007, 2008, 2009, 2010, 2011, 2012, 2013, 2014,\n",
       "       2015, 2016, 2017])"
      ]
     },
     "execution_count": 5,
     "metadata": {},
     "output_type": "execute_result"
    }
   ],
   "source": [
    "rv_years = np.sort(yelp_lv_rvs.year.unique())\n",
    "rv_years"
   ]
  },
  {
   "cell_type": "markdown",
   "metadata": {},
   "source": [
    "## 2. Time Window - With Sigmoid Function"
   ]
  },
  {
   "cell_type": "code",
   "execution_count": 6,
   "metadata": {},
   "outputs": [],
   "source": [
    "def sigmoid(x):\n",
    "    return 1 / (1 + np.exp(-x + 2012)) # 这里选择 2012 作为 sigmoid 中心点"
   ]
  },
  {
   "cell_type": "code",
   "execution_count": 7,
   "metadata": {},
   "outputs": [
    {
     "data": {
      "text/plain": [
       "array([3.35350130e-04, 9.11051194e-04, 2.47262316e-03, 6.69285092e-03,\n",
       "       1.79862100e-02, 4.74258732e-02, 1.19202922e-01, 2.68941421e-01,\n",
       "       5.00000000e-01, 7.31058579e-01, 8.80797078e-01, 9.52574127e-01,\n",
       "       9.82013790e-01, 9.93307149e-01])"
      ]
     },
     "execution_count": 7,
     "metadata": {},
     "output_type": "execute_result"
    }
   ],
   "source": [
    "yr_scales = sigmoid(rv_years)\n",
    "yr_scales"
   ]
  },
  {
   "cell_type": "code",
   "execution_count": 8,
   "metadata": {},
   "outputs": [
    {
     "data": {
      "text/plain": [
       "[<matplotlib.lines.Line2D at 0x7f399a522110>]"
      ]
     },
     "execution_count": 8,
     "metadata": {},
     "output_type": "execute_result"
    },
    {
     "data": {
      "image/png": "[encoded data removed]",
      "text/plain": [
       "<Figure size 432x288 with 1 Axes>"
      ]
     },
     "metadata": {},
     "output_type": "display_data"
    }
   ],
   "source": [
    "plt.plot(rv_years, yr_scales)"
   ]
  },
  {
   "cell_type": "markdown",
   "metadata": {},
   "source": [
    "## 3. Scale All Stars in Review"
   ]
  },
  {
   "cell_type": "code",
   "execution_count": 9,
   "metadata": {},
   "outputs": [],
   "source": [
    "yr_scales = {yr: scale for yr, scale in zip(rv_years, yr_scales)}"
   ]
  },
  {
   "cell_type": "code",
   "execution_count": 11,
   "metadata": {},
   "outputs": [],
   "source": [
    "stars_time_scaled = [row['stars'] * yr_scales[row['year']] for index, row in yelp_lv_rvs[['stars', 'year']].iterrows()]"
   ]
  },
  {
   "cell_type": "code",
   "execution_count": 12,
   "metadata": {},
   "outputs": [],
   "source": [
    "yelp_lv_rvs = yelp_lv_rvs.assign(stars_time_scaled=stars_time_scaled)"
   ]
  },
  {
   "cell_type": "code",
   "execution_count": 13,
   "metadata": {},
   "outputs": [
    {
     "data": {
      "text/html": [
       "<div>\n",
       "<style scoped>\n",
       "    .dataframe tbody tr th:only-of-type {\n",
       "        vertical-align: middle;\n",
       "    }\n",
       "\n",
       "    .dataframe tbody tr th {\n",
       "        vertical-align: top;\n",
       "    }\n",
       "\n",
       "    .dataframe thead th {\n",
       "        text-align: right;\n",
       "    }\n",
       "</style>\n",
       "<table border=\"1\" class=\"dataframe\">\n",
       "  <thead>\n",
       "    <tr style=\"text-align: right;\">\n",
       "      <th></th>\n",
       "      <th>db_id</th>\n",
       "      <th>review_id</th>\n",
       "      <th>user_db_id</th>\n",
       "      <th>business_db_id</th>\n",
       "      <th>stars</th>\n",
       "      <th>year</th>\n",
       "      <th>stars_time_scaled</th>\n",
       "    </tr>\n",
       "  </thead>\n",
       "  <tbody>\n",
       "    <tr>\n",
       "      <th>0</th>\n",
       "      <td>3</td>\n",
       "      <td>---3OXpexMp0oAg77xWfYA</td>\n",
       "      <td>999269</td>\n",
       "      <td>92729</td>\n",
       "      <td>5</td>\n",
       "      <td>2012</td>\n",
       "      <td>2.500000</td>\n",
       "    </tr>\n",
       "    <tr>\n",
       "      <th>1</th>\n",
       "      <td>6</td>\n",
       "      <td>---94vtJ_5o_nikEs6hUjg</td>\n",
       "      <td>313272</td>\n",
       "      <td>122971</td>\n",
       "      <td>5</td>\n",
       "      <td>2014</td>\n",
       "      <td>4.403985</td>\n",
       "    </tr>\n",
       "    <tr>\n",
       "      <th>2</th>\n",
       "      <td>8</td>\n",
       "      <td>---D6-P4MpS86LYldBfX7w</td>\n",
       "      <td>735101</td>\n",
       "      <td>160943</td>\n",
       "      <td>4</td>\n",
       "      <td>2016</td>\n",
       "      <td>3.928055</td>\n",
       "    </tr>\n",
       "    <tr>\n",
       "      <th>3</th>\n",
       "      <td>20</td>\n",
       "      <td>---WDP9kwKyVQiw9GTgNmQ</td>\n",
       "      <td>1045600</td>\n",
       "      <td>12131</td>\n",
       "      <td>1</td>\n",
       "      <td>2014</td>\n",
       "      <td>0.880797</td>\n",
       "    </tr>\n",
       "    <tr>\n",
       "      <th>4</th>\n",
       "      <td>22</td>\n",
       "      <td>---zHMCae68gIbSbtXxD5w</td>\n",
       "      <td>971613</td>\n",
       "      <td>15470</td>\n",
       "      <td>4</td>\n",
       "      <td>2015</td>\n",
       "      <td>3.810297</td>\n",
       "    </tr>\n",
       "  </tbody>\n",
       "</table>\n",
       "</div>"
      ],
      "text/plain": [
       "   db_id               review_id  user_db_id  business_db_id  stars  year  \\\n",
       "0      3  ---3OXpexMp0oAg77xWfYA      999269           92729      5  2012   \n",
       "1      6  ---94vtJ_5o_nikEs6hUjg      313272          122971      5  2014   \n",
       "2      8  ---D6-P4MpS86LYldBfX7w      735101          160943      4  2016   \n",
       "3     20  ---WDP9kwKyVQiw9GTgNmQ     1045600           12131      1  2014   \n",
       "4     22  ---zHMCae68gIbSbtXxD5w      971613           15470      4  2015   \n",
       "\n",
       "   stars_time_scaled  \n",
       "0           2.500000  \n",
       "1           4.403985  \n",
       "2           3.928055  \n",
       "3           0.880797  \n",
       "4           3.810297  "
      ]
     },
     "execution_count": 13,
     "metadata": {},
     "output_type": "execute_result"
    }
   ],
   "source": [
    "yelp_lv_rvs[:5]"
   ]
  },
  {
   "cell_type": "markdown",
   "metadata": {},
   "source": [
    "## 4. Save Results for Future Analysis"
   ]
  },
  {
   "cell_type": "code",
   "execution_count": 15,
   "metadata": {},
   "outputs": [],
   "source": [
    "yelp_lv_rvs.to_csv('../../dataset/las_vegas/las_vegas_review_with_stars_time_scaled_with_db_id.csv', index=False)"
   ]
  },
  {
   "cell_type": "code",
   "execution_count": null,
   "metadata": {},
   "outputs": [],
   "source": []
  }
 ],
 "metadata": {
  "kernelspec": {
   "display_name": "Python 2",
   "language": "python",
   "name": "python2"
  },
  "language_info": {
   "codemirror_mode": {
    "name": "ipython",
    "version": 2
   },
   "file_extension": ".py",
   "mimetype": "text/x-python",
   "name": "python",
   "nbconvert_exporter": "python",
   "pygments_lexer": "ipython2",
   "version": "2.7.14"
  }
 },
 "nbformat": 4,
 "nbformat_minor": 2
}

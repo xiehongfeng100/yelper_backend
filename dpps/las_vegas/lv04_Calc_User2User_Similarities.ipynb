{
 "cells": [
  {
   "cell_type": "code",
   "execution_count": 1,
   "metadata": {},
   "outputs": [],
   "source": [
    "import math\n",
    "import numpy as np\n",
    "import pandas as pd\n",
    "import multiprocessing as mp"
   ]
  },
  {
   "cell_type": "markdown",
   "metadata": {},
   "source": [
    "## 1. Load Data"
   ]
  },
  {
   "cell_type": "code",
   "execution_count": 2,
   "metadata": {},
   "outputs": [],
   "source": [
    "yelp_lv_rvs = pd.read_csv('../../dataset/las_vegas/las_vegas_review_with_stars_time_scaled_with_db_id.csv')"
   ]
  },
  {
   "cell_type": "code",
   "execution_count": 3,
   "metadata": {},
   "outputs": [
    {
     "data": {
      "text/html": [
       "<div>\n",
       "<style scoped>\n",
       "    .dataframe tbody tr th:only-of-type {\n",
       "        vertical-align: middle;\n",
       "    }\n",
       "\n",
       "    .dataframe tbody tr th {\n",
       "        vertical-align: top;\n",
       "    }\n",
       "\n",
       "    .dataframe thead th {\n",
       "        text-align: right;\n",
       "    }\n",
       "</style>\n",
       "<table border=\"1\" class=\"dataframe\">\n",
       "  <thead>\n",
       "    <tr style=\"text-align: right;\">\n",
       "      <th></th>\n",
       "      <th>db_id</th>\n",
       "      <th>review_id</th>\n",
       "      <th>user_db_id</th>\n",
       "      <th>business_db_id</th>\n",
       "      <th>stars</th>\n",
       "      <th>year</th>\n",
       "      <th>stars_time_scaled</th>\n",
       "    </tr>\n",
       "  </thead>\n",
       "  <tbody>\n",
       "    <tr>\n",
       "      <th>0</th>\n",
       "      <td>3</td>\n",
       "      <td>---3OXpexMp0oAg77xWfYA</td>\n",
       "      <td>999269</td>\n",
       "      <td>92729</td>\n",
       "      <td>5</td>\n",
       "      <td>2012</td>\n",
       "      <td>2.500000</td>\n",
       "    </tr>\n",
       "    <tr>\n",
       "      <th>1</th>\n",
       "      <td>6</td>\n",
       "      <td>---94vtJ_5o_nikEs6hUjg</td>\n",
       "      <td>313272</td>\n",
       "      <td>122971</td>\n",
       "      <td>5</td>\n",
       "      <td>2014</td>\n",
       "      <td>4.403985</td>\n",
       "    </tr>\n",
       "    <tr>\n",
       "      <th>2</th>\n",
       "      <td>8</td>\n",
       "      <td>---D6-P4MpS86LYldBfX7w</td>\n",
       "      <td>735101</td>\n",
       "      <td>160943</td>\n",
       "      <td>4</td>\n",
       "      <td>2016</td>\n",
       "      <td>3.928055</td>\n",
       "    </tr>\n",
       "    <tr>\n",
       "      <th>3</th>\n",
       "      <td>20</td>\n",
       "      <td>---WDP9kwKyVQiw9GTgNmQ</td>\n",
       "      <td>1045600</td>\n",
       "      <td>12131</td>\n",
       "      <td>1</td>\n",
       "      <td>2014</td>\n",
       "      <td>0.880797</td>\n",
       "    </tr>\n",
       "    <tr>\n",
       "      <th>4</th>\n",
       "      <td>22</td>\n",
       "      <td>---zHMCae68gIbSbtXxD5w</td>\n",
       "      <td>971613</td>\n",
       "      <td>15470</td>\n",
       "      <td>4</td>\n",
       "      <td>2015</td>\n",
       "      <td>3.810297</td>\n",
       "    </tr>\n",
       "  </tbody>\n",
       "</table>\n",
       "</div>"
      ],
      "text/plain": [
       "   db_id               review_id  user_db_id  business_db_id  stars  year  \\\n",
       "0      3  ---3OXpexMp0oAg77xWfYA      999269           92729      5  2012   \n",
       "1      6  ---94vtJ_5o_nikEs6hUjg      313272          122971      5  2014   \n",
       "2      8  ---D6-P4MpS86LYldBfX7w      735101          160943      4  2016   \n",
       "3     20  ---WDP9kwKyVQiw9GTgNmQ     1045600           12131      1  2014   \n",
       "4     22  ---zHMCae68gIbSbtXxD5w      971613           15470      4  2015   \n",
       "\n",
       "   stars_time_scaled  \n",
       "0           2.500000  \n",
       "1           4.403985  \n",
       "2           3.928055  \n",
       "3           0.880797  \n",
       "4           3.810297  "
      ]
     },
     "execution_count": 3,
     "metadata": {},
     "output_type": "execute_result"
    }
   ],
   "source": [
    "yelp_lv_rvs[:5]"
   ]
  },
  {
   "cell_type": "markdown",
   "metadata": {},
   "source": [
    "## 2. Calculate User2Business Maps"
   ]
  },
  {
   "cell_type": "code",
   "execution_count": 4,
   "metadata": {},
   "outputs": [],
   "source": [
    "users = yelp_lv_rvs.user_db_id.unique()"
   ]
  },
  {
   "cell_type": "code",
   "execution_count": 5,
   "metadata": {},
   "outputs": [],
   "source": [
    "def calc_user_bizes(user):\n",
    "    user_bizes = dict()\n",
    "    user_bizes[user] = dict()\n",
    "    rvs = yelp_lv_rvs[yelp_lv_rvs.user_db_id==user]\n",
    "    for index, row in rvs.iterrows():\n",
    "        biz = row['business_db_id']\n",
    "        user_bizes[user][biz] = dict(stars_time_scaled=row['stars_time_scaled'], year=row['year'])\n",
    "    return user_bizes"
   ]
  },
  {
   "cell_type": "code",
   "execution_count": 6,
   "metadata": {},
   "outputs": [],
   "source": [
    "pool = mp.Pool(processes=12)\n",
    "user_bizes = pool.map(calc_user_bizes, users)\n",
    "pool.close()\n",
    "pool.join()"
   ]
  },
  {
   "cell_type": "code",
   "execution_count": 7,
   "metadata": {},
   "outputs": [],
   "source": [
    "user_biz_maps = {user_biz.keys()[0]: user_biz.values()[0] for user_biz in user_bizes}"
   ]
  },
  {
   "cell_type": "code",
   "execution_count": 8,
   "metadata": {},
   "outputs": [
    {
     "data": {
      "text/plain": [
       "{5813: {'stars_time_scaled': 3.8102965072897335, 'year': 2015},\n",
       " 26820: {'stars_time_scaled': 3.8102965072897335, 'year': 2015},\n",
       " 30707: {'stars_time_scaled': 2.8577223804672998, 'year': 2015},\n",
       " 58373: {'stars_time_scaled': 2.8577223804672998, 'year': 2015},\n",
       " 62410: {'stars_time_scaled': 3.8102965072897335, 'year': 2015},\n",
       " 77066: {'stars_time_scaled': 1.9051482536448667, 'year': 2015},\n",
       " 105514: {'stars_time_scaled': 3.8102965072897335, 'year': 2015},\n",
       " 123345: {'stars_time_scaled': 3.8102965072897335, 'year': 2015},\n",
       " 124443: {'stars_time_scaled': 4.762870634112167, 'year': 2015},\n",
       " 148480: {'stars_time_scaled': 3.8102965072897335, 'year': 2015},\n",
       " 149926: {'stars_time_scaled': 2.8577223804672998, 'year': 2015},\n",
       " 154973: {'stars_time_scaled': 4.762870634112167, 'year': 2015}}"
      ]
     },
     "execution_count": 8,
     "metadata": {},
     "output_type": "execute_result"
    }
   ],
   "source": [
    "user_biz_maps[76887]"
   ]
  },
  {
   "cell_type": "markdown",
   "metadata": {},
   "source": [
    "## 3. Calculate User2User Similarities\n",
    "\n",
    "这一步的计算将会耗费很多时间，请参考博客说明"
   ]
  },
  {
   "cell_type": "code",
   "execution_count": 9,
   "metadata": {},
   "outputs": [],
   "source": [
    "alpha = 1.0\n",
    "def time_attenuation(delta):\n",
    "    return 1 / (1 + alpha * abs(delta))"
   ]
  },
  {
   "cell_type": "code",
   "execution_count": 10,
   "metadata": {},
   "outputs": [],
   "source": [
    "def _calc_similarity(bizes_a, bizes_b):\n",
    "    similarity = 0\n",
    "    comm_bizes = set(bizes_a.keys()) & set(bizes_b.keys()) # Common businesses\n",
    "    if len(comm_bizes) < 2: # Filter out those with number of common businesses less than 2\n",
    "        return similarity\n",
    "\n",
    "    bizes_ab_product = 0\n",
    "    biz_a_length = 0\n",
    "    biz_b_length = 0\n",
    "    for biz in comm_bizes:\n",
    "        stars_a = bizes_a[biz]['stars_time_scaled']\n",
    "        stars_b = bizes_b[biz]['stars_time_scaled']\n",
    "        year_a = bizes_a[biz]['year']\n",
    "        year_b = bizes_b[biz]['year']\n",
    "        bizes_ab_product += stars_a * stars_b * time_attenuation(year_a - year_b)\n",
    "        biz_a_length += pow(stars_a, 2)\n",
    "        biz_b_length += pow(stars_b, 2)\n",
    "\n",
    "    similarity = bizes_ab_product / (math.sqrt(biz_a_length) * math.sqrt(biz_b_length))\n",
    "    return similarity"
   ]
  },
  {
   "cell_type": "code",
   "execution_count": 11,
   "metadata": {},
   "outputs": [],
   "source": [
    "calculated = dict()"
   ]
  },
  {
   "cell_type": "code",
   "execution_count": 12,
   "metadata": {},
   "outputs": [],
   "source": [
    "def calc_similarity(user_a):\n",
    "    user_similarities = list()\n",
    "    bizes_a = user_biz_maps[user_a]\n",
    "    for user_b in users:\n",
    "        if user_a == user_b:\n",
    "            continue\n",
    "        if (user_a, user_b) in calculated or (user_b, user_a) in calculated:\n",
    "            continue\n",
    "        bizes_b = user_biz_maps[user_b]\n",
    "        similarity = _calc_similarity(bizes_a, bizes_b)\n",
    "        if similarity:\n",
    "            user_similarities.append([user_a, user_b, similarity])\n",
    "            calculated[(user_a, user_b)] = True\n",
    "\n",
    "    return user_similarities"
   ]
  },
  {
   "cell_type": "code",
   "execution_count": 13,
   "metadata": {},
   "outputs": [],
   "source": [
    "pool = mp.Pool(processes=12)\n",
    "user_similarities = pool.map(calc_similarity, users)\n",
    "pool.close()\n",
    "pool.join()"
   ]
  },
  {
   "cell_type": "markdown",
   "metadata": {},
   "source": [
    "## 4. Join Results Together and Save"
   ]
  },
  {
   "cell_type": "code",
   "execution_count": 14,
   "metadata": {},
   "outputs": [],
   "source": [
    "all_user_similarities = list()\n",
    "for similarities in user_similarities:\n",
    "    all_user_similarities.extend(similarities)"
   ]
  },
  {
   "cell_type": "code",
   "execution_count": 15,
   "metadata": {},
   "outputs": [
    {
     "data": {
      "text/plain": [
       "55134458"
      ]
     },
     "execution_count": 15,
     "metadata": {},
     "output_type": "execute_result"
    }
   ],
   "source": [
    "len(all_user_similarities)"
   ]
  },
  {
   "cell_type": "code",
   "execution_count": 16,
   "metadata": {},
   "outputs": [],
   "source": [
    "similarity_df = pd.DataFrame(all_user_similarities)"
   ]
  },
  {
   "cell_type": "code",
   "execution_count": 17,
   "metadata": {},
   "outputs": [],
   "source": [
    "similarity_df.to_csv('../../dataset/las_vegas/las_vegas_user2user_similarities.csv', index=False)"
   ]
  },
  {
   "cell_type": "code",
   "execution_count": null,
   "metadata": {},
   "outputs": [],
   "source": []
  }
 ],
 "metadata": {
  "kernelspec": {
   "display_name": "Python 2",
   "language": "python",
   "name": "python2"
  },
  "language_info": {
   "codemirror_mode": {
    "name": "ipython",
    "version": 2
   },
   "file_extension": ".py",
   "mimetype": "text/x-python",
   "name": "python",
   "nbconvert_exporter": "python",
   "pygments_lexer": "ipython2",
   "version": "2.7.14"
  }
 },
 "nbformat": 4,
 "nbformat_minor": 2
}

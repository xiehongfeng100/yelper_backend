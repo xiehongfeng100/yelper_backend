{
 "cells": [
  {
   "cell_type": "markdown",
   "metadata": {},
   "source": [
    "# Las Vegas 用户相似度计算\n",
    "\n",
    "### 该 Notebook 对应的博客[链接](http://xiehongfeng100.github.io/2018/07/31/yelper-dpps-las-vegas-data-preprocessing/)"
   ]
  },
  {
   "cell_type": "markdown",
   "metadata": {},
   "source": [
    "用户之间的相似度是通过计算他们之间共同评价过的商店的 stars 值来计算的，计算公式如下：\n",
    "$$\n",
    "similarity(A,B)=\\frac{A\\cdot B}{\\left \\| A \\right \\|\\left \\| B \\right \\|} =\\frac{\\sum_{n}^{i}A_{i}\\times B_{i}}{\\sqrt{\\sum_{n}^{i}A_{i}^{2}}\\times \\sqrt{\\sum_{n}^{i}B_{i}^{2}}}\n",
    "$$\n",
    "\n",
    "如用户 A 和 B 共同评价过 Business1、Business2、Business3，而且他们对这三个 business 给出的 stars 分别为 $ \\overrightarrow{A}=< 5, 3, 3 > $, $ \\overrightarrow{B}=< 4, 2, 3 > $，那他们之间的相似度为：\n",
    "\n",
    "$$\n",
    "similarity(A,B)=\\frac {5*4 + 3*2 + 3*3}{\\sqrt{5^{2}+3^{2}+3^{2}}\\times \\sqrt{4^{2}+2^{2}+3^{2}}}=\\frac{35}{\\sqrt{43}*\\sqrt{29}} \\approx 0.99\n",
    "$$\n",
    "\n",
    "但这里我们有**三个细节**需要注意的：\n",
    "\n",
    "- `只要用户 A 和 B 只共同评价过一个 business，那他们的相似度就为 1，这显然是不大合常理的，所以这种情况要剔除掉。`\n",
    "\n",
    "- 当用户 A 和 B 共同评价过某些 business，即使他们给的 stars 都很低，他们之间的相似度可能也会比较高，如 $ \\overrightarrow{A}=< 1, 1 > $, $ \\overrightarrow{B}=< 1, 1 > $，此时计算出来 A、B 的相似度为 1，这也是不合常理的。`既然用户都不喜欢某一家 business，那他们的相似度不应该高;相似度高的应该是对某些 business 都给过比较高评价的用户。所以在计算用户相似度时，会剔除掉 stars 值低于 3 的评论。`\n",
    "\n",
    "- 用户 A 和 B 对同一家 business 都给出比较高的评价，但是 A 和 B 对该 business 评价的时间差较大，如 A 在 5 年前给该 business 评了 5 分，B 在今年对它评价了 5 分，直接计算可能会得到较高的相似度。这样得出来的结果也是不大合常理的，因为`时间相隔太久，用户的兴趣可能已经千变万化，所以在计算相似度时还要乘上一个时间衰减函数`，如我们可以定义该函数为：\n",
    "\n",
    "$$\n",
    "f(\\delta) = \\frac {1}{1 + \\alpha * \\delta}\n",
    "$$\n",
    "\n",
    "其中，$\\delta$ 表示两个 review 之间时间差；$\\alpha$ 表示衰减系数，值越大衰减的越厉害。关于其图形请见本文后边说明。\n",
    "\n",
    "综上，可以得到**最终的用户相似度公式**为：\n",
    "\n",
    "$$\n",
    "similarity(A,B)=\\frac{A\\cdot B \\cdot F(\\delta)}{\\left \\| A \\right \\|\\left \\| B \\right \\|} =\\frac{\\sum_{n}^{i}A_{i}\\times B_{i} \\times f(\\delta_{i})}{\\sqrt{\\sum_{n}^{i}A_{i}^{2}}\\times \\sqrt{\\sum_{n}^{i}B_{i}^{2}}}\n",
    "$$"
   ]
  },
  {
   "cell_type": "markdown",
   "metadata": {},
   "source": [
    "# 实际计算过程"
   ]
  },
  {
   "cell_type": "code",
   "execution_count": 1,
   "metadata": {},
   "outputs": [],
   "source": [
    "import math\n",
    "import numpy as np\n",
    "import pandas as pd\n",
    "import multiprocessing as mp\n",
    "import matplotlib.pyplot as plt"
   ]
  },
  {
   "cell_type": "markdown",
   "metadata": {},
   "source": [
    "## 1. 加载数据"
   ]
  },
  {
   "cell_type": "code",
   "execution_count": 2,
   "metadata": {},
   "outputs": [],
   "source": [
    "yelp_lv_rvs = pd.read_csv('../../dataset/las_vegas/las_vegas_review_with_stars_time_scaled_with_db_id.csv')"
   ]
  },
  {
   "cell_type": "code",
   "execution_count": 3,
   "metadata": {},
   "outputs": [
    {
     "data": {
      "text/plain": [
       "1604246"
      ]
     },
     "execution_count": 3,
     "metadata": {},
     "output_type": "execute_result"
    }
   ],
   "source": [
    "len(yelp_lv_rvs)"
   ]
  },
  {
   "cell_type": "code",
   "execution_count": 4,
   "metadata": {},
   "outputs": [
    {
     "data": {
      "text/html": [
       "<div>\n",
       "<style scoped>\n",
       "    .dataframe tbody tr th:only-of-type {\n",
       "        vertical-align: middle;\n",
       "    }\n",
       "\n",
       "    .dataframe tbody tr th {\n",
       "        vertical-align: top;\n",
       "    }\n",
       "\n",
       "    .dataframe thead th {\n",
       "        text-align: right;\n",
       "    }\n",
       "</style>\n",
       "<table border=\"1\" class=\"dataframe\">\n",
       "  <thead>\n",
       "    <tr style=\"text-align: right;\">\n",
       "      <th></th>\n",
       "      <th>db_id</th>\n",
       "      <th>review_id</th>\n",
       "      <th>user_db_id</th>\n",
       "      <th>business_db_id</th>\n",
       "      <th>stars</th>\n",
       "      <th>year</th>\n",
       "      <th>stars_time_scaled</th>\n",
       "    </tr>\n",
       "  </thead>\n",
       "  <tbody>\n",
       "    <tr>\n",
       "      <th>0</th>\n",
       "      <td>3</td>\n",
       "      <td>---3OXpexMp0oAg77xWfYA</td>\n",
       "      <td>999269</td>\n",
       "      <td>92729</td>\n",
       "      <td>5</td>\n",
       "      <td>2012</td>\n",
       "      <td>2.500000</td>\n",
       "    </tr>\n",
       "    <tr>\n",
       "      <th>1</th>\n",
       "      <td>6</td>\n",
       "      <td>---94vtJ_5o_nikEs6hUjg</td>\n",
       "      <td>313272</td>\n",
       "      <td>122971</td>\n",
       "      <td>5</td>\n",
       "      <td>2014</td>\n",
       "      <td>4.403985</td>\n",
       "    </tr>\n",
       "    <tr>\n",
       "      <th>2</th>\n",
       "      <td>8</td>\n",
       "      <td>---D6-P4MpS86LYldBfX7w</td>\n",
       "      <td>735101</td>\n",
       "      <td>160943</td>\n",
       "      <td>4</td>\n",
       "      <td>2016</td>\n",
       "      <td>3.928055</td>\n",
       "    </tr>\n",
       "    <tr>\n",
       "      <th>3</th>\n",
       "      <td>20</td>\n",
       "      <td>---WDP9kwKyVQiw9GTgNmQ</td>\n",
       "      <td>1045600</td>\n",
       "      <td>12131</td>\n",
       "      <td>1</td>\n",
       "      <td>2014</td>\n",
       "      <td>0.880797</td>\n",
       "    </tr>\n",
       "    <tr>\n",
       "      <th>4</th>\n",
       "      <td>22</td>\n",
       "      <td>---zHMCae68gIbSbtXxD5w</td>\n",
       "      <td>971613</td>\n",
       "      <td>15470</td>\n",
       "      <td>4</td>\n",
       "      <td>2015</td>\n",
       "      <td>3.810297</td>\n",
       "    </tr>\n",
       "  </tbody>\n",
       "</table>\n",
       "</div>"
      ],
      "text/plain": [
       "   db_id               review_id  user_db_id  business_db_id  stars  year  \\\n",
       "0      3  ---3OXpexMp0oAg77xWfYA      999269           92729      5  2012   \n",
       "1      6  ---94vtJ_5o_nikEs6hUjg      313272          122971      5  2014   \n",
       "2      8  ---D6-P4MpS86LYldBfX7w      735101          160943      4  2016   \n",
       "3     20  ---WDP9kwKyVQiw9GTgNmQ     1045600           12131      1  2014   \n",
       "4     22  ---zHMCae68gIbSbtXxD5w      971613           15470      4  2015   \n",
       "\n",
       "   stars_time_scaled  \n",
       "0           2.500000  \n",
       "1           4.403985  \n",
       "2           3.928055  \n",
       "3           0.880797  \n",
       "4           3.810297  "
      ]
     },
     "execution_count": 4,
     "metadata": {},
     "output_type": "execute_result"
    }
   ],
   "source": [
    "yelp_lv_rvs[:5]"
   ]
  },
  {
   "cell_type": "markdown",
   "metadata": {},
   "source": [
    "** 过滤掉 stars_time_scaled 小于 3 的 review **"
   ]
  },
  {
   "cell_type": "code",
   "execution_count": 5,
   "metadata": {},
   "outputs": [],
   "source": [
    "yelp_lv_rvs = yelp_lv_rvs[yelp_lv_rvs.stars_time_scaled >= 3]"
   ]
  },
  {
   "cell_type": "code",
   "execution_count": 6,
   "metadata": {},
   "outputs": [
    {
     "data": {
      "text/plain": [
       "819669"
      ]
     },
     "execution_count": 6,
     "metadata": {},
     "output_type": "execute_result"
    }
   ],
   "source": [
    "len(yelp_lv_rvs)"
   ]
  },
  {
   "cell_type": "markdown",
   "metadata": {},
   "source": [
    "## 2. 计算 User2Business 映射"
   ]
  },
  {
   "cell_type": "code",
   "execution_count": 7,
   "metadata": {},
   "outputs": [],
   "source": [
    "lv_users = yelp_lv_rvs.user_db_id.unique()"
   ]
  },
  {
   "cell_type": "code",
   "execution_count": 8,
   "metadata": {},
   "outputs": [
    {
     "data": {
      "text/plain": [
       "330109"
      ]
     },
     "execution_count": 8,
     "metadata": {},
     "output_type": "execute_result"
    }
   ],
   "source": [
    "len(lv_users)"
   ]
  },
  {
   "cell_type": "code",
   "execution_count": 9,
   "metadata": {},
   "outputs": [],
   "source": [
    "def calc_user_bizes(user):\n",
    "    user_bizes = dict()\n",
    "    user_bizes[user] = dict()\n",
    "    rvs = yelp_lv_rvs[yelp_lv_rvs.user_db_id==user]\n",
    "    for index, row in rvs.iterrows():\n",
    "        biz = row['business_db_id']\n",
    "        user_bizes[user][biz] = dict(stars_time_scaled=row['stars_time_scaled'], year=row['year'])\n",
    "    return user_bizes"
   ]
  },
  {
   "cell_type": "markdown",
   "metadata": {},
   "source": [
    "这里为了更好利用计算机并发能力（12核），利用多进程库 [multiprocessing](https://docs.python.org/2/library/multiprocessing.html) 进程池来加快计算"
   ]
  },
  {
   "cell_type": "code",
   "execution_count": 10,
   "metadata": {},
   "outputs": [
    {
     "name": "stdout",
     "output_type": "stream",
     "text": [
      "CPU times: user 4.8 s, sys: 340 ms, total: 5.14 s\n",
      "Wall time: 1min 6s\n"
     ]
    }
   ],
   "source": [
    "%%time\n",
    "pool = mp.Pool(processes=12)\n",
    "user_bizes = pool.map(calc_user_bizes, lv_users)\n",
    "pool.close()\n",
    "pool.join()"
   ]
  },
  {
   "cell_type": "code",
   "execution_count": 11,
   "metadata": {},
   "outputs": [],
   "source": [
    "lv_user_biz_maps = {user_biz.keys()[0]: user_biz.values()[0] for user_biz in user_bizes}"
   ]
  },
  {
   "cell_type": "code",
   "execution_count": 12,
   "metadata": {},
   "outputs": [
    {
     "data": {
      "text/plain": [
       "{5813: {'stars_time_scaled': 3.8102965072897335, 'year': 2015},\n",
       " 26820: {'stars_time_scaled': 3.8102965072897335, 'year': 2015},\n",
       " 62410: {'stars_time_scaled': 3.8102965072897335, 'year': 2015},\n",
       " 105514: {'stars_time_scaled': 3.8102965072897335, 'year': 2015},\n",
       " 123345: {'stars_time_scaled': 3.8102965072897335, 'year': 2015},\n",
       " 124443: {'stars_time_scaled': 4.762870634112167, 'year': 2015},\n",
       " 148480: {'stars_time_scaled': 3.8102965072897335, 'year': 2015},\n",
       " 154973: {'stars_time_scaled': 4.762870634112167, 'year': 2015}}"
      ]
     },
     "execution_count": 12,
     "metadata": {},
     "output_type": "execute_result"
    }
   ],
   "source": [
    "lv_user_biz_maps[76887]"
   ]
  },
  {
   "cell_type": "markdown",
   "metadata": {},
   "source": [
    "## 3. Calculate User2User Similarities"
   ]
  },
  {
   "cell_type": "markdown",
   "metadata": {},
   "source": [
    "### 3.1 定义时间衰减函数"
   ]
  },
  {
   "cell_type": "code",
   "execution_count": 13,
   "metadata": {},
   "outputs": [],
   "source": [
    "alpha = 1.0 # 这里我们取 alpha 为 1.0\n",
    "def time_attenuation(delta):\n",
    "    return 1 / (1 + alpha * abs(delta))"
   ]
  },
  {
   "cell_type": "code",
   "execution_count": 14,
   "metadata": {},
   "outputs": [
    {
     "data": {
      "text/plain": [
       "Text(0,0.5,'$f(\\\\delta)$')"
      ]
     },
     "execution_count": 14,
     "metadata": {},
     "output_type": "execute_result"
    },
    {
     "data": {
      "image/png": "[encoded data removed]",
      "text/plain": [
       "<Figure size 432x288 with 1 Axes>"
      ]
     },
     "metadata": {},
     "output_type": "display_data"
    }
   ],
   "source": [
    "# 看一下时间衰减函数的图形\n",
    "x = np.arange(10)\n",
    "y = time_attenuation(x)\n",
    "plt.plot(x, y)\n",
    "plt.xlabel(r'$\\delta$', fontsize=15); plt.ylabel(r'$f(\\delta)$', fontsize=15)"
   ]
  },
  {
   "cell_type": "markdown",
   "metadata": {},
   "source": [
    "### 3.2 相似度“多进程”计算概述\n",
    "\n",
    "当计算用户 A 与 B 之间的相似度时，如果**简单**直接使用两重 for 循环计算，我们最后会得到两个相似度 similarity(A, B) 及 similarity(B, A)，而这两者不管是意义还是值大小上都是相等的，`最好的情况下只需计算一个。`**如果我们使用单进程，这没有什么问题，因为不存在共享变量的问题；但如果我们要用多进程来加快计算速度，涉及到共享变量的问题，那我们就需要在速度和重复计算中做一个折中。**详细请看下边实验。"
   ]
  },
  {
   "cell_type": "markdown",
   "metadata": {},
   "source": [
    "#### 3.2.1 采用共享变量\n",
    "\n",
    "因为使用多进程来加快计算用户之间的相似度，可以用 multiprocessing.Manager 来定义多进程之间的共享变量，以达到不用重复计算的效果。大概代码如下：\n",
    "\n",
    "````Python\n",
    "from multiprocessing import Manager\n",
    "manager = Manager()\n",
    "calulated_u2u_simis = manager.dict()\n",
    "\n",
    "# 多进程计算用户相似度\n",
    "def calc_similarity(user_a):\n",
    "    user_similarities = list()\n",
    "    bizes_a = lv_user_biz_maps[user_a]\n",
    "    for user_b in lv_users[:50]:\n",
    "        if user_a == user_b:\n",
    "            continue\n",
    "        if (user_a, user_b) in calulated_u2u_simis or (user_b, user_a) in calulated_u2u_simis: # 1. 已经计算过的直接跳过\n",
    "            continue\n",
    "        bizes_b = lv_user_biz_maps[user_b]\n",
    "        similarity = _calc_similarity(bizes_a, bizes_b) # 该函数定义在后边\n",
    "        if similarity:\n",
    "            user_similarities.append([user_a, user_b, similarity])\n",
    "            # 2. 设置共享变量\n",
    "            calulated_u2u_simis[(user_a, user_b)] = True\n",
    "\n",
    "    return user_similarities\n",
    "\n",
    "pool = mp.Pool(processes=12)\n",
    "u2u_similarities = pool.map(calc_similarity, lv_users)\n",
    "pool.close()\n",
    "pool.join()\n",
    "````\n",
    "\n",
    "理想很丰满，现实很残酷！让我们来看一下多进程利用率吧：\n",
    "\n",
    "![多进程利用率](images/multiprocessing_manager_lock.png)  \n",
    "\n",
    "也就是说，multiprocessing.Manger 其实在共享变量 calulated_u2u_simis 上加了一个锁，导致我们无法充分利用多核优势。关于加锁，目前在官方文档还没找到描述的地方，不过可以参考一个 StackOverflow 网友的[实验](https://stackoverflow.com/a/47875528)，他证明了使用 multiprocessing.Manger.dict() 会加锁。\n",
    "\n",
    "另外关于 multiprocessing 详细可参考[官方文档](https://docs.python.org/2/library/multiprocessing.html#managers)，[博文](https://my.oschina.net/leejun2005/blog/203148)。"
   ]
  },
  {
   "cell_type": "markdown",
   "metadata": {},
   "source": [
    "#### 3.2.2 不设置共享变量（接下来的计算会采用该方式）\n",
    "\n",
    "这是比较简单的做法，对于用户 A 与 B，我们会计算两个相似度 similarity(A, B) 及 similarity(B, A)，最后再通过额外处理过滤掉重复的相似度。虽然存在重复计算的问题，但我们可以利用多核优势，加快计算。此时的多核利用率如下图所示：\n",
    "\n",
    "![多进程利用率](images/multiprocessing_with_no_share_variable.png)  "
   ]
  },
  {
   "cell_type": "code",
   "execution_count": 15,
   "metadata": {},
   "outputs": [],
   "source": [
    "# from multiprocessing import Manager"
   ]
  },
  {
   "cell_type": "code",
   "execution_count": 16,
   "metadata": {},
   "outputs": [],
   "source": [
    "# manager = Manager()\n",
    "# calulated_u2u_simis = manager.dict()\n",
    "# calulated_u2u_simis = dict()"
   ]
  },
  {
   "cell_type": "markdown",
   "metadata": {},
   "source": [
    "### 3.2 计算相似度"
   ]
  },
  {
   "cell_type": "code",
   "execution_count": 17,
   "metadata": {},
   "outputs": [],
   "source": [
    "def _calc_similarity(bizes_a, bizes_b):\n",
    "    similarity = 0\n",
    "    comm_bizes = set(bizes_a.keys()) & set(bizes_b.keys()) # 共同评价过的 business\n",
    "    if len(comm_bizes) < 2: # 过滤掉用户之间只共同评价过一个 business 的情况\n",
    "        return similarity\n",
    "\n",
    "    bizes_ab_product = 0\n",
    "    biz_a_length = 0\n",
    "    biz_b_length = 0\n",
    "    for biz in comm_bizes:\n",
    "        stars_a = bizes_a[biz]['stars_time_scaled']\n",
    "        stars_b = bizes_b[biz]['stars_time_scaled']\n",
    "        year_a = bizes_a[biz]['year']\n",
    "        year_b = bizes_b[biz]['year']\n",
    "        bizes_ab_product += stars_a * stars_b * time_attenuation(year_a - year_b) # 乘以时间衰减函数\n",
    "        biz_a_length += pow(stars_a, 2)\n",
    "        biz_b_length += pow(stars_b, 2)\n",
    "\n",
    "    similarity = bizes_ab_product / (math.sqrt(biz_a_length) * math.sqrt(biz_b_length))\n",
    "    return similarity"
   ]
  },
  {
   "cell_type": "code",
   "execution_count": 18,
   "metadata": {},
   "outputs": [],
   "source": [
    "def calc_similarity(user_a):\n",
    "    user_similarities = list()\n",
    "    bizes_a = lv_user_biz_maps[user_a]\n",
    "    for user_b in lv_users:\n",
    "        if user_a == user_b:\n",
    "            continue\n",
    "#         if (user_a, user_b) in calulated_u2u_simis or (user_b, user_a) in calulated_u2u_simis: # 已经计算过的直接跳过\n",
    "#             continue\n",
    "        bizes_b = lv_user_biz_maps[user_b]\n",
    "        similarity = _calc_similarity(bizes_a, bizes_b)\n",
    "        if similarity:\n",
    "            user_similarities.append([user_a, user_b, similarity])\n",
    "            # 设置共享变量\n",
    "            # calulated_u2u_simis[(user_a, user_b)] = True\n",
    "\n",
    "    return user_similarities"
   ]
  },
  {
   "cell_type": "code",
   "execution_count": 19,
   "metadata": {},
   "outputs": [
    {
     "name": "stdout",
     "output_type": "stream",
     "text": [
      "CPU times: user 25.9 s, sys: 4.48 s, total: 30.4 s\n",
      "Wall time: 4h 55min 43s\n"
     ]
    }
   ],
   "source": [
    "%%time\n",
    "pool = mp.Pool(processes=12)\n",
    "u2u_similarities = pool.map(calc_similarity, lv_users)\n",
    "pool.close()\n",
    "pool.join()"
   ]
  },
  {
   "cell_type": "markdown",
   "metadata": {},
   "source": [
    "## 4. 处理重复数据及保存数据"
   ]
  },
  {
   "cell_type": "markdown",
   "metadata": {},
   "source": [
    "### 4.1 数据聚合"
   ]
  },
  {
   "cell_type": "code",
   "execution_count": 20,
   "metadata": {},
   "outputs": [],
   "source": [
    "all_u2u_similarities = list()\n",
    "for similarities in u2u_similarities:\n",
    "    all_u2u_similarities.extend(similarities)"
   ]
  },
  {
   "cell_type": "code",
   "execution_count": 21,
   "metadata": {},
   "outputs": [
    {
     "data": {
      "text/plain": [
       "6768590"
      ]
     },
     "execution_count": 21,
     "metadata": {},
     "output_type": "execute_result"
    }
   ],
   "source": [
    "len(all_u2u_similarities)"
   ]
  },
  {
   "cell_type": "code",
   "execution_count": 22,
   "metadata": {},
   "outputs": [
    {
     "data": {
      "text/plain": [
       "[[313272, 971613, 0.7128247382890718],\n",
       " [313272, 919085, 0.4974513327262249],\n",
       " [313272, 1254779, 0.39954072623395737],\n",
       " [313272, 1313322, 0.4969418673368094],\n",
       " [313272, 920249, 0.4992845542199113]]"
      ]
     },
     "execution_count": 22,
     "metadata": {},
     "output_type": "execute_result"
    }
   ],
   "source": [
    "all_u2u_similarities[:5]"
   ]
  },
  {
   "cell_type": "markdown",
   "metadata": {},
   "source": [
    "### 4.2 移除重复数据"
   ]
  },
  {
   "cell_type": "code",
   "execution_count": 23,
   "metadata": {},
   "outputs": [],
   "source": [
    "calculated = dict()"
   ]
  },
  {
   "cell_type": "code",
   "execution_count": 24,
   "metadata": {},
   "outputs": [],
   "source": [
    "not_repeated = list()\n",
    "for row in all_u2u_similarities:\n",
    "    key = (row[0], row[1])\n",
    "    rkey = (row[1], row[0])\n",
    "    if key not in calculated and rkey not in calculated:\n",
    "        not_repeated.append([row[0], row[1], row[2]])\n",
    "        calculated[key] = True"
   ]
  },
  {
   "cell_type": "code",
   "execution_count": 25,
   "metadata": {},
   "outputs": [
    {
     "data": {
      "text/plain": [
       "3384295"
      ]
     },
     "execution_count": 25,
     "metadata": {},
     "output_type": "execute_result"
    }
   ],
   "source": [
    "len(not_repeated)"
   ]
  },
  {
   "cell_type": "markdown",
   "metadata": {},
   "source": [
    "### 4.3 保存数据"
   ]
  },
  {
   "cell_type": "code",
   "execution_count": 26,
   "metadata": {},
   "outputs": [],
   "source": [
    "similarity_df = pd.DataFrame(not_repeated, columns=['user_a_db_id', 'user_b_db_id', 'similarity'])"
   ]
  },
  {
   "cell_type": "code",
   "execution_count": 27,
   "metadata": {},
   "outputs": [
    {
     "data": {
      "text/html": [
       "<div>\n",
       "<style scoped>\n",
       "    .dataframe tbody tr th:only-of-type {\n",
       "        vertical-align: middle;\n",
       "    }\n",
       "\n",
       "    .dataframe tbody tr th {\n",
       "        vertical-align: top;\n",
       "    }\n",
       "\n",
       "    .dataframe thead th {\n",
       "        text-align: right;\n",
       "    }\n",
       "</style>\n",
       "<table border=\"1\" class=\"dataframe\">\n",
       "  <thead>\n",
       "    <tr style=\"text-align: right;\">\n",
       "      <th></th>\n",
       "      <th>user_a_db_id</th>\n",
       "      <th>user_b_db_id</th>\n",
       "      <th>similarity</th>\n",
       "    </tr>\n",
       "  </thead>\n",
       "  <tbody>\n",
       "    <tr>\n",
       "      <th>0</th>\n",
       "      <td>313272</td>\n",
       "      <td>971613</td>\n",
       "      <td>0.712825</td>\n",
       "    </tr>\n",
       "    <tr>\n",
       "      <th>1</th>\n",
       "      <td>313272</td>\n",
       "      <td>919085</td>\n",
       "      <td>0.497451</td>\n",
       "    </tr>\n",
       "    <tr>\n",
       "      <th>2</th>\n",
       "      <td>313272</td>\n",
       "      <td>1254779</td>\n",
       "      <td>0.399541</td>\n",
       "    </tr>\n",
       "    <tr>\n",
       "      <th>3</th>\n",
       "      <td>313272</td>\n",
       "      <td>1313322</td>\n",
       "      <td>0.496942</td>\n",
       "    </tr>\n",
       "    <tr>\n",
       "      <th>4</th>\n",
       "      <td>313272</td>\n",
       "      <td>920249</td>\n",
       "      <td>0.499285</td>\n",
       "    </tr>\n",
       "  </tbody>\n",
       "</table>\n",
       "</div>"
      ],
      "text/plain": [
       "   user_a_db_id  user_b_db_id  similarity\n",
       "0        313272        971613    0.712825\n",
       "1        313272        919085    0.497451\n",
       "2        313272       1254779    0.399541\n",
       "3        313272       1313322    0.496942\n",
       "4        313272        920249    0.499285"
      ]
     },
     "execution_count": 27,
     "metadata": {},
     "output_type": "execute_result"
    }
   ],
   "source": [
    "similarity_df[:5]"
   ]
  },
  {
   "cell_type": "code",
   "execution_count": 28,
   "metadata": {},
   "outputs": [],
   "source": [
    "similarity_df.to_csv('../../dataset/las_vegas/las_vegas_user2user_similarities.csv', index=False)"
   ]
  },
  {
   "cell_type": "code",
   "execution_count": null,
   "metadata": {},
   "outputs": [],
   "source": []
  }
 ],
 "metadata": {
  "kernelspec": {
   "display_name": "Python 2",
   "language": "python",
   "name": "python2"
  },
  "language_info": {
   "codemirror_mode": {
    "name": "ipython",
    "version": 2
   },
   "file_extension": ".py",
   "mimetype": "text/x-python",
   "name": "python",
   "nbconvert_exporter": "python",
   "pygments_lexer": "ipython2",
   "version": "2.7.14"
  }
 },
 "nbformat": 4,
 "nbformat_minor": 2
}
